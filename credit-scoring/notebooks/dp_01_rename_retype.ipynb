{
 "cells": [
  {
   "cell_type": "code",
   "execution_count": null,
   "metadata": {
    "collapsed": true
   },
   "outputs": [],
   "source": []
  },
  {
   "cell_type": "markdown",
   "metadata": {},
   "source": [
    "## Bibioteki + funkcje"
   ]
  },
  {
   "cell_type": "code",
   "execution_count": 1,
   "metadata": {},
   "outputs": [
    {
     "name": "stdout",
     "output_type": "stream",
     "text": [
      "Wczytano podstawowe bilioteki!\n"
     ]
    }
   ],
   "source": [
    "%run ../scripts/init0.py"
   ]
  },
  {
   "cell_type": "code",
   "execution_count": 2,
   "metadata": {},
   "outputs": [
    {
     "name": "stdout",
     "output_type": "stream",
     "text": [
      "Wczytano funkcje użytkownika!\n"
     ]
    }
   ],
   "source": [
    "%run ../scripts/my_functions_01.py"
   ]
  },
  {
   "cell_type": "code",
   "execution_count": 3,
   "metadata": {},
   "outputs": [
    {
     "name": "stdout",
     "output_type": "stream",
     "text": [
      "Zmienne: train + test. Pomyślnie wczytano dane surowe!\n"
     ]
    }
   ],
   "source": [
    "%run ../scripts/load_data.py 'raw'"
   ]
  },
  {
   "cell_type": "code",
   "execution_count": null,
   "metadata": {
    "collapsed": true
   },
   "outputs": [],
   "source": []
  },
  {
   "cell_type": "markdown",
   "metadata": {},
   "source": [
    "## Oczyszczanie danych"
   ]
  },
  {
   "cell_type": "markdown",
   "metadata": {},
   "source": [
    "Z praktycznego punktu widzenia łączę train i test w jeden zbiór. Podział jest potrzebny dopiero na etapie modelowania.\n",
    "\n",
    "**data = train + test**"
   ]
  },
  {
   "cell_type": "code",
   "execution_count": 4,
   "metadata": {
    "collapsed": true
   },
   "outputs": [],
   "source": [
    "data = train.append(test).sort_index()"
   ]
  },
  {
   "cell_type": "code",
   "execution_count": 5,
   "metadata": {},
   "outputs": [
    {
     "data": {
      "text/plain": [
       "True"
      ]
     },
     "execution_count": 5,
     "metadata": {},
     "output_type": "execute_result"
    }
   ],
   "source": [
    "len(data) == len(train) + len(test)"
   ]
  },
  {
   "cell_type": "markdown",
   "metadata": {},
   "source": [
    "Aktualne zużycie pamięci"
   ]
  },
  {
   "cell_type": "code",
   "execution_count": 6,
   "metadata": {},
   "outputs": [
    {
     "name": "stdout",
     "output_type": "stream",
     "text": [
      "data: 38.99 MB\n"
     ]
    }
   ],
   "source": [
    "print('data: ' + str(np.round(data.memory_usage().sum()/1024/1024, 2)) + ' MB')"
   ]
  },
  {
   "cell_type": "markdown",
   "metadata": {},
   "source": [
    "Reset index"
   ]
  },
  {
   "cell_type": "code",
   "execution_count": 7,
   "metadata": {
    "collapsed": true
   },
   "outputs": [],
   "source": [
    "data = data.reset_index()"
   ]
  },
  {
   "cell_type": "markdown",
   "metadata": {},
   "source": [
    "Nowe nazwy zmiennych (do prostszego grupowania)"
   ]
  },
  {
   "cell_type": "code",
   "execution_count": 8,
   "metadata": {
    "collapsed": true
   },
   "outputs": [],
   "source": [
    "new_names = {\n",
    "    'b_request_date':           'date_request_b', \n",
    "    'date_confirmed':           'date_confirmed',\n",
    "    'conract_open_date':        'date_contract_open',\n",
    "    'final_payment_date':       'date_final_payment',\n",
    "    'real_date_closed_account': 'date_closed_account',\n",
    "    'str_start':                'date_start_sth',\n",
    "    'cred_limit':               'val_credit_limit',\n",
    "    'cur_debt':                 'val_debt_curr',\n",
    "    'next_payment':             'val_payment_next',\n",
    "    'cur_balance':              'val_balance_curr',\n",
    "    'cur_overdue_debt':         'val_debt_overdue_curr',\n",
    "    'max_amount_debt':          'val_debt_amount_max',\n",
    "    'customer_id':              'id_customer',\n",
    "    'b_id':                     'code_b',\n",
    "    'contract_type':            'code_contract_type',\n",
    "    'contract_status':          'code_contract_status',\n",
    "    'cur':                      'code_currency',\n",
    "    'trustability_code':        'code_trustability',\n",
    "    'interest_rate_loan':       'loan_rate',\n",
    "    'index':                    'id_index',\n",
    "}"
   ]
  },
  {
   "cell_type": "code",
   "execution_count": 9,
   "metadata": {},
   "outputs": [
    {
     "data": {
      "text/plain": [
       "Index(['cnt_delay_30d_59d', 'cnt_delay_5d_29d', 'cnt_delay_60d_89d',\n",
       "       'cnt_delay_upto_30d', 'cnt_delay_upto_5d', 'cnt_delay_upto_90d',\n",
       "       'code_b', 'code_contract_status', 'code_contract_type', 'code_currency',\n",
       "       'code_frequency_payments', 'code_relationship_contract',\n",
       "       'code_trustability', 'date_closed_account', 'date_confirmed',\n",
       "       'date_contract_open', 'date_final_payment', 'date_request_b',\n",
       "       'date_start_sth', 'duration_debt_days', 'id_customer', 'id_index',\n",
       "       'is_bad', 'loan_rate', 'val_balance_curr', 'val_credit_limit',\n",
       "       'val_debt_amount_max', 'val_debt_curr', 'val_debt_overdue_curr',\n",
       "       'val_payment_next'],\n",
       "      dtype='object')"
      ]
     },
     "execution_count": 9,
     "metadata": {},
     "output_type": "execute_result"
    }
   ],
   "source": [
    "data = data.rename(columns=new_names)\n",
    "data = data[sorted(data.columns)]\n",
    "data.columns"
   ]
  },
  {
   "cell_type": "markdown",
   "metadata": {},
   "source": [
    "Usunięcie wartości niezgodnej z typem kolumny"
   ]
  },
  {
   "cell_type": "code",
   "execution_count": 10,
   "metadata": {
    "collapsed": true
   },
   "outputs": [],
   "source": [
    "data.loc[data.date_closed_account == '8/22/1899','date_closed_account'] = np.nan"
   ]
  },
  {
   "cell_type": "markdown",
   "metadata": {},
   "source": [
    "Zamiana przecinków na kropki"
   ]
  },
  {
   "cell_type": "code",
   "execution_count": 11,
   "metadata": {
    "collapsed": true
   },
   "outputs": [],
   "source": [
    "data['val_debt_curr'] = data['val_debt_curr'].apply(lambda x: x if isinstance(x, float) else str(x.replace(',','.')))\n",
    "data['val_payment_next'] = data['val_payment_next'].apply(lambda x: x if isinstance(x, float) else str(x.replace(',','.')))\n",
    "data['val_debt_overdue_curr'] = data['val_debt_overdue_curr'].apply(lambda x: x if isinstance(x, float) else str(x.replace(',','.')))\n",
    "data['val_debt_amount_max'] = data['val_debt_amount_max'].apply(lambda x: x if isinstance(x, float) else str(x.replace(',','.')))"
   ]
  },
  {
   "cell_type": "markdown",
   "metadata": {},
   "source": [
    "Problem z formatem zapisu code_frequency_payments, dlatego zamiana A i B na 8 i 9"
   ]
  },
  {
   "cell_type": "code",
   "execution_count": 12,
   "metadata": {},
   "outputs": [
    {
     "data": {
      "text/plain": [
       "array([4.0, '3', '7', 7.0, 3.0, '0', '2', 2.0, 6.0, nan, 0.0, '6', '5',\n",
       "       'A', 5.0, '4', '1', 1.0, 'B'], dtype=object)"
      ]
     },
     "execution_count": 12,
     "metadata": {},
     "output_type": "execute_result"
    }
   ],
   "source": [
    "data.code_frequency_payments.unique()"
   ]
  },
  {
   "cell_type": "code",
   "execution_count": 13,
   "metadata": {
    "collapsed": true
   },
   "outputs": [],
   "source": [
    "data.loc[data.code_frequency_payments == \"A\", 'code_frequency_payments'] = '8'\n",
    "data.loc[data.code_frequency_payments == \"B\", 'code_frequency_payments'] = '9'"
   ]
  },
  {
   "cell_type": "code",
   "execution_count": 14,
   "metadata": {},
   "outputs": [
    {
     "data": {
      "text/plain": [
       "array([4.0, '3', '7', 7.0, 3.0, '0', '2', 2.0, 6.0, nan, 0.0, '6', '5',\n",
       "       '8', 5.0, '4', '1', 1.0, '9'], dtype=object)"
      ]
     },
     "execution_count": 14,
     "metadata": {},
     "output_type": "execute_result"
    }
   ],
   "source": [
    "data.code_frequency_payments.unique()"
   ]
  },
  {
   "cell_type": "markdown",
   "metadata": {},
   "source": [
    "Optymalizacja pamięci"
   ]
  },
  {
   "cell_type": "code",
   "execution_count": 15,
   "metadata": {},
   "outputs": [
    {
     "name": "stdout",
     "output_type": "stream",
     "text": [
      "cnt_delay_30d_59d(int64): wykryto bardziej odpowiedni typ: uint8\n",
      "cnt_delay_5d_29d(int64): wykryto bardziej odpowiedni typ: uint8\n",
      "cnt_delay_60d_89d(int64): wykryto bardziej odpowiedni typ: uint8\n",
      "cnt_delay_upto_30d(int64): wykryto bardziej odpowiedni typ: uint8\n",
      "cnt_delay_upto_5d(int64): wykryto bardziej odpowiedni typ: uint8\n",
      "cnt_delay_upto_90d(int64): wykryto bardziej odpowiedni typ: uint8\n",
      "code_b(int64): wykryto bardziej odpowiedni typ: uint8\n",
      "code_contract_status(int64): wykryto bardziej odpowiedni typ: uint8\n",
      "code_contract_type(int64): wykryto bardziej odpowiedni typ: uint8\n",
      "code_currency(int64): wykryto bardziej odpowiedni typ: uint8\n",
      "code_frequency_payments(object): wykryto bardziej odpowiedni typ: float64\n",
      "code_relationship_contract(int64): wykryto bardziej odpowiedni typ: uint8\n",
      "code_trustability(object): typ object jest OK! - znaleziono znaki nie będące liczbami ani kropką!\n",
      "date_closed_account(object): wykryto bardziej odpowiedni typ: float64\n",
      "date_confirmed(int64): wykryto bardziej odpowiedni typ: uint16\n",
      "date_contract_open(int64): wykryto bardziej odpowiedni typ: uint16\n",
      "date_final_payment(float64): typ float64 jest OK! - na razie nie ruszam float64\n",
      "date_request_b(int64): wykryto bardziej odpowiedni typ: uint16\n",
      "date_start_sth(float64): typ float64 jest OK! - na razie nie ruszam float64\n",
      "duration_debt_days(float64): typ float64 jest OK! - na razie nie ruszam float64\n",
      "id_customer(int64): wykryto bardziej odpowiedni typ: uint16\n",
      "id_index(int64): wykryto bardziej odpowiedni typ: uint32\n",
      "is_bad(float64): typ float64 jest OK! - na razie nie ruszam float64\n",
      "loan_rate(int64): wykryto bardziej odpowiedni typ: uint16\n",
      "val_balance_curr(float64): typ float64 jest OK! - na razie nie ruszam float64\n",
      "val_credit_limit(int64): wykryto bardziej odpowiedni typ: uint32\n",
      "val_debt_amount_max(object): wykryto bardziej odpowiedni typ: float64\n",
      "val_debt_curr(object): wykryto bardziej odpowiedni typ: float64\n",
      "val_debt_overdue_curr(object): wykryto bardziej odpowiedni typ: float64\n",
      "val_payment_next(object): wykryto bardziej odpowiedni typ: float64\n"
     ]
    }
   ],
   "source": [
    "for col in data.columns:\n",
    "    tmp = detect_col_type(data[col])\n",
    "    if tmp != data[col].dtype:\n",
    "        data[col] = data[col].astype(tmp)"
   ]
  },
  {
   "cell_type": "markdown",
   "metadata": {},
   "source": [
    "Zużycie pamięci po konwersjach"
   ]
  },
  {
   "cell_type": "code",
   "execution_count": 16,
   "metadata": {},
   "outputs": [
    {
     "name": "stdout",
     "output_type": "stream",
     "text": [
      "data: 20.31 MB\n"
     ]
    }
   ],
   "source": [
    "print('data: ' + str(np.round(data.memory_usage().sum()/1024/1024, 2)) + ' MB')"
   ]
  },
  {
   "cell_type": "code",
   "execution_count": 17,
   "metadata": {},
   "outputs": [
    {
     "name": "stdout",
     "output_type": "stream",
     "text": [
      "cnt_delay_30d_59d(uint8): typ uint8 jest OK!\n",
      "cnt_delay_5d_29d(uint8): typ uint8 jest OK!\n",
      "cnt_delay_60d_89d(uint8): typ uint8 jest OK!\n",
      "cnt_delay_upto_30d(uint8): typ uint8 jest OK!\n",
      "cnt_delay_upto_5d(uint8): typ uint8 jest OK!\n",
      "cnt_delay_upto_90d(uint8): typ uint8 jest OK!\n",
      "code_b(uint8): typ uint8 jest OK!\n",
      "code_contract_status(uint8): typ uint8 jest OK!\n",
      "code_contract_type(uint8): typ uint8 jest OK!\n",
      "code_currency(uint8): typ uint8 jest OK!\n",
      "code_frequency_payments(float64): typ float64 jest OK! - na razie nie ruszam float64\n",
      "code_relationship_contract(uint8): typ uint8 jest OK!\n",
      "code_trustability(object): typ object jest OK! - znaleziono znaki nie będące liczbami ani kropką!\n",
      "date_closed_account(float64): typ float64 jest OK! - na razie nie ruszam float64\n",
      "date_confirmed(uint16): typ uint16 jest OK!\n",
      "date_contract_open(uint16): typ uint16 jest OK!\n",
      "date_final_payment(float64): typ float64 jest OK! - na razie nie ruszam float64\n",
      "date_request_b(uint16): typ uint16 jest OK!\n",
      "date_start_sth(float64): typ float64 jest OK! - na razie nie ruszam float64\n",
      "duration_debt_days(float64): typ float64 jest OK! - na razie nie ruszam float64\n",
      "id_customer(uint16): typ uint16 jest OK!\n",
      "id_index(uint32): typ uint32 jest OK!\n",
      "is_bad(float64): typ float64 jest OK! - na razie nie ruszam float64\n",
      "loan_rate(uint16): typ uint16 jest OK!\n",
      "val_balance_curr(float64): typ float64 jest OK! - na razie nie ruszam float64\n",
      "val_credit_limit(uint32): typ uint32 jest OK!\n",
      "val_debt_amount_max(float64): typ float64 jest OK! - na razie nie ruszam float64\n",
      "val_debt_curr(float64): typ float64 jest OK! - na razie nie ruszam float64\n",
      "val_debt_overdue_curr(float64): typ float64 jest OK! - na razie nie ruszam float64\n",
      "val_payment_next(float64): typ float64 jest OK! - na razie nie ruszam float64\n"
     ]
    }
   ],
   "source": [
    "for col in data.columns:\n",
    "    tmp = detect_col_type(data[col])"
   ]
  },
  {
   "cell_type": "code",
   "execution_count": 18,
   "metadata": {},
   "outputs": [
    {
     "name": "stdout",
     "output_type": "stream",
     "text": [
      "<class 'pandas.core.frame.DataFrame'>\n",
      "RangeIndex: 170335 entries, 0 to 170334\n",
      "Data columns (total 30 columns):\n",
      "cnt_delay_30d_59d             170335 non-null uint8\n",
      "cnt_delay_5d_29d              170335 non-null uint8\n",
      "cnt_delay_60d_89d             170335 non-null uint8\n",
      "cnt_delay_upto_30d            170335 non-null uint8\n",
      "cnt_delay_upto_5d             170335 non-null uint8\n",
      "cnt_delay_upto_90d            170335 non-null uint8\n",
      "code_b                        170335 non-null uint8\n",
      "code_contract_status          170335 non-null uint8\n",
      "code_contract_type            170335 non-null uint8\n",
      "code_currency                 170335 non-null uint8\n",
      "code_frequency_payments       170210 non-null float64\n",
      "code_relationship_contract    170335 non-null uint8\n",
      "code_trustability             164826 non-null object\n",
      "date_closed_account           84244 non-null float64\n",
      "date_confirmed                170335 non-null uint16\n",
      "date_contract_open            170335 non-null uint16\n",
      "date_final_payment            159280 non-null float64\n",
      "date_request_b                170335 non-null uint16\n",
      "date_start_sth                160560 non-null float64\n",
      "duration_debt_days            138171 non-null float64\n",
      "id_customer                   170335 non-null uint16\n",
      "id_index                      170335 non-null uint32\n",
      "is_bad                        165454 non-null float64\n",
      "loan_rate                     170335 non-null uint16\n",
      "val_balance_curr              61694 non-null float64\n",
      "val_credit_limit              170335 non-null uint32\n",
      "val_debt_amount_max           170318 non-null float64\n",
      "val_debt_curr                 137677 non-null float64\n",
      "val_debt_overdue_curr         170318 non-null float64\n",
      "val_payment_next              77024 non-null float64\n",
      "dtypes: float64(11), object(1), uint16(5), uint32(2), uint8(11)\n",
      "memory usage: 20.3+ MB\n"
     ]
    }
   ],
   "source": [
    "data.info()"
   ]
  },
  {
   "cell_type": "code",
   "execution_count": null,
   "metadata": {
    "collapsed": true
   },
   "outputs": [],
   "source": []
  },
  {
   "cell_type": "markdown",
   "metadata": {},
   "source": [
    "### ZAPIS"
   ]
  },
  {
   "cell_type": "code",
   "execution_count": 19,
   "metadata": {},
   "outputs": [
    {
     "name": "stdout",
     "output_type": "stream",
     "text": [
      "Zapisano data do pliku ../data/data.base.h5\n"
     ]
    }
   ],
   "source": [
    "data.to_hdf('../data/data.base.h5', 'base', format='table', mode='w')\n",
    "print('Zapisano data do pliku ../data/data.base.h5')"
   ]
  },
  {
   "cell_type": "code",
   "execution_count": null,
   "metadata": {
    "collapsed": true
   },
   "outputs": [],
   "source": []
  }
 ],
 "metadata": {
  "kernelspec": {
   "display_name": "Python 3",
   "language": "python",
   "name": "python3"
  },
  "language_info": {
   "codemirror_mode": {
    "name": "ipython",
    "version": 3
   },
   "file_extension": ".py",
   "mimetype": "text/x-python",
   "name": "python",
   "nbconvert_exporter": "python",
   "pygments_lexer": "ipython3",
   "version": "3.6.2"
  }
 },
 "nbformat": 4,
 "nbformat_minor": 2
}
