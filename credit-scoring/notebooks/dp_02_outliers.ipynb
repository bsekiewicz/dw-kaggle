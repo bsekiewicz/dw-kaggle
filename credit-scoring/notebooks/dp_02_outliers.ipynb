{
 "cells": [
  {
   "cell_type": "code",
   "execution_count": null,
   "metadata": {
    "collapsed": true
   },
   "outputs": [],
   "source": []
  },
  {
   "cell_type": "markdown",
   "metadata": {},
   "source": [
    "## Biblioteki + funckje"
   ]
  },
  {
   "cell_type": "code",
   "execution_count": 1,
   "metadata": {},
   "outputs": [
    {
     "name": "stdout",
     "output_type": "stream",
     "text": [
      "Wczytano podstawowe bilioteki!\n"
     ]
    }
   ],
   "source": [
    "%run ../scripts/init0.py\n",
    "\n",
    "%matplotlib inline"
   ]
  },
  {
   "cell_type": "code",
   "execution_count": 2,
   "metadata": {},
   "outputs": [
    {
     "name": "stdout",
     "output_type": "stream",
     "text": [
      "Wczytano funkcje użytkownika!\n"
     ]
    }
   ],
   "source": [
    "%run ../scripts/my_functions_01.py"
   ]
  },
  {
   "cell_type": "code",
   "execution_count": 3,
   "metadata": {},
   "outputs": [
    {
     "name": "stdout",
     "output_type": "stream",
     "text": [
      "Zmienne: data. Pomyślnie wczytano dane podstawowe (dane raw przekształcone do formy używalnej). Dodatkowo zmieniono nazwy niektórych zmiennych, tak aby łatwiej było je grupować.\n"
     ]
    }
   ],
   "source": [
    "%run ../scripts/load_data.py 'base'"
   ]
  },
  {
   "cell_type": "code",
   "execution_count": null,
   "metadata": {
    "collapsed": true
   },
   "outputs": [],
   "source": []
  },
  {
   "cell_type": "markdown",
   "metadata": {},
   "source": [
    "## Outliers\n",
    "\n",
    "Szukam wartości mocno odstających (lub niezgodnych z definicją zmiennej) i wyrzucam rekordy ze zbioru (za wyjątkiem danych ze zbioru testowego). Do rozpatrzenia podmiana na NaN, lub inne statystyki (min, max lub mean, median z nie outlierów)."
   ]
  },
  {
   "cell_type": "code",
   "execution_count": null,
   "metadata": {
    "collapsed": true
   },
   "outputs": [],
   "source": []
  },
  {
   "cell_type": "markdown",
   "metadata": {},
   "source": [
    "### Daty"
   ]
  },
  {
   "cell_type": "code",
   "execution_count": 4,
   "metadata": {},
   "outputs": [
    {
     "data": {
      "text/html": [
       "<div>\n",
       "<style>\n",
       "    .dataframe thead tr:only-child th {\n",
       "        text-align: right;\n",
       "    }\n",
       "\n",
       "    .dataframe thead th {\n",
       "        text-align: left;\n",
       "    }\n",
       "\n",
       "    .dataframe tbody tr th {\n",
       "        vertical-align: top;\n",
       "    }\n",
       "</style>\n",
       "<table border=\"1\" class=\"dataframe\">\n",
       "  <thead>\n",
       "    <tr style=\"text-align: right;\">\n",
       "      <th></th>\n",
       "      <th>col_name</th>\n",
       "      <th>n</th>\n",
       "      <th>n_nan</th>\n",
       "      <th>p_nan</th>\n",
       "      <th>n_neg</th>\n",
       "      <th>p_neg</th>\n",
       "      <th>n_zero</th>\n",
       "      <th>p_zero</th>\n",
       "      <th>n_inf</th>\n",
       "      <th>p_inf</th>\n",
       "      <th>n_blank</th>\n",
       "      <th>p_blank</th>\n",
       "      <th>n_distinct</th>\n",
       "      <th>col_type</th>\n",
       "      <th>max_val_change</th>\n",
       "      <th>sum_of_p</th>\n",
       "    </tr>\n",
       "  </thead>\n",
       "  <tbody>\n",
       "    <tr>\n",
       "      <th>0</th>\n",
       "      <td>date_closed_account</td>\n",
       "      <td>170335</td>\n",
       "      <td>86091</td>\n",
       "      <td>0.505</td>\n",
       "      <td>0</td>\n",
       "      <td>0.0</td>\n",
       "      <td>0</td>\n",
       "      <td>0.0</td>\n",
       "      <td>0</td>\n",
       "      <td>0.0</td>\n",
       "      <td>0</td>\n",
       "      <td>0</td>\n",
       "      <td>2205</td>\n",
       "      <td>float64</td>\n",
       "      <td>0.995</td>\n",
       "      <td>0.505</td>\n",
       "    </tr>\n",
       "    <tr>\n",
       "      <th>0</th>\n",
       "      <td>date_final_payment</td>\n",
       "      <td>170335</td>\n",
       "      <td>11055</td>\n",
       "      <td>0.065</td>\n",
       "      <td>0</td>\n",
       "      <td>0.0</td>\n",
       "      <td>0</td>\n",
       "      <td>0.0</td>\n",
       "      <td>0</td>\n",
       "      <td>0.0</td>\n",
       "      <td>0</td>\n",
       "      <td>0</td>\n",
       "      <td>6887</td>\n",
       "      <td>float64</td>\n",
       "      <td>0.003</td>\n",
       "      <td>0.065</td>\n",
       "    </tr>\n",
       "    <tr>\n",
       "      <th>0</th>\n",
       "      <td>date_start_sth</td>\n",
       "      <td>170335</td>\n",
       "      <td>9775</td>\n",
       "      <td>0.057</td>\n",
       "      <td>0</td>\n",
       "      <td>0.0</td>\n",
       "      <td>0</td>\n",
       "      <td>0.0</td>\n",
       "      <td>0</td>\n",
       "      <td>0.0</td>\n",
       "      <td>0</td>\n",
       "      <td>0</td>\n",
       "      <td>2225</td>\n",
       "      <td>float64</td>\n",
       "      <td>0.993</td>\n",
       "      <td>0.057</td>\n",
       "    </tr>\n",
       "    <tr>\n",
       "      <th>0</th>\n",
       "      <td>date_confirmed</td>\n",
       "      <td>170335</td>\n",
       "      <td>0</td>\n",
       "      <td>0.000</td>\n",
       "      <td>0</td>\n",
       "      <td>0.0</td>\n",
       "      <td>0</td>\n",
       "      <td>0.0</td>\n",
       "      <td>0</td>\n",
       "      <td>0.0</td>\n",
       "      <td>0</td>\n",
       "      <td>0</td>\n",
       "      <td>2146</td>\n",
       "      <td>uint16</td>\n",
       "      <td>0.999</td>\n",
       "      <td>0.000</td>\n",
       "    </tr>\n",
       "    <tr>\n",
       "      <th>0</th>\n",
       "      <td>date_contract_open</td>\n",
       "      <td>170335</td>\n",
       "      <td>0</td>\n",
       "      <td>0.000</td>\n",
       "      <td>0</td>\n",
       "      <td>0.0</td>\n",
       "      <td>0</td>\n",
       "      <td>0.0</td>\n",
       "      <td>0</td>\n",
       "      <td>0.0</td>\n",
       "      <td>0</td>\n",
       "      <td>0</td>\n",
       "      <td>2891</td>\n",
       "      <td>uint16</td>\n",
       "      <td>0.957</td>\n",
       "      <td>0.000</td>\n",
       "    </tr>\n",
       "    <tr>\n",
       "      <th>0</th>\n",
       "      <td>date_request_b</td>\n",
       "      <td>170335</td>\n",
       "      <td>0</td>\n",
       "      <td>0.000</td>\n",
       "      <td>0</td>\n",
       "      <td>0.0</td>\n",
       "      <td>0</td>\n",
       "      <td>0.0</td>\n",
       "      <td>0</td>\n",
       "      <td>0.0</td>\n",
       "      <td>0</td>\n",
       "      <td>0</td>\n",
       "      <td>272</td>\n",
       "      <td>uint16</td>\n",
       "      <td>1.000</td>\n",
       "      <td>0.000</td>\n",
       "    </tr>\n",
       "  </tbody>\n",
       "</table>\n",
       "</div>"
      ],
      "text/plain": [
       "              col_name       n  n_nan  p_nan  n_neg  p_neg  n_zero  p_zero  \\\n",
       "0  date_closed_account  170335  86091  0.505      0    0.0       0     0.0   \n",
       "0   date_final_payment  170335  11055  0.065      0    0.0       0     0.0   \n",
       "0       date_start_sth  170335   9775  0.057      0    0.0       0     0.0   \n",
       "0       date_confirmed  170335      0  0.000      0    0.0       0     0.0   \n",
       "0   date_contract_open  170335      0  0.000      0    0.0       0     0.0   \n",
       "0       date_request_b  170335      0  0.000      0    0.0       0     0.0   \n",
       "\n",
       "   n_inf  p_inf  n_blank  p_blank  n_distinct col_type  max_val_change  \\\n",
       "0      0    0.0        0        0        2205  float64           0.995   \n",
       "0      0    0.0        0        0        6887  float64           0.003   \n",
       "0      0    0.0        0        0        2225  float64           0.993   \n",
       "0      0    0.0        0        0        2146   uint16           0.999   \n",
       "0      0    0.0        0        0        2891   uint16           0.957   \n",
       "0      0    0.0        0        0         272   uint16           1.000   \n",
       "\n",
       "   sum_of_p  \n",
       "0     0.505  \n",
       "0     0.065  \n",
       "0     0.057  \n",
       "0     0.000  \n",
       "0     0.000  \n",
       "0     0.000  "
      ]
     },
     "execution_count": 4,
     "metadata": {},
     "output_type": "execute_result"
    }
   ],
   "source": [
    "anomalies = pd.DataFrame()\n",
    "for column in data.filter(regex='^date').columns:\n",
    "    anomalies = anomalies.append(anomalies_summary(data[column]))\n",
    "anomalies.sort_values(by='sum_of_p', ascending=False)"
   ]
  },
  {
   "cell_type": "markdown",
   "metadata": {},
   "source": [
    "Niepokojące **max_val_change** dla `date_final_payment` oraz do sprawdzenia dla `date_contract_open`"
   ]
  },
  {
   "cell_type": "code",
   "execution_count": 5,
   "metadata": {},
   "outputs": [
    {
     "data": {
      "image/png": "[encoded data removed]",
      "text/plain": [
       "<matplotlib.figure.Figure at 0x7f6822bde048>"
      ]
     },
     "metadata": {},
     "output_type": "display_data"
    }
   ],
   "source": [
    "plot_anomalies_max_val_change(data['date_final_payment']);"
   ]
  },
  {
   "cell_type": "code",
   "execution_count": 6,
   "metadata": {},
   "outputs": [
    {
     "data": {
      "image/png": "[encoded data removed]",
      "text/plain": [
       "<matplotlib.figure.Figure at 0x7f6822c04128>"
      ]
     },
     "metadata": {},
     "output_type": "display_data"
    }
   ],
   "source": [
    "plot_anomalies_max_val_change(data['date_contract_open']);"
   ]
  },
  {
   "cell_type": "markdown",
   "metadata": {},
   "source": [
    "W przypadku `date_final_payment` mamy skoki wartości zarówno przy niskich danach jak i wysokich, natomiast dla `date_contract_open` jest skok dla małych dat."
   ]
  },
  {
   "cell_type": "code",
   "execution_count": 7,
   "metadata": {},
   "outputs": [
    {
     "data": {
      "text/plain": [
       "[72958.0, 72959.0, 72960.0, 72961.0, 771529.0]"
      ]
     },
     "execution_count": 7,
     "metadata": {},
     "output_type": "execute_result"
    }
   ],
   "source": [
    "sorted(data.date_final_payment.unique())[-5:]"
   ]
  },
  {
   "cell_type": "code",
   "execution_count": 8,
   "metadata": {},
   "outputs": [
    {
     "data": {
      "text/plain": [
       "[36951.0, 36926.0, 36799.0, 99.0, 63.0]"
      ]
     },
     "execution_count": 8,
     "metadata": {},
     "output_type": "execute_result"
    }
   ],
   "source": [
    "sorted(data.date_final_payment.unique(), reverse = True)[-5:]"
   ]
  },
  {
   "cell_type": "markdown",
   "metadata": {},
   "source": [
    "Usuwam rekordy `date_final_payment` z rokiem ~1900 i ~4200 (łącznie 3 rekordy)"
   ]
  },
  {
   "cell_type": "code",
   "execution_count": 9,
   "metadata": {
    "collapsed": true
   },
   "outputs": [],
   "source": [
    "data=data[((data.date_final_payment > 100) & (data.date_final_payment < 771520)) | (data.date_final_payment.isnull())]"
   ]
  },
  {
   "cell_type": "code",
   "execution_count": 10,
   "metadata": {},
   "outputs": [
    {
     "data": {
      "image/png": "[encoded data removed]",
      "text/plain": [
       "<matplotlib.figure.Figure at 0x7f6822e5d320>"
      ]
     },
     "metadata": {},
     "output_type": "display_data"
    }
   ],
   "source": [
    "plot_anomalies_max_val_change(data['date_final_payment']);"
   ]
  },
  {
   "cell_type": "markdown",
   "metadata": {},
   "source": [
    "Pozostają jeszcze anomalie w okolicy roku 2100, ale być może jest to coś na zasadzie 'dożywotnio'"
   ]
  },
  {
   "cell_type": "code",
   "execution_count": 11,
   "metadata": {},
   "outputs": [
    {
     "data": {
      "text/plain": [
       "[36345, 36344, 36343, 35550, 34004]"
      ]
     },
     "execution_count": 11,
     "metadata": {},
     "output_type": "execute_result"
    }
   ],
   "source": [
    "sorted(data.date_contract_open, reverse = True)[-5:]"
   ]
  },
  {
   "cell_type": "markdown",
   "metadata": {},
   "source": [
    "Usuwam rekordy `date_contract_open` z wartościami 35550 i 34004 (łącznie 2 rekordy)"
   ]
  },
  {
   "cell_type": "code",
   "execution_count": 12,
   "metadata": {
    "collapsed": true
   },
   "outputs": [],
   "source": [
    "data=data[(data.date_contract_open > 35550) | (data.date_contract_open.isnull())]"
   ]
  },
  {
   "cell_type": "code",
   "execution_count": 13,
   "metadata": {},
   "outputs": [
    {
     "data": {
      "image/png": "[encoded data removed]",
      "text/plain": [
       "<matplotlib.figure.Figure at 0x7f6822d48978>"
      ]
     },
     "metadata": {},
     "output_type": "display_data"
    }
   ],
   "source": [
    "plot_anomalies_max_val_change(data['date_contract_open']);"
   ]
  },
  {
   "cell_type": "markdown",
   "metadata": {
    "collapsed": true
   },
   "source": [
    "Zakładam, że `date_closed_account >= date_contract_open`, dlatego niepoprawne obserwacje usuwam (łącznie 17 rekordów)"
   ]
  },
  {
   "cell_type": "code",
   "execution_count": 14,
   "metadata": {},
   "outputs": [
    {
     "data": {
      "text/html": [
       "<div>\n",
       "<style>\n",
       "    .dataframe thead tr:only-child th {\n",
       "        text-align: right;\n",
       "    }\n",
       "\n",
       "    .dataframe thead th {\n",
       "        text-align: left;\n",
       "    }\n",
       "\n",
       "    .dataframe tbody tr th {\n",
       "        vertical-align: top;\n",
       "    }\n",
       "</style>\n",
       "<table border=\"1\" class=\"dataframe\">\n",
       "  <thead>\n",
       "    <tr style=\"text-align: right;\">\n",
       "      <th></th>\n",
       "      <th>date_closed_account</th>\n",
       "      <th>date_contract_open</th>\n",
       "    </tr>\n",
       "  </thead>\n",
       "  <tbody>\n",
       "    <tr>\n",
       "      <th>15970</th>\n",
       "      <td>38568.0</td>\n",
       "      <td>38859</td>\n",
       "    </tr>\n",
       "    <tr>\n",
       "      <th>89380</th>\n",
       "      <td>39294.0</td>\n",
       "      <td>39993</td>\n",
       "    </tr>\n",
       "    <tr>\n",
       "      <th>94813</th>\n",
       "      <td>39218.0</td>\n",
       "      <td>40061</td>\n",
       "    </tr>\n",
       "    <tr>\n",
       "      <th>100857</th>\n",
       "      <td>39094.0</td>\n",
       "      <td>40128</td>\n",
       "    </tr>\n",
       "    <tr>\n",
       "      <th>137224</th>\n",
       "      <td>40074.0</td>\n",
       "      <td>40393</td>\n",
       "    </tr>\n",
       "    <tr>\n",
       "      <th>139841</th>\n",
       "      <td>39636.0</td>\n",
       "      <td>40408</td>\n",
       "    </tr>\n",
       "    <tr>\n",
       "      <th>143590</th>\n",
       "      <td>40360.0</td>\n",
       "      <td>40429</td>\n",
       "    </tr>\n",
       "    <tr>\n",
       "      <th>145696</th>\n",
       "      <td>39868.0</td>\n",
       "      <td>40440</td>\n",
       "    </tr>\n",
       "    <tr>\n",
       "      <th>149004</th>\n",
       "      <td>40394.0</td>\n",
       "      <td>40458</td>\n",
       "    </tr>\n",
       "    <tr>\n",
       "      <th>151798</th>\n",
       "      <td>40379.0</td>\n",
       "      <td>40473</td>\n",
       "    </tr>\n",
       "    <tr>\n",
       "      <th>154412</th>\n",
       "      <td>39315.0</td>\n",
       "      <td>40486</td>\n",
       "    </tr>\n",
       "    <tr>\n",
       "      <th>157712</th>\n",
       "      <td>39187.0</td>\n",
       "      <td>40506</td>\n",
       "    </tr>\n",
       "    <tr>\n",
       "      <th>159270</th>\n",
       "      <td>39330.0</td>\n",
       "      <td>40515</td>\n",
       "    </tr>\n",
       "    <tr>\n",
       "      <th>160070</th>\n",
       "      <td>39680.0</td>\n",
       "      <td>40520</td>\n",
       "    </tr>\n",
       "    <tr>\n",
       "      <th>160828</th>\n",
       "      <td>39444.0</td>\n",
       "      <td>40525</td>\n",
       "    </tr>\n",
       "    <tr>\n",
       "      <th>166650</th>\n",
       "      <td>39792.0</td>\n",
       "      <td>40574</td>\n",
       "    </tr>\n",
       "    <tr>\n",
       "      <th>166657</th>\n",
       "      <td>40344.0</td>\n",
       "      <td>40574</td>\n",
       "    </tr>\n",
       "  </tbody>\n",
       "</table>\n",
       "</div>"
      ],
      "text/plain": [
       "        date_closed_account  date_contract_open\n",
       "15970               38568.0               38859\n",
       "89380               39294.0               39993\n",
       "94813               39218.0               40061\n",
       "100857              39094.0               40128\n",
       "137224              40074.0               40393\n",
       "139841              39636.0               40408\n",
       "143590              40360.0               40429\n",
       "145696              39868.0               40440\n",
       "149004              40394.0               40458\n",
       "151798              40379.0               40473\n",
       "154412              39315.0               40486\n",
       "157712              39187.0               40506\n",
       "159270              39330.0               40515\n",
       "160070              39680.0               40520\n",
       "160828              39444.0               40525\n",
       "166650              39792.0               40574\n",
       "166657              40344.0               40574"
      ]
     },
     "execution_count": 14,
     "metadata": {},
     "output_type": "execute_result"
    }
   ],
   "source": [
    "data.loc[data.date_closed_account < data.date_contract_open, ['date_closed_account', 'date_contract_open']]"
   ]
  },
  {
   "cell_type": "code",
   "execution_count": 15,
   "metadata": {
    "collapsed": true
   },
   "outputs": [],
   "source": [
    "data = data.loc[(data.date_closed_account >= data.date_contract_open) | data.date_closed_account.isnull()]"
   ]
  },
  {
   "cell_type": "code",
   "execution_count": 16,
   "metadata": {},
   "outputs": [
    {
     "data": {
      "text/html": [
       "<div>\n",
       "<style>\n",
       "    .dataframe thead tr:only-child th {\n",
       "        text-align: right;\n",
       "    }\n",
       "\n",
       "    .dataframe thead th {\n",
       "        text-align: left;\n",
       "    }\n",
       "\n",
       "    .dataframe tbody tr th {\n",
       "        vertical-align: top;\n",
       "    }\n",
       "</style>\n",
       "<table border=\"1\" class=\"dataframe\">\n",
       "  <thead>\n",
       "    <tr style=\"text-align: right;\">\n",
       "      <th></th>\n",
       "      <th>cnt_delay_30d_59d</th>\n",
       "      <th>cnt_delay_5d_29d</th>\n",
       "      <th>cnt_delay_60d_89d</th>\n",
       "      <th>cnt_delay_upto_30d</th>\n",
       "      <th>cnt_delay_upto_5d</th>\n",
       "      <th>cnt_delay_upto_90d</th>\n",
       "      <th>code_b</th>\n",
       "      <th>code_contract_status</th>\n",
       "      <th>code_contract_type</th>\n",
       "      <th>code_currency</th>\n",
       "      <th>...</th>\n",
       "      <th>id_customer</th>\n",
       "      <th>id_index</th>\n",
       "      <th>is_bad</th>\n",
       "      <th>loan_rate</th>\n",
       "      <th>val_balance_curr</th>\n",
       "      <th>val_credit_limit</th>\n",
       "      <th>val_debt_amount_max</th>\n",
       "      <th>val_debt_curr</th>\n",
       "      <th>val_debt_overdue_curr</th>\n",
       "      <th>val_payment_next</th>\n",
       "    </tr>\n",
       "  </thead>\n",
       "  <tbody>\n",
       "  </tbody>\n",
       "</table>\n",
       "<p>0 rows × 30 columns</p>\n",
       "</div>"
      ],
      "text/plain": [
       "Empty DataFrame\n",
       "Columns: [cnt_delay_30d_59d, cnt_delay_5d_29d, cnt_delay_60d_89d, cnt_delay_upto_30d, cnt_delay_upto_5d, cnt_delay_upto_90d, code_b, code_contract_status, code_contract_type, code_currency, code_frequency_payments, code_relationship_contract, code_trustability, date_closed_account, date_confirmed, date_contract_open, date_final_payment, date_request_b, date_start_sth, duration_debt_days, id_customer, id_index, is_bad, loan_rate, val_balance_curr, val_credit_limit, val_debt_amount_max, val_debt_curr, val_debt_overdue_curr, val_payment_next]\n",
       "Index: []\n",
       "\n",
       "[0 rows x 30 columns]"
      ]
     },
     "execution_count": 16,
     "metadata": {},
     "output_type": "execute_result"
    }
   ],
   "source": [
    "data.loc[data.date_closed_account < data.date_contract_open]"
   ]
  },
  {
   "cell_type": "code",
   "execution_count": null,
   "metadata": {
    "collapsed": true
   },
   "outputs": [],
   "source": []
  },
  {
   "cell_type": "markdown",
   "metadata": {},
   "source": [
    "## KWOTY"
   ]
  },
  {
   "cell_type": "code",
   "execution_count": 17,
   "metadata": {},
   "outputs": [
    {
     "data": {
      "text/html": [
       "<div>\n",
       "<style>\n",
       "    .dataframe thead tr:only-child th {\n",
       "        text-align: right;\n",
       "    }\n",
       "\n",
       "    .dataframe thead th {\n",
       "        text-align: left;\n",
       "    }\n",
       "\n",
       "    .dataframe tbody tr th {\n",
       "        vertical-align: top;\n",
       "    }\n",
       "</style>\n",
       "<table border=\"1\" class=\"dataframe\">\n",
       "  <thead>\n",
       "    <tr style=\"text-align: right;\">\n",
       "      <th></th>\n",
       "      <th>col_name</th>\n",
       "      <th>n</th>\n",
       "      <th>n_nan</th>\n",
       "      <th>p_nan</th>\n",
       "      <th>n_neg</th>\n",
       "      <th>p_neg</th>\n",
       "      <th>n_zero</th>\n",
       "      <th>p_zero</th>\n",
       "      <th>n_inf</th>\n",
       "      <th>p_inf</th>\n",
       "      <th>n_blank</th>\n",
       "      <th>p_blank</th>\n",
       "      <th>n_distinct</th>\n",
       "      <th>col_type</th>\n",
       "      <th>max_val_change</th>\n",
       "      <th>sum_of_p</th>\n",
       "    </tr>\n",
       "  </thead>\n",
       "  <tbody>\n",
       "    <tr>\n",
       "      <th>0</th>\n",
       "      <td>val_debt_overdue_curr</td>\n",
       "      <td>170313</td>\n",
       "      <td>17</td>\n",
       "      <td>0.000</td>\n",
       "      <td>0</td>\n",
       "      <td>0.0</td>\n",
       "      <td>159335</td>\n",
       "      <td>0.936</td>\n",
       "      <td>0</td>\n",
       "      <td>0.0</td>\n",
       "      <td>0</td>\n",
       "      <td>0</td>\n",
       "      <td>6968</td>\n",
       "      <td>float64</td>\n",
       "      <td>0.200</td>\n",
       "      <td>0.936</td>\n",
       "    </tr>\n",
       "    <tr>\n",
       "      <th>0</th>\n",
       "      <td>val_payment_next</td>\n",
       "      <td>170313</td>\n",
       "      <td>93309</td>\n",
       "      <td>0.548</td>\n",
       "      <td>0</td>\n",
       "      <td>0.0</td>\n",
       "      <td>42367</td>\n",
       "      <td>0.249</td>\n",
       "      <td>0</td>\n",
       "      <td>0.0</td>\n",
       "      <td>0</td>\n",
       "      <td>0</td>\n",
       "      <td>9745</td>\n",
       "      <td>float64</td>\n",
       "      <td>0.023</td>\n",
       "      <td>0.797</td>\n",
       "    </tr>\n",
       "    <tr>\n",
       "      <th>0</th>\n",
       "      <td>val_debt_amount_max</td>\n",
       "      <td>170313</td>\n",
       "      <td>17</td>\n",
       "      <td>0.000</td>\n",
       "      <td>0</td>\n",
       "      <td>0.0</td>\n",
       "      <td>135602</td>\n",
       "      <td>0.796</td>\n",
       "      <td>0</td>\n",
       "      <td>0.0</td>\n",
       "      <td>0</td>\n",
       "      <td>0</td>\n",
       "      <td>25045</td>\n",
       "      <td>float64</td>\n",
       "      <td>0.224</td>\n",
       "      <td>0.796</td>\n",
       "    </tr>\n",
       "    <tr>\n",
       "      <th>0</th>\n",
       "      <td>val_balance_curr</td>\n",
       "      <td>170313</td>\n",
       "      <td>108621</td>\n",
       "      <td>0.638</td>\n",
       "      <td>0</td>\n",
       "      <td>0.0</td>\n",
       "      <td>10463</td>\n",
       "      <td>0.061</td>\n",
       "      <td>0</td>\n",
       "      <td>0.0</td>\n",
       "      <td>0</td>\n",
       "      <td>0</td>\n",
       "      <td>35522</td>\n",
       "      <td>float64</td>\n",
       "      <td>0.420</td>\n",
       "      <td>0.699</td>\n",
       "    </tr>\n",
       "    <tr>\n",
       "      <th>0</th>\n",
       "      <td>val_debt_curr</td>\n",
       "      <td>170313</td>\n",
       "      <td>32656</td>\n",
       "      <td>0.192</td>\n",
       "      <td>34</td>\n",
       "      <td>0.0</td>\n",
       "      <td>77448</td>\n",
       "      <td>0.455</td>\n",
       "      <td>0</td>\n",
       "      <td>0.0</td>\n",
       "      <td>0</td>\n",
       "      <td>0</td>\n",
       "      <td>43559</td>\n",
       "      <td>float64</td>\n",
       "      <td>0.460</td>\n",
       "      <td>0.647</td>\n",
       "    </tr>\n",
       "    <tr>\n",
       "      <th>0</th>\n",
       "      <td>val_credit_limit</td>\n",
       "      <td>170313</td>\n",
       "      <td>0</td>\n",
       "      <td>0.000</td>\n",
       "      <td>0</td>\n",
       "      <td>0.0</td>\n",
       "      <td>3676</td>\n",
       "      <td>0.022</td>\n",
       "      <td>0</td>\n",
       "      <td>0.0</td>\n",
       "      <td>0</td>\n",
       "      <td>0</td>\n",
       "      <td>30041</td>\n",
       "      <td>uint32</td>\n",
       "      <td>0.100</td>\n",
       "      <td>0.022</td>\n",
       "    </tr>\n",
       "  </tbody>\n",
       "</table>\n",
       "</div>"
      ],
      "text/plain": [
       "                col_name       n   n_nan  p_nan  n_neg  p_neg  n_zero  p_zero  \\\n",
       "0  val_debt_overdue_curr  170313      17  0.000      0    0.0  159335   0.936   \n",
       "0       val_payment_next  170313   93309  0.548      0    0.0   42367   0.249   \n",
       "0    val_debt_amount_max  170313      17  0.000      0    0.0  135602   0.796   \n",
       "0       val_balance_curr  170313  108621  0.638      0    0.0   10463   0.061   \n",
       "0          val_debt_curr  170313   32656  0.192     34    0.0   77448   0.455   \n",
       "0       val_credit_limit  170313       0  0.000      0    0.0    3676   0.022   \n",
       "\n",
       "   n_inf  p_inf  n_blank  p_blank  n_distinct col_type  max_val_change  \\\n",
       "0      0    0.0        0        0        6968  float64           0.200   \n",
       "0      0    0.0        0        0        9745  float64           0.023   \n",
       "0      0    0.0        0        0       25045  float64           0.224   \n",
       "0      0    0.0        0        0       35522  float64           0.420   \n",
       "0      0    0.0        0        0       43559  float64           0.460   \n",
       "0      0    0.0        0        0       30041   uint32           0.100   \n",
       "\n",
       "   sum_of_p  \n",
       "0     0.936  \n",
       "0     0.797  \n",
       "0     0.796  \n",
       "0     0.699  \n",
       "0     0.647  \n",
       "0     0.022  "
      ]
     },
     "execution_count": 17,
     "metadata": {},
     "output_type": "execute_result"
    }
   ],
   "source": [
    "anomalies = pd.DataFrame()\n",
    "for column in data.filter(regex='^val').columns:\n",
    "    anomalies = anomalies.append(anomalies_summary(data[column]))\n",
    "anomalies.sort_values(by='sum_of_p', ascending=False)"
   ]
  },
  {
   "cell_type": "markdown",
   "metadata": {},
   "source": [
    "`val_debt_curr` posiada 34 wartości ujemne, natomiast wszystkie zmienne mają mocne zmiany wartości (najbardziej `val_payment_next`)"
   ]
  },
  {
   "cell_type": "code",
   "execution_count": 18,
   "metadata": {},
   "outputs": [
    {
     "data": {
      "image/png": "[encoded data removed]",
      "text/plain": [
       "<matplotlib.figure.Figure at 0x7f68230a1fd0>"
      ]
     },
     "metadata": {},
     "output_type": "display_data"
    },
    {
     "data": {
      "image/png": "[encoded data removed]",
      "text/plain": [
       "<matplotlib.figure.Figure at 0x7f68230018d0>"
      ]
     },
     "metadata": {},
     "output_type": "display_data"
    },
    {
     "data": {
      "image/png": "[encoded data removed]",
      "text/plain": [
       "<matplotlib.figure.Figure at 0x7f682311f668>"
      ]
     },
     "metadata": {},
     "output_type": "display_data"
    },
    {
     "data": {
      "image/png": "[encoded data removed]",
      "text/plain": [
       "<matplotlib.figure.Figure at 0x7f6822ca3e48>"
      ]
     },
     "metadata": {},
     "output_type": "display_data"
    },
    {
     "data": {
      "image/png": "[encoded data removed]",
      "text/plain": [
       "<matplotlib.figure.Figure at 0x7f6822ddf198>"
      ]
     },
     "metadata": {},
     "output_type": "display_data"
    },
    {
     "data": {
      "image/png": "[encoded data removed]",
      "text/plain": [
       "<matplotlib.figure.Figure at 0x7f6822c72fd0>"
      ]
     },
     "metadata": {},
     "output_type": "display_data"
    }
   ],
   "source": [
    "for column in data.filter(regex='^val').columns:\n",
    "    plot_anomalies_max_val_change(data[column]);"
   ]
  },
  {
   "cell_type": "markdown",
   "metadata": {},
   "source": [
    "Ujemne `val_debt_curr` zamieniam na 0 (z uwagi na to, że jedna z obserwacji jest ze zbioru testowego)"
   ]
  },
  {
   "cell_type": "code",
   "execution_count": 19,
   "metadata": {
    "collapsed": true
   },
   "outputs": [],
   "source": [
    "data.loc[(data.val_debt_curr < 0) & (~data.val_debt_curr.isnull()), 'val_debt_curr'] = 0"
   ]
  },
  {
   "cell_type": "markdown",
   "metadata": {},
   "source": [
    "Usuwam obserwację z wartością bardzo odstającą dla `val_payment_next` (łącznie 1 rekord)"
   ]
  },
  {
   "cell_type": "code",
   "execution_count": 20,
   "metadata": {
    "collapsed": true
   },
   "outputs": [],
   "source": [
    "data=data[(data.val_payment_next < 200000000) | (data.val_payment_next.isnull())]"
   ]
  },
  {
   "cell_type": "code",
   "execution_count": null,
   "metadata": {
    "collapsed": true
   },
   "outputs": [],
   "source": []
  },
  {
   "cell_type": "markdown",
   "metadata": {},
   "source": [
    "### Kody"
   ]
  },
  {
   "cell_type": "code",
   "execution_count": 21,
   "metadata": {},
   "outputs": [
    {
     "data": {
      "text/html": [
       "<div>\n",
       "<style>\n",
       "    .dataframe thead tr:only-child th {\n",
       "        text-align: right;\n",
       "    }\n",
       "\n",
       "    .dataframe thead th {\n",
       "        text-align: left;\n",
       "    }\n",
       "\n",
       "    .dataframe tbody tr th {\n",
       "        vertical-align: top;\n",
       "    }\n",
       "</style>\n",
       "<table border=\"1\" class=\"dataframe\">\n",
       "  <thead>\n",
       "    <tr style=\"text-align: right;\">\n",
       "      <th></th>\n",
       "      <th>col_name</th>\n",
       "      <th>n</th>\n",
       "      <th>n_nan</th>\n",
       "      <th>p_nan</th>\n",
       "      <th>n_neg</th>\n",
       "      <th>p_neg</th>\n",
       "      <th>n_zero</th>\n",
       "      <th>p_zero</th>\n",
       "      <th>n_inf</th>\n",
       "      <th>p_inf</th>\n",
       "      <th>n_blank</th>\n",
       "      <th>p_blank</th>\n",
       "      <th>n_distinct</th>\n",
       "      <th>col_type</th>\n",
       "      <th>max_val_change</th>\n",
       "      <th>sum_of_p</th>\n",
       "    </tr>\n",
       "  </thead>\n",
       "  <tbody>\n",
       "    <tr>\n",
       "      <th>0</th>\n",
       "      <td>code_currency</td>\n",
       "      <td>170312</td>\n",
       "      <td>0</td>\n",
       "      <td>0.000</td>\n",
       "      <td>0</td>\n",
       "      <td>0.0</td>\n",
       "      <td>169568</td>\n",
       "      <td>0.996</td>\n",
       "      <td>0</td>\n",
       "      <td>0.0</td>\n",
       "      <td>0</td>\n",
       "      <td>0.0</td>\n",
       "      <td>4</td>\n",
       "      <td>uint8</td>\n",
       "      <td>0.500</td>\n",
       "      <td>0.996</td>\n",
       "    </tr>\n",
       "    <tr>\n",
       "      <th>0</th>\n",
       "      <td>code_relationship_contract</td>\n",
       "      <td>170312</td>\n",
       "      <td>0</td>\n",
       "      <td>0.000</td>\n",
       "      <td>0</td>\n",
       "      <td>0.0</td>\n",
       "      <td>169538</td>\n",
       "      <td>0.995</td>\n",
       "      <td>0</td>\n",
       "      <td>0.0</td>\n",
       "      <td>0</td>\n",
       "      <td>0.0</td>\n",
       "      <td>5</td>\n",
       "      <td>uint8</td>\n",
       "      <td>0.500</td>\n",
       "      <td>0.995</td>\n",
       "    </tr>\n",
       "    <tr>\n",
       "      <th>0</th>\n",
       "      <td>code_contract_status</td>\n",
       "      <td>170312</td>\n",
       "      <td>0</td>\n",
       "      <td>0.000</td>\n",
       "      <td>0</td>\n",
       "      <td>0.0</td>\n",
       "      <td>75734</td>\n",
       "      <td>0.445</td>\n",
       "      <td>0</td>\n",
       "      <td>0.0</td>\n",
       "      <td>0</td>\n",
       "      <td>0.0</td>\n",
       "      <td>7</td>\n",
       "      <td>uint8</td>\n",
       "      <td>0.404</td>\n",
       "      <td>0.445</td>\n",
       "    </tr>\n",
       "    <tr>\n",
       "      <th>0</th>\n",
       "      <td>code_b</td>\n",
       "      <td>170312</td>\n",
       "      <td>0</td>\n",
       "      <td>0.000</td>\n",
       "      <td>0</td>\n",
       "      <td>0.0</td>\n",
       "      <td>67605</td>\n",
       "      <td>0.397</td>\n",
       "      <td>0</td>\n",
       "      <td>0.0</td>\n",
       "      <td>0</td>\n",
       "      <td>0.0</td>\n",
       "      <td>3</td>\n",
       "      <td>uint8</td>\n",
       "      <td>0.500</td>\n",
       "      <td>0.397</td>\n",
       "    </tr>\n",
       "    <tr>\n",
       "      <th>0</th>\n",
       "      <td>code_frequency_payments</td>\n",
       "      <td>170312</td>\n",
       "      <td>125</td>\n",
       "      <td>0.001</td>\n",
       "      <td>0</td>\n",
       "      <td>0.0</td>\n",
       "      <td>18973</td>\n",
       "      <td>0.111</td>\n",
       "      <td>0</td>\n",
       "      <td>0.0</td>\n",
       "      <td>0</td>\n",
       "      <td>0.0</td>\n",
       "      <td>11</td>\n",
       "      <td>float64</td>\n",
       "      <td>0.500</td>\n",
       "      <td>0.112</td>\n",
       "    </tr>\n",
       "    <tr>\n",
       "      <th>0</th>\n",
       "      <td>code_trustability</td>\n",
       "      <td>170312</td>\n",
       "      <td>5509</td>\n",
       "      <td>0.032</td>\n",
       "      <td>0</td>\n",
       "      <td>0.0</td>\n",
       "      <td>0</td>\n",
       "      <td>0.000</td>\n",
       "      <td>0</td>\n",
       "      <td>0.0</td>\n",
       "      <td>0</td>\n",
       "      <td>0.0</td>\n",
       "      <td>45555</td>\n",
       "      <td>object</td>\n",
       "      <td>NaN</td>\n",
       "      <td>0.032</td>\n",
       "    </tr>\n",
       "    <tr>\n",
       "      <th>0</th>\n",
       "      <td>code_contract_type</td>\n",
       "      <td>170312</td>\n",
       "      <td>0</td>\n",
       "      <td>0.000</td>\n",
       "      <td>0</td>\n",
       "      <td>0.0</td>\n",
       "      <td>3219</td>\n",
       "      <td>0.019</td>\n",
       "      <td>0</td>\n",
       "      <td>0.0</td>\n",
       "      <td>0</td>\n",
       "      <td>0.0</td>\n",
       "      <td>11</td>\n",
       "      <td>uint8</td>\n",
       "      <td>0.141</td>\n",
       "      <td>0.019</td>\n",
       "    </tr>\n",
       "  </tbody>\n",
       "</table>\n",
       "</div>"
      ],
      "text/plain": [
       "                     col_name       n  n_nan  p_nan  n_neg  p_neg  n_zero  \\\n",
       "0               code_currency  170312      0  0.000      0    0.0  169568   \n",
       "0  code_relationship_contract  170312      0  0.000      0    0.0  169538   \n",
       "0        code_contract_status  170312      0  0.000      0    0.0   75734   \n",
       "0                      code_b  170312      0  0.000      0    0.0   67605   \n",
       "0     code_frequency_payments  170312    125  0.001      0    0.0   18973   \n",
       "0           code_trustability  170312   5509  0.032      0    0.0       0   \n",
       "0          code_contract_type  170312      0  0.000      0    0.0    3219   \n",
       "\n",
       "   p_zero  n_inf  p_inf  n_blank  p_blank  n_distinct col_type  \\\n",
       "0   0.996      0    0.0        0      0.0           4    uint8   \n",
       "0   0.995      0    0.0        0      0.0           5    uint8   \n",
       "0   0.445      0    0.0        0      0.0           7    uint8   \n",
       "0   0.397      0    0.0        0      0.0           3    uint8   \n",
       "0   0.111      0    0.0        0      0.0          11  float64   \n",
       "0   0.000      0    0.0        0      0.0       45555   object   \n",
       "0   0.019      0    0.0        0      0.0          11    uint8   \n",
       "\n",
       "   max_val_change  sum_of_p  \n",
       "0           0.500     0.996  \n",
       "0           0.500     0.995  \n",
       "0           0.404     0.445  \n",
       "0           0.500     0.397  \n",
       "0           0.500     0.112  \n",
       "0             NaN     0.032  \n",
       "0           0.141     0.019  "
      ]
     },
     "execution_count": 21,
     "metadata": {},
     "output_type": "execute_result"
    }
   ],
   "source": [
    "anomalies = pd.DataFrame()\n",
    "for column in data.filter(regex='^code').columns:\n",
    "    anomalies = anomalies.append(anomalies_summary(data[column], True))\n",
    "anomalies.sort_values(by='sum_of_p', ascending=False)"
   ]
  },
  {
   "cell_type": "markdown",
   "metadata": {},
   "source": [
    "`code_currency` w 99.6% to jedna kategoria, dlatego wywalam zmienną ze zbioru"
   ]
  },
  {
   "cell_type": "code",
   "execution_count": 22,
   "metadata": {},
   "outputs": [
    {
     "data": {
      "text/html": [
       "<div>\n",
       "<style>\n",
       "    .dataframe thead tr:only-child th {\n",
       "        text-align: right;\n",
       "    }\n",
       "\n",
       "    .dataframe thead th {\n",
       "        text-align: left;\n",
       "    }\n",
       "\n",
       "    .dataframe tbody tr th {\n",
       "        vertical-align: top;\n",
       "    }\n",
       "</style>\n",
       "<table border=\"1\" class=\"dataframe\">\n",
       "  <thead>\n",
       "    <tr style=\"text-align: right;\">\n",
       "      <th></th>\n",
       "      <th></th>\n",
       "      <th>code_currency</th>\n",
       "    </tr>\n",
       "    <tr>\n",
       "      <th>code_currency</th>\n",
       "      <th>is_bad</th>\n",
       "      <th></th>\n",
       "    </tr>\n",
       "  </thead>\n",
       "  <tbody>\n",
       "    <tr>\n",
       "      <th rowspan=\"2\" valign=\"top\">0</th>\n",
       "      <th>0.0</th>\n",
       "      <td>148073</td>\n",
       "    </tr>\n",
       "    <tr>\n",
       "      <th>1.0</th>\n",
       "      <td>16663</td>\n",
       "    </tr>\n",
       "    <tr>\n",
       "      <th rowspan=\"2\" valign=\"top\">1</th>\n",
       "      <th>0.0</th>\n",
       "      <td>624</td>\n",
       "    </tr>\n",
       "    <tr>\n",
       "      <th>1.0</th>\n",
       "      <td>18</td>\n",
       "    </tr>\n",
       "    <tr>\n",
       "      <th>2</th>\n",
       "      <th>0.0</th>\n",
       "      <td>47</td>\n",
       "    </tr>\n",
       "    <tr>\n",
       "      <th>3</th>\n",
       "      <th>0.0</th>\n",
       "      <td>6</td>\n",
       "    </tr>\n",
       "  </tbody>\n",
       "</table>\n",
       "</div>"
      ],
      "text/plain": [
       "                      code_currency\n",
       "code_currency is_bad               \n",
       "0             0.0            148073\n",
       "              1.0             16663\n",
       "1             0.0               624\n",
       "              1.0                18\n",
       "2             0.0                47\n",
       "3             0.0                 6"
      ]
     },
     "execution_count": 22,
     "metadata": {},
     "output_type": "execute_result"
    }
   ],
   "source": [
    "data.groupby(['code_currency', 'is_bad']).agg({'code_currency': len})"
   ]
  },
  {
   "cell_type": "code",
   "execution_count": 23,
   "metadata": {
    "collapsed": true
   },
   "outputs": [],
   "source": [
    "del data['code_currency']"
   ]
  },
  {
   "cell_type": "markdown",
   "metadata": {},
   "source": [
    "`code_relationship_contract` w 99.5% to jedna kategoria, dlatego wywalam zmienną ze zbioru"
   ]
  },
  {
   "cell_type": "code",
   "execution_count": 24,
   "metadata": {},
   "outputs": [
    {
     "data": {
      "text/html": [
       "<div>\n",
       "<style>\n",
       "    .dataframe thead tr:only-child th {\n",
       "        text-align: right;\n",
       "    }\n",
       "\n",
       "    .dataframe thead th {\n",
       "        text-align: left;\n",
       "    }\n",
       "\n",
       "    .dataframe tbody tr th {\n",
       "        vertical-align: top;\n",
       "    }\n",
       "</style>\n",
       "<table border=\"1\" class=\"dataframe\">\n",
       "  <thead>\n",
       "    <tr style=\"text-align: right;\">\n",
       "      <th></th>\n",
       "      <th></th>\n",
       "      <th>code_relationship_contract</th>\n",
       "    </tr>\n",
       "    <tr>\n",
       "      <th>code_relationship_contract</th>\n",
       "      <th>is_bad</th>\n",
       "      <th></th>\n",
       "    </tr>\n",
       "  </thead>\n",
       "  <tbody>\n",
       "    <tr>\n",
       "      <th rowspan=\"2\" valign=\"top\">1</th>\n",
       "      <th>0.0</th>\n",
       "      <td>148054</td>\n",
       "    </tr>\n",
       "    <tr>\n",
       "      <th>1.0</th>\n",
       "      <td>16622</td>\n",
       "    </tr>\n",
       "    <tr>\n",
       "      <th rowspan=\"2\" valign=\"top\">2</th>\n",
       "      <th>0.0</th>\n",
       "      <td>245</td>\n",
       "    </tr>\n",
       "    <tr>\n",
       "      <th>1.0</th>\n",
       "      <td>32</td>\n",
       "    </tr>\n",
       "    <tr>\n",
       "      <th rowspan=\"2\" valign=\"top\">4</th>\n",
       "      <th>0.0</th>\n",
       "      <td>308</td>\n",
       "    </tr>\n",
       "    <tr>\n",
       "      <th>1.0</th>\n",
       "      <td>20</td>\n",
       "    </tr>\n",
       "    <tr>\n",
       "      <th rowspan=\"2\" valign=\"top\">5</th>\n",
       "      <th>0.0</th>\n",
       "      <td>17</td>\n",
       "    </tr>\n",
       "    <tr>\n",
       "      <th>1.0</th>\n",
       "      <td>1</td>\n",
       "    </tr>\n",
       "    <tr>\n",
       "      <th rowspan=\"2\" valign=\"top\">9</th>\n",
       "      <th>0.0</th>\n",
       "      <td>126</td>\n",
       "    </tr>\n",
       "    <tr>\n",
       "      <th>1.0</th>\n",
       "      <td>6</td>\n",
       "    </tr>\n",
       "  </tbody>\n",
       "</table>\n",
       "</div>"
      ],
      "text/plain": [
       "                                   code_relationship_contract\n",
       "code_relationship_contract is_bad                            \n",
       "1                          0.0                         148054\n",
       "                           1.0                          16622\n",
       "2                          0.0                            245\n",
       "                           1.0                             32\n",
       "4                          0.0                            308\n",
       "                           1.0                             20\n",
       "5                          0.0                             17\n",
       "                           1.0                              1\n",
       "9                          0.0                            126\n",
       "                           1.0                              6"
      ]
     },
     "execution_count": 24,
     "metadata": {},
     "output_type": "execute_result"
    }
   ],
   "source": [
    "data.groupby(['code_relationship_contract', 'is_bad']).agg({'code_relationship_contract': len})"
   ]
  },
  {
   "cell_type": "code",
   "execution_count": 25,
   "metadata": {
    "collapsed": true
   },
   "outputs": [],
   "source": [
    "del data['code_relationship_contract']"
   ]
  },
  {
   "cell_type": "code",
   "execution_count": null,
   "metadata": {
    "collapsed": true
   },
   "outputs": [],
   "source": []
  },
  {
   "cell_type": "markdown",
   "metadata": {},
   "source": [
    "### Delay"
   ]
  },
  {
   "cell_type": "code",
   "execution_count": 26,
   "metadata": {},
   "outputs": [
    {
     "data": {
      "text/html": [
       "<div>\n",
       "<style>\n",
       "    .dataframe thead tr:only-child th {\n",
       "        text-align: right;\n",
       "    }\n",
       "\n",
       "    .dataframe thead th {\n",
       "        text-align: left;\n",
       "    }\n",
       "\n",
       "    .dataframe tbody tr th {\n",
       "        vertical-align: top;\n",
       "    }\n",
       "</style>\n",
       "<table border=\"1\" class=\"dataframe\">\n",
       "  <thead>\n",
       "    <tr style=\"text-align: right;\">\n",
       "      <th></th>\n",
       "      <th>col_name</th>\n",
       "      <th>n</th>\n",
       "      <th>n_nan</th>\n",
       "      <th>p_nan</th>\n",
       "      <th>n_neg</th>\n",
       "      <th>p_neg</th>\n",
       "      <th>n_zero</th>\n",
       "      <th>p_zero</th>\n",
       "      <th>n_inf</th>\n",
       "      <th>p_inf</th>\n",
       "      <th>n_blank</th>\n",
       "      <th>p_blank</th>\n",
       "      <th>n_distinct</th>\n",
       "      <th>col_type</th>\n",
       "      <th>max_val_change</th>\n",
       "      <th>sum_of_p</th>\n",
       "    </tr>\n",
       "  </thead>\n",
       "  <tbody>\n",
       "    <tr>\n",
       "      <th>0</th>\n",
       "      <td>cnt_delay_60d_89d</td>\n",
       "      <td>170312</td>\n",
       "      <td>0</td>\n",
       "      <td>0.0</td>\n",
       "      <td>0</td>\n",
       "      <td>0.0</td>\n",
       "      <td>159424</td>\n",
       "      <td>0.936</td>\n",
       "      <td>0</td>\n",
       "      <td>0.0</td>\n",
       "      <td>0</td>\n",
       "      <td>0</td>\n",
       "      <td>22</td>\n",
       "      <td>uint8</td>\n",
       "      <td>0.5</td>\n",
       "      <td>0.936</td>\n",
       "    </tr>\n",
       "    <tr>\n",
       "      <th>0</th>\n",
       "      <td>cnt_delay_upto_5d</td>\n",
       "      <td>170312</td>\n",
       "      <td>0</td>\n",
       "      <td>0.0</td>\n",
       "      <td>0</td>\n",
       "      <td>0.0</td>\n",
       "      <td>157479</td>\n",
       "      <td>0.925</td>\n",
       "      <td>0</td>\n",
       "      <td>0.0</td>\n",
       "      <td>0</td>\n",
       "      <td>0</td>\n",
       "      <td>25</td>\n",
       "      <td>uint8</td>\n",
       "      <td>0.5</td>\n",
       "      <td>0.925</td>\n",
       "    </tr>\n",
       "    <tr>\n",
       "      <th>0</th>\n",
       "      <td>cnt_delay_upto_90d</td>\n",
       "      <td>170312</td>\n",
       "      <td>0</td>\n",
       "      <td>0.0</td>\n",
       "      <td>0</td>\n",
       "      <td>0.0</td>\n",
       "      <td>156452</td>\n",
       "      <td>0.919</td>\n",
       "      <td>0</td>\n",
       "      <td>0.0</td>\n",
       "      <td>0</td>\n",
       "      <td>0</td>\n",
       "      <td>78</td>\n",
       "      <td>uint8</td>\n",
       "      <td>0.5</td>\n",
       "      <td>0.919</td>\n",
       "    </tr>\n",
       "    <tr>\n",
       "      <th>0</th>\n",
       "      <td>cnt_delay_30d_59d</td>\n",
       "      <td>170312</td>\n",
       "      <td>0</td>\n",
       "      <td>0.0</td>\n",
       "      <td>0</td>\n",
       "      <td>0.0</td>\n",
       "      <td>150603</td>\n",
       "      <td>0.884</td>\n",
       "      <td>0</td>\n",
       "      <td>0.0</td>\n",
       "      <td>0</td>\n",
       "      <td>0</td>\n",
       "      <td>27</td>\n",
       "      <td>uint8</td>\n",
       "      <td>0.5</td>\n",
       "      <td>0.884</td>\n",
       "    </tr>\n",
       "    <tr>\n",
       "      <th>0</th>\n",
       "      <td>cnt_delay_5d_29d</td>\n",
       "      <td>170312</td>\n",
       "      <td>0</td>\n",
       "      <td>0.0</td>\n",
       "      <td>0</td>\n",
       "      <td>0.0</td>\n",
       "      <td>132899</td>\n",
       "      <td>0.780</td>\n",
       "      <td>0</td>\n",
       "      <td>0.0</td>\n",
       "      <td>0</td>\n",
       "      <td>0</td>\n",
       "      <td>38</td>\n",
       "      <td>uint8</td>\n",
       "      <td>0.5</td>\n",
       "      <td>0.780</td>\n",
       "    </tr>\n",
       "    <tr>\n",
       "      <th>0</th>\n",
       "      <td>cnt_delay_upto_30d</td>\n",
       "      <td>170312</td>\n",
       "      <td>0</td>\n",
       "      <td>0.0</td>\n",
       "      <td>0</td>\n",
       "      <td>0.0</td>\n",
       "      <td>127602</td>\n",
       "      <td>0.749</td>\n",
       "      <td>0</td>\n",
       "      <td>0.0</td>\n",
       "      <td>0</td>\n",
       "      <td>0</td>\n",
       "      <td>44</td>\n",
       "      <td>uint8</td>\n",
       "      <td>0.5</td>\n",
       "      <td>0.749</td>\n",
       "    </tr>\n",
       "  </tbody>\n",
       "</table>\n",
       "</div>"
      ],
      "text/plain": [
       "             col_name       n  n_nan  p_nan  n_neg  p_neg  n_zero  p_zero  \\\n",
       "0   cnt_delay_60d_89d  170312      0    0.0      0    0.0  159424   0.936   \n",
       "0   cnt_delay_upto_5d  170312      0    0.0      0    0.0  157479   0.925   \n",
       "0  cnt_delay_upto_90d  170312      0    0.0      0    0.0  156452   0.919   \n",
       "0   cnt_delay_30d_59d  170312      0    0.0      0    0.0  150603   0.884   \n",
       "0    cnt_delay_5d_29d  170312      0    0.0      0    0.0  132899   0.780   \n",
       "0  cnt_delay_upto_30d  170312      0    0.0      0    0.0  127602   0.749   \n",
       "\n",
       "   n_inf  p_inf  n_blank  p_blank  n_distinct col_type  max_val_change  \\\n",
       "0      0    0.0        0        0          22    uint8             0.5   \n",
       "0      0    0.0        0        0          25    uint8             0.5   \n",
       "0      0    0.0        0        0          78    uint8             0.5   \n",
       "0      0    0.0        0        0          27    uint8             0.5   \n",
       "0      0    0.0        0        0          38    uint8             0.5   \n",
       "0      0    0.0        0        0          44    uint8             0.5   \n",
       "\n",
       "   sum_of_p  \n",
       "0     0.936  \n",
       "0     0.925  \n",
       "0     0.919  \n",
       "0     0.884  \n",
       "0     0.780  \n",
       "0     0.749  "
      ]
     },
     "execution_count": 26,
     "metadata": {},
     "output_type": "execute_result"
    }
   ],
   "source": [
    "anomalies = pd.DataFrame()\n",
    "for column in data.filter(regex='^cnt_delay').columns:\n",
    "    anomalies = anomalies.append(anomalies_summary(data[column]))\n",
    "anomalies.sort_values(by='sum_of_p', ascending=False)"
   ]
  },
  {
   "cell_type": "markdown",
   "metadata": {},
   "source": [
    "Zmienne zawierają w dużej mierze wartości zerowe, przy większych wartościach są już zmiany nawet o 20%, ale brak jest jednoznacznych wartości odstających."
   ]
  },
  {
   "cell_type": "code",
   "execution_count": 27,
   "metadata": {},
   "outputs": [
    {
     "data": {
      "image/png": "[encoded data removed]",
      "text/plain": [
       "<matplotlib.figure.Figure at 0x7f6823167ac8>"
      ]
     },
     "metadata": {},
     "output_type": "display_data"
    },
    {
     "data": {
      "image/png": "[encoded data removed]",
      "text/plain": [
       "<matplotlib.figure.Figure at 0x7f6822dd1240>"
      ]
     },
     "metadata": {},
     "output_type": "display_data"
    },
    {
     "data": {
      "image/png": "[encoded data removed]",
      "text/plain": [
       "<matplotlib.figure.Figure at 0x7f6822e0bef0>"
      ]
     },
     "metadata": {},
     "output_type": "display_data"
    },
    {
     "data": {
      "image/png": "[encoded data removed]",
      "text/plain": [
       "<matplotlib.figure.Figure at 0x7f6822c080f0>"
      ]
     },
     "metadata": {},
     "output_type": "display_data"
    },
    {
     "data": {
      "image/png": "[encoded data removed]",
      "text/plain": [
       "<matplotlib.figure.Figure at 0x7f6822c79080>"
      ]
     },
     "metadata": {},
     "output_type": "display_data"
    },
    {
     "data": {
      "image/png": "[encoded data removed]",
      "text/plain": [
       "<matplotlib.figure.Figure at 0x7f682334cdd8>"
      ]
     },
     "metadata": {},
     "output_type": "display_data"
    }
   ],
   "source": [
    "for column in data.filter(regex='^cnt_delay').columns:\n",
    "    plot_anomalies_max_val_change(data[column]);"
   ]
  },
  {
   "cell_type": "code",
   "execution_count": null,
   "metadata": {
    "collapsed": true
   },
   "outputs": [],
   "source": []
  },
  {
   "cell_type": "markdown",
   "metadata": {},
   "source": [
    "### Pozostałe zmienne"
   ]
  },
  {
   "cell_type": "code",
   "execution_count": 28,
   "metadata": {
    "collapsed": true
   },
   "outputs": [],
   "source": [
    "others_feats = ['is_bad', 'id_customer', 'id_index', 'loan_rate', 'duration_debt_days']"
   ]
  },
  {
   "cell_type": "code",
   "execution_count": 29,
   "metadata": {},
   "outputs": [
    {
     "data": {
      "text/html": [
       "<div>\n",
       "<style>\n",
       "    .dataframe thead tr:only-child th {\n",
       "        text-align: right;\n",
       "    }\n",
       "\n",
       "    .dataframe thead th {\n",
       "        text-align: left;\n",
       "    }\n",
       "\n",
       "    .dataframe tbody tr th {\n",
       "        vertical-align: top;\n",
       "    }\n",
       "</style>\n",
       "<table border=\"1\" class=\"dataframe\">\n",
       "  <thead>\n",
       "    <tr style=\"text-align: right;\">\n",
       "      <th></th>\n",
       "      <th>col_name</th>\n",
       "      <th>n</th>\n",
       "      <th>n_nan</th>\n",
       "      <th>p_nan</th>\n",
       "      <th>n_neg</th>\n",
       "      <th>p_neg</th>\n",
       "      <th>n_zero</th>\n",
       "      <th>p_zero</th>\n",
       "      <th>n_inf</th>\n",
       "      <th>p_inf</th>\n",
       "      <th>n_blank</th>\n",
       "      <th>p_blank</th>\n",
       "      <th>n_distinct</th>\n",
       "      <th>col_type</th>\n",
       "      <th>max_val_change</th>\n",
       "      <th>sum_of_p</th>\n",
       "    </tr>\n",
       "  </thead>\n",
       "  <tbody>\n",
       "    <tr>\n",
       "      <th>0</th>\n",
       "      <td>duration_debt_days</td>\n",
       "      <td>170312</td>\n",
       "      <td>32164</td>\n",
       "      <td>0.189</td>\n",
       "      <td>0</td>\n",
       "      <td>0.0</td>\n",
       "      <td>128159</td>\n",
       "      <td>0.752</td>\n",
       "      <td>0</td>\n",
       "      <td>0.0</td>\n",
       "      <td>0</td>\n",
       "      <td>0</td>\n",
       "      <td>1275</td>\n",
       "      <td>float64</td>\n",
       "      <td>0.500</td>\n",
       "      <td>0.941</td>\n",
       "    </tr>\n",
       "    <tr>\n",
       "      <th>0</th>\n",
       "      <td>loan_rate</td>\n",
       "      <td>170312</td>\n",
       "      <td>0</td>\n",
       "      <td>0.000</td>\n",
       "      <td>0</td>\n",
       "      <td>0.0</td>\n",
       "      <td>155878</td>\n",
       "      <td>0.915</td>\n",
       "      <td>0</td>\n",
       "      <td>0.0</td>\n",
       "      <td>0</td>\n",
       "      <td>0</td>\n",
       "      <td>60</td>\n",
       "      <td>uint16</td>\n",
       "      <td>0.459</td>\n",
       "      <td>0.915</td>\n",
       "    </tr>\n",
       "    <tr>\n",
       "      <th>0</th>\n",
       "      <td>is_bad</td>\n",
       "      <td>170312</td>\n",
       "      <td>4881</td>\n",
       "      <td>0.029</td>\n",
       "      <td>0</td>\n",
       "      <td>0.0</td>\n",
       "      <td>148750</td>\n",
       "      <td>0.873</td>\n",
       "      <td>0</td>\n",
       "      <td>0.0</td>\n",
       "      <td>0</td>\n",
       "      <td>0</td>\n",
       "      <td>3</td>\n",
       "      <td>float64</td>\n",
       "      <td>NaN</td>\n",
       "      <td>0.902</td>\n",
       "    </tr>\n",
       "    <tr>\n",
       "      <th>0</th>\n",
       "      <td>id_customer</td>\n",
       "      <td>170312</td>\n",
       "      <td>0</td>\n",
       "      <td>0.000</td>\n",
       "      <td>0</td>\n",
       "      <td>0.0</td>\n",
       "      <td>6</td>\n",
       "      <td>0.000</td>\n",
       "      <td>0</td>\n",
       "      <td>0.0</td>\n",
       "      <td>0</td>\n",
       "      <td>0</td>\n",
       "      <td>34881</td>\n",
       "      <td>uint16</td>\n",
       "      <td>0.500</td>\n",
       "      <td>0.000</td>\n",
       "    </tr>\n",
       "    <tr>\n",
       "      <th>0</th>\n",
       "      <td>id_index</td>\n",
       "      <td>170312</td>\n",
       "      <td>0</td>\n",
       "      <td>0.000</td>\n",
       "      <td>0</td>\n",
       "      <td>0.0</td>\n",
       "      <td>0</td>\n",
       "      <td>0.000</td>\n",
       "      <td>0</td>\n",
       "      <td>0.0</td>\n",
       "      <td>0</td>\n",
       "      <td>0</td>\n",
       "      <td>170312</td>\n",
       "      <td>uint32</td>\n",
       "      <td>0.667</td>\n",
       "      <td>0.000</td>\n",
       "    </tr>\n",
       "  </tbody>\n",
       "</table>\n",
       "</div>"
      ],
      "text/plain": [
       "             col_name       n  n_nan  p_nan  n_neg  p_neg  n_zero  p_zero  \\\n",
       "0  duration_debt_days  170312  32164  0.189      0    0.0  128159   0.752   \n",
       "0           loan_rate  170312      0  0.000      0    0.0  155878   0.915   \n",
       "0              is_bad  170312   4881  0.029      0    0.0  148750   0.873   \n",
       "0         id_customer  170312      0  0.000      0    0.0       6   0.000   \n",
       "0            id_index  170312      0  0.000      0    0.0       0   0.000   \n",
       "\n",
       "   n_inf  p_inf  n_blank  p_blank  n_distinct col_type  max_val_change  \\\n",
       "0      0    0.0        0        0        1275  float64           0.500   \n",
       "0      0    0.0        0        0          60   uint16           0.459   \n",
       "0      0    0.0        0        0           3  float64             NaN   \n",
       "0      0    0.0        0        0       34881   uint16           0.500   \n",
       "0      0    0.0        0        0      170312   uint32           0.667   \n",
       "\n",
       "   sum_of_p  \n",
       "0     0.941  \n",
       "0     0.915  \n",
       "0     0.902  \n",
       "0     0.000  \n",
       "0     0.000  "
      ]
     },
     "execution_count": 29,
     "metadata": {},
     "output_type": "execute_result"
    }
   ],
   "source": [
    "anomalies = pd.DataFrame()\n",
    "for column in others_feats:\n",
    "    anomalies = anomalies.append(anomalies_summary(data[column]))\n",
    "anomalies.sort_values(by='sum_of_p', ascending=False)"
   ]
  },
  {
   "cell_type": "code",
   "execution_count": 30,
   "metadata": {},
   "outputs": [
    {
     "name": "stdout",
     "output_type": "stream",
     "text": [
      "is_bad(float64): nie można narysować wykresu dla tego typu.\n"
     ]
    },
    {
     "data": {
      "image/png": "[encoded data removed]",
      "text/plain": [
       "<matplotlib.figure.Figure at 0x7f6822c2a9b0>"
      ]
     },
     "metadata": {},
     "output_type": "display_data"
    },
    {
     "data": {
      "image/png": "[encoded data removed]",
      "text/plain": [
       "<matplotlib.figure.Figure at 0x7f6822bbf048>"
      ]
     },
     "metadata": {},
     "output_type": "display_data"
    },
    {
     "data": {
      "image/png": "[encoded data removed]",
      "text/plain": [
       "<matplotlib.figure.Figure at 0x7f6822bfa4a8>"
      ]
     },
     "metadata": {},
     "output_type": "display_data"
    },
    {
     "data": {
      "image/png": "[encoded data removed]",
      "text/plain": [
       "<matplotlib.figure.Figure at 0x7f682304c7b8>"
      ]
     },
     "metadata": {},
     "output_type": "display_data"
    }
   ],
   "source": [
    "for column in others_feats:\n",
    "    plot_anomalies_max_val_change(data[column]);"
   ]
  },
  {
   "cell_type": "markdown",
   "metadata": {},
   "source": [
    "Usuwam `loan_rate` większy lub równy 100%"
   ]
  },
  {
   "cell_type": "code",
   "execution_count": 31,
   "metadata": {
    "collapsed": true
   },
   "outputs": [],
   "source": [
    "data = data.loc[data.loan_rate < 100]"
   ]
  },
  {
   "cell_type": "code",
   "execution_count": 32,
   "metadata": {},
   "outputs": [
    {
     "data": {
      "image/png": "[encoded data removed]",
      "text/plain": [
       "<matplotlib.figure.Figure at 0x7f6822c698d0>"
      ]
     },
     "metadata": {},
     "output_type": "display_data"
    }
   ],
   "source": [
    "plot_anomalies_max_val_change(data.loan_rate);"
   ]
  },
  {
   "cell_type": "code",
   "execution_count": null,
   "metadata": {
    "collapsed": true
   },
   "outputs": [],
   "source": []
  },
  {
   "cell_type": "markdown",
   "metadata": {},
   "source": [
    "### Zapis"
   ]
  },
  {
   "cell_type": "code",
   "execution_count": 33,
   "metadata": {
    "collapsed": true
   },
   "outputs": [],
   "source": [
    "data.to_hdf('../data/data.base_wo.h5', 'base_wo', format='table')"
   ]
  },
  {
   "cell_type": "code",
   "execution_count": 34,
   "metadata": {},
   "outputs": [
    {
     "name": "stdout",
     "output_type": "stream",
     "text": [
      "Zapisano dane do pliku ../data/data.base_wo.h5\n"
     ]
    }
   ],
   "source": [
    "print(\"Zapisano dane do pliku ../data/data.base_wo.h5\")"
   ]
  },
  {
   "cell_type": "code",
   "execution_count": null,
   "metadata": {
    "collapsed": true
   },
   "outputs": [],
   "source": []
  }
 ],
 "metadata": {
  "kernelspec": {
   "display_name": "Python 3",
   "language": "python",
   "name": "python3"
  },
  "language_info": {
   "codemirror_mode": {
    "name": "ipython",
    "version": 3
   },
   "file_extension": ".py",
   "mimetype": "text/x-python",
   "name": "python",
   "nbconvert_exporter": "python",
   "pygments_lexer": "ipython3",
   "version": "3.6.2"
  }
 },
 "nbformat": 4,
 "nbformat_minor": 2
}
