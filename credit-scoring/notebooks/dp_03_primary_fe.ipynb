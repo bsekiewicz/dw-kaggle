{
 "cells": [
  {
   "cell_type": "code",
   "execution_count": null,
   "metadata": {
    "collapsed": true
   },
   "outputs": [],
   "source": []
  },
  {
   "cell_type": "markdown",
   "metadata": {},
   "source": [
    "## Biblioteki i funkcje"
   ]
  },
  {
   "cell_type": "code",
   "execution_count": 1,
   "metadata": {},
   "outputs": [
    {
     "name": "stdout",
     "output_type": "stream",
     "text": [
      "Wczytano podstawowe bilioteki!\n"
     ]
    }
   ],
   "source": [
    "%run ../scripts/init0.py\n",
    "\n",
    "%matplotlib inline"
   ]
  },
  {
   "cell_type": "code",
   "execution_count": 2,
   "metadata": {},
   "outputs": [
    {
     "name": "stdout",
     "output_type": "stream",
     "text": [
      "Wczytano funkcje użytkownika!\n"
     ]
    }
   ],
   "source": [
    "%run ../scripts/my_functions_01.py"
   ]
  },
  {
   "cell_type": "code",
   "execution_count": 3,
   "metadata": {},
   "outputs": [
    {
     "name": "stdout",
     "output_type": "stream",
     "text": [
      "zmienne: data. Pomyślnie wczytano dane podstawowe bez wartości odstających\n"
     ]
    }
   ],
   "source": [
    "%run ../scripts/load_data.py 'base_wo'"
   ]
  },
  {
   "cell_type": "code",
   "execution_count": null,
   "metadata": {
    "collapsed": true
   },
   "outputs": [],
   "source": []
  },
  {
   "cell_type": "markdown",
   "metadata": {},
   "source": [
    "## Missings\n",
    "\n",
    "Usuwanie nan jest ważne z perspektywy tworzenia nowych zmiennych. W zależności od charakteru zmiennej nan zamieniam na średnią, medianę, czy wartość występującą najczęściej. Dodatkowo, przed usunięciem nan tworzę zmienne `missings_cnt...`"
   ]
  },
  {
   "cell_type": "markdown",
   "metadata": {},
   "source": [
    "Liczba braków danych dla obserwacji"
   ]
  },
  {
   "cell_type": "code",
   "execution_count": 4,
   "metadata": {
    "collapsed": true
   },
   "outputs": [],
   "source": [
    "data['missing_cnt'] = data[data.columns.drop('is_bad')].apply(lambda x: x.isnull().sum(), axis = 1)"
   ]
  },
  {
   "cell_type": "markdown",
   "metadata": {
    "collapsed": true
   },
   "source": [
    "Czy brak danych w danej kolumnie"
   ]
  },
  {
   "cell_type": "code",
   "execution_count": 5,
   "metadata": {},
   "outputs": [
    {
     "name": "stdout",
     "output_type": "stream",
     "text": [
      "('code_frequency_payments', 125)\n",
      "('code_trustability', 5509)\n",
      "('date_closed_account', 86081)\n",
      "('date_final_payment', 11055)\n",
      "('date_start_sth', 9765)\n",
      "('duration_debt_days', 32164)\n",
      "('val_balance_curr', 108615)\n",
      "('val_debt_amount_max', 17)\n",
      "('val_debt_curr', 32656)\n",
      "('val_debt_overdue_curr', 17)\n",
      "('val_payment_next', 93309)\n"
     ]
    }
   ],
   "source": [
    "for column in data.columns.drop('is_bad'):\n",
    "    missing = column, data[column].isnull().sum()\n",
    "    if missing[1] > 0:\n",
    "        data['is_missing_' + column] = data[column].isnull()\n",
    "        print(missing)"
   ]
  },
  {
   "cell_type": "code",
   "execution_count": null,
   "metadata": {
    "collapsed": true
   },
   "outputs": [],
   "source": []
  },
  {
   "cell_type": "markdown",
   "metadata": {},
   "source": [
    "## Daty"
   ]
  },
  {
   "cell_type": "code",
   "execution_count": 6,
   "metadata": {},
   "outputs": [
    {
     "data": {
      "text/html": [
       "<div>\n",
       "<style>\n",
       "    .dataframe thead tr:only-child th {\n",
       "        text-align: right;\n",
       "    }\n",
       "\n",
       "    .dataframe thead th {\n",
       "        text-align: left;\n",
       "    }\n",
       "\n",
       "    .dataframe tbody tr th {\n",
       "        vertical-align: top;\n",
       "    }\n",
       "</style>\n",
       "<table border=\"1\" class=\"dataframe\">\n",
       "  <thead>\n",
       "    <tr style=\"text-align: right;\">\n",
       "      <th></th>\n",
       "      <th>col_name</th>\n",
       "      <th>n</th>\n",
       "      <th>n_nan</th>\n",
       "      <th>p_nan</th>\n",
       "      <th>n_neg</th>\n",
       "      <th>p_neg</th>\n",
       "      <th>n_zero</th>\n",
       "      <th>p_zero</th>\n",
       "      <th>n_inf</th>\n",
       "      <th>p_inf</th>\n",
       "      <th>n_blank</th>\n",
       "      <th>p_blank</th>\n",
       "      <th>n_distinct</th>\n",
       "      <th>col_type</th>\n",
       "      <th>max_val_change</th>\n",
       "      <th>sum_of_p</th>\n",
       "    </tr>\n",
       "  </thead>\n",
       "  <tbody>\n",
       "    <tr>\n",
       "      <th>0</th>\n",
       "      <td>date_closed_account</td>\n",
       "      <td>170306</td>\n",
       "      <td>86081</td>\n",
       "      <td>0.505</td>\n",
       "      <td>0</td>\n",
       "      <td>0.0</td>\n",
       "      <td>0</td>\n",
       "      <td>0.0</td>\n",
       "      <td>0</td>\n",
       "      <td>0.0</td>\n",
       "      <td>0</td>\n",
       "      <td>0</td>\n",
       "      <td>2205</td>\n",
       "      <td>float64</td>\n",
       "      <td>0.995</td>\n",
       "      <td>0.505</td>\n",
       "    </tr>\n",
       "    <tr>\n",
       "      <th>0</th>\n",
       "      <td>date_final_payment</td>\n",
       "      <td>170306</td>\n",
       "      <td>11055</td>\n",
       "      <td>0.065</td>\n",
       "      <td>0</td>\n",
       "      <td>0.0</td>\n",
       "      <td>0</td>\n",
       "      <td>0.0</td>\n",
       "      <td>0</td>\n",
       "      <td>0.0</td>\n",
       "      <td>0</td>\n",
       "      <td>0</td>\n",
       "      <td>6883</td>\n",
       "      <td>float64</td>\n",
       "      <td>0.852</td>\n",
       "      <td>0.065</td>\n",
       "    </tr>\n",
       "    <tr>\n",
       "      <th>0</th>\n",
       "      <td>date_start_sth</td>\n",
       "      <td>170306</td>\n",
       "      <td>9765</td>\n",
       "      <td>0.057</td>\n",
       "      <td>0</td>\n",
       "      <td>0.0</td>\n",
       "      <td>0</td>\n",
       "      <td>0.0</td>\n",
       "      <td>0</td>\n",
       "      <td>0.0</td>\n",
       "      <td>0</td>\n",
       "      <td>0</td>\n",
       "      <td>2224</td>\n",
       "      <td>float64</td>\n",
       "      <td>0.993</td>\n",
       "      <td>0.057</td>\n",
       "    </tr>\n",
       "    <tr>\n",
       "      <th>0</th>\n",
       "      <td>date_confirmed</td>\n",
       "      <td>170306</td>\n",
       "      <td>0</td>\n",
       "      <td>0.000</td>\n",
       "      <td>0</td>\n",
       "      <td>0.0</td>\n",
       "      <td>0</td>\n",
       "      <td>0.0</td>\n",
       "      <td>0</td>\n",
       "      <td>0.0</td>\n",
       "      <td>0</td>\n",
       "      <td>0</td>\n",
       "      <td>2146</td>\n",
       "      <td>uint16</td>\n",
       "      <td>0.999</td>\n",
       "      <td>0.000</td>\n",
       "    </tr>\n",
       "    <tr>\n",
       "      <th>0</th>\n",
       "      <td>date_contract_open</td>\n",
       "      <td>170306</td>\n",
       "      <td>0</td>\n",
       "      <td>0.000</td>\n",
       "      <td>0</td>\n",
       "      <td>0.0</td>\n",
       "      <td>0</td>\n",
       "      <td>0.0</td>\n",
       "      <td>0</td>\n",
       "      <td>0.0</td>\n",
       "      <td>0</td>\n",
       "      <td>0</td>\n",
       "      <td>2889</td>\n",
       "      <td>uint16</td>\n",
       "      <td>0.991</td>\n",
       "      <td>0.000</td>\n",
       "    </tr>\n",
       "    <tr>\n",
       "      <th>0</th>\n",
       "      <td>date_request_b</td>\n",
       "      <td>170306</td>\n",
       "      <td>0</td>\n",
       "      <td>0.000</td>\n",
       "      <td>0</td>\n",
       "      <td>0.0</td>\n",
       "      <td>0</td>\n",
       "      <td>0.0</td>\n",
       "      <td>0</td>\n",
       "      <td>0.0</td>\n",
       "      <td>0</td>\n",
       "      <td>0</td>\n",
       "      <td>272</td>\n",
       "      <td>uint16</td>\n",
       "      <td>1.000</td>\n",
       "      <td>0.000</td>\n",
       "    </tr>\n",
       "  </tbody>\n",
       "</table>\n",
       "</div>"
      ],
      "text/plain": [
       "              col_name       n  n_nan  p_nan  n_neg  p_neg  n_zero  p_zero  \\\n",
       "0  date_closed_account  170306  86081  0.505      0    0.0       0     0.0   \n",
       "0   date_final_payment  170306  11055  0.065      0    0.0       0     0.0   \n",
       "0       date_start_sth  170306   9765  0.057      0    0.0       0     0.0   \n",
       "0       date_confirmed  170306      0  0.000      0    0.0       0     0.0   \n",
       "0   date_contract_open  170306      0  0.000      0    0.0       0     0.0   \n",
       "0       date_request_b  170306      0  0.000      0    0.0       0     0.0   \n",
       "\n",
       "   n_inf  p_inf  n_blank  p_blank  n_distinct col_type  max_val_change  \\\n",
       "0      0    0.0        0        0        2205  float64           0.995   \n",
       "0      0    0.0        0        0        6883  float64           0.852   \n",
       "0      0    0.0        0        0        2224  float64           0.993   \n",
       "0      0    0.0        0        0        2146   uint16           0.999   \n",
       "0      0    0.0        0        0        2889   uint16           0.991   \n",
       "0      0    0.0        0        0         272   uint16           1.000   \n",
       "\n",
       "   sum_of_p  \n",
       "0     0.505  \n",
       "0     0.065  \n",
       "0     0.057  \n",
       "0     0.000  \n",
       "0     0.000  \n",
       "0     0.000  "
      ]
     },
     "execution_count": 6,
     "metadata": {},
     "output_type": "execute_result"
    }
   ],
   "source": [
    "anomalies = pd.DataFrame()\n",
    "for column in data.filter(regex='^date').columns:\n",
    "    anomalies = anomalies.append(anomalies_summary(data[column]))\n",
    "anomalies.sort_values(by='sum_of_p', ascending=False)"
   ]
  },
  {
   "cell_type": "code",
   "execution_count": 7,
   "metadata": {},
   "outputs": [
    {
     "data": {
      "text/html": [
       "<div>\n",
       "<style>\n",
       "    .dataframe thead tr:only-child th {\n",
       "        text-align: right;\n",
       "    }\n",
       "\n",
       "    .dataframe thead th {\n",
       "        text-align: left;\n",
       "    }\n",
       "\n",
       "    .dataframe tbody tr th {\n",
       "        vertical-align: top;\n",
       "    }\n",
       "</style>\n",
       "<table border=\"1\" class=\"dataframe\">\n",
       "  <thead>\n",
       "    <tr style=\"text-align: right;\">\n",
       "      <th></th>\n",
       "      <th>count</th>\n",
       "      <th>mean</th>\n",
       "      <th>std</th>\n",
       "      <th>min</th>\n",
       "      <th>25%</th>\n",
       "      <th>50%</th>\n",
       "      <th>75%</th>\n",
       "      <th>max</th>\n",
       "    </tr>\n",
       "  </thead>\n",
       "  <tbody>\n",
       "    <tr>\n",
       "      <th>date_closed_account</th>\n",
       "      <td>84225.0</td>\n",
       "      <td>39906.419365</td>\n",
       "      <td>501.706657</td>\n",
       "      <td>37861.0</td>\n",
       "      <td>39520.0</td>\n",
       "      <td>40000.0</td>\n",
       "      <td>40343.0</td>\n",
       "      <td>40696.0</td>\n",
       "    </tr>\n",
       "    <tr>\n",
       "      <th>date_confirmed</th>\n",
       "      <td>170306.0</td>\n",
       "      <td>40241.864755</td>\n",
       "      <td>455.182272</td>\n",
       "      <td>38356.0</td>\n",
       "      <td>40066.0</td>\n",
       "      <td>40463.0</td>\n",
       "      <td>40552.0</td>\n",
       "      <td>40720.0</td>\n",
       "    </tr>\n",
       "    <tr>\n",
       "      <th>date_contract_open</th>\n",
       "      <td>170306.0</td>\n",
       "      <td>39777.631193</td>\n",
       "      <td>621.879843</td>\n",
       "      <td>36343.0</td>\n",
       "      <td>39278.0</td>\n",
       "      <td>39934.0</td>\n",
       "      <td>40334.0</td>\n",
       "      <td>40702.0</td>\n",
       "    </tr>\n",
       "    <tr>\n",
       "      <th>date_final_payment</th>\n",
       "      <td>159251.0</td>\n",
       "      <td>41472.456663</td>\n",
       "      <td>5297.338089</td>\n",
       "      <td>36799.0</td>\n",
       "      <td>39823.0</td>\n",
       "      <td>40474.0</td>\n",
       "      <td>41046.0</td>\n",
       "      <td>72961.0</td>\n",
       "    </tr>\n",
       "    <tr>\n",
       "      <th>date_request_b</th>\n",
       "      <td>170306.0</td>\n",
       "      <td>40575.127852</td>\n",
       "      <td>55.185545</td>\n",
       "      <td>40427.0</td>\n",
       "      <td>40529.0</td>\n",
       "      <td>40575.0</td>\n",
       "      <td>40621.0</td>\n",
       "      <td>40725.0</td>\n",
       "    </tr>\n",
       "    <tr>\n",
       "      <th>date_start_sth</th>\n",
       "      <td>160541.0</td>\n",
       "      <td>40224.991853</td>\n",
       "      <td>484.151390</td>\n",
       "      <td>37935.0</td>\n",
       "      <td>40004.0</td>\n",
       "      <td>40471.0</td>\n",
       "      <td>40561.0</td>\n",
       "      <td>40725.0</td>\n",
       "    </tr>\n",
       "  </tbody>\n",
       "</table>\n",
       "</div>"
      ],
      "text/plain": [
       "                        count          mean          std      min      25%  \\\n",
       "date_closed_account   84225.0  39906.419365   501.706657  37861.0  39520.0   \n",
       "date_confirmed       170306.0  40241.864755   455.182272  38356.0  40066.0   \n",
       "date_contract_open   170306.0  39777.631193   621.879843  36343.0  39278.0   \n",
       "date_final_payment   159251.0  41472.456663  5297.338089  36799.0  39823.0   \n",
       "date_request_b       170306.0  40575.127852    55.185545  40427.0  40529.0   \n",
       "date_start_sth       160541.0  40224.991853   484.151390  37935.0  40004.0   \n",
       "\n",
       "                         50%      75%      max  \n",
       "date_closed_account  40000.0  40343.0  40696.0  \n",
       "date_confirmed       40463.0  40552.0  40720.0  \n",
       "date_contract_open   39934.0  40334.0  40702.0  \n",
       "date_final_payment   40474.0  41046.0  72961.0  \n",
       "date_request_b       40575.0  40621.0  40725.0  \n",
       "date_start_sth       40471.0  40561.0  40725.0  "
      ]
     },
     "execution_count": 7,
     "metadata": {},
     "output_type": "execute_result"
    }
   ],
   "source": [
    "data.filter(regex='^date').describe().transpose()"
   ]
  },
  {
   "cell_type": "code",
   "execution_count": 8,
   "metadata": {},
   "outputs": [
    {
     "data": {
      "image/png": "[encoded data removed]",
      "text/plain": [
       "<matplotlib.figure.Figure at 0x7f1c354c0978>"
      ]
     },
     "metadata": {},
     "output_type": "display_data"
    }
   ],
   "source": [
    "data[data.filter(regex='^date').columns].hist(figsize=(20,20));"
   ]
  },
  {
   "cell_type": "markdown",
   "metadata": {},
   "source": [
    "Przemyślenia:\n",
    "\n",
    "* `date_request_b` jest jakąś datą weryfikacyjną robioną regularnie w czasie trwania kredytu\n",
    "* `date_final_payment` jest datą przyszłą stąd rozkład prawoskośny\n",
    "* Pozostałe daty to coś co już się wydarzyło stąd rozkłady lewoskośne\n",
    "* Trzy zmienne posiadają braki danych. W przypadku `date_closed_account` oraz `date_start_sth` jest to zrozumiałe (konto jest nadal aktywne oraz część osób nie wybrała jakiejś opcji). Natomiast braki dla `date_final_payment` są niezrozumiałe (tym bardziej, że dla niektórych takich osób `val_payment_next>0`) !!!\n",
    "* Ciekawostka jest taka, że `date_final_payment` ma **3 razy więcej** różnych dat niż pozostałe zmienne, natomiast `date_request_b` ma ich **8-9 razy mniej** !!!"
   ]
  },
  {
   "cell_type": "markdown",
   "metadata": {},
   "source": [
    "### duration_account_days\n",
    "\n",
    "Połowa obserwacji `date_closed_account` to braki danych, dlatego generuję nową zmienną `duration_account_days = date_closed_account - date_contract_open`, gdzie braki danych zamieniam na `-1`"
   ]
  },
  {
   "cell_type": "code",
   "execution_count": 9,
   "metadata": {
    "collapsed": true
   },
   "outputs": [],
   "source": [
    "data['duration_account_days'] = data.date_closed_account.astype('float64') - data.date_contract_open.astype('float64')\n",
    "data.duration_account_days = data.duration_account_days.fillna(-1)"
   ]
  },
  {
   "cell_type": "code",
   "execution_count": 10,
   "metadata": {},
   "outputs": [
    {
     "data": {
      "image/png": "[encoded data removed]",
      "text/plain": [
       "<matplotlib.figure.Figure at 0x7f1c36ef5828>"
      ]
     },
     "metadata": {},
     "output_type": "display_data"
    }
   ],
   "source": [
    "data.duration_account_days.hist();"
   ]
  },
  {
   "cell_type": "markdown",
   "metadata": {},
   "source": [
    "### duration_confirmed_minus_contract_open_days"
   ]
  },
  {
   "cell_type": "code",
   "execution_count": 11,
   "metadata": {
    "collapsed": true
   },
   "outputs": [],
   "source": [
    "data['duration_confirmed_minus_contract_open_days'] = data.date_confirmed.astype('float64') - data.date_contract_open.astype('float64')"
   ]
  },
  {
   "cell_type": "code",
   "execution_count": 12,
   "metadata": {},
   "outputs": [
    {
     "data": {
      "image/png": "[encoded data removed]",
      "text/plain": [
       "<matplotlib.figure.Figure at 0x7f1c32db4c88>"
      ]
     },
     "metadata": {},
     "output_type": "display_data"
    }
   ],
   "source": [
    "data['duration_confirmed_minus_contract_open_days'].hist();"
   ]
  },
  {
   "cell_type": "code",
   "execution_count": 13,
   "metadata": {
    "collapsed": true
   },
   "outputs": [],
   "source": [
    "data.loc[data.duration_confirmed_minus_contract_open_days < 0, 'duration_confirmed_minus_contract_open_days'] = 0"
   ]
  },
  {
   "cell_type": "markdown",
   "metadata": {
    "collapsed": true
   },
   "source": [
    "### duration_loan_short_yrs + duration_loan_yrs_is_geq_10 + date_final_payment_loan_short\n",
    "\n",
    "Tworzę zmienne długość trwania pożyczki w latach oraz czy pożyczka dożywotnia (zakładam, że 10+)\n",
    "Czyszczę zmienną date_final_payment tworząc date_final_payment_loan_short poprzez usunięcie wartości dla duration_loan_yrs_is_geq_10 == True"
   ]
  },
  {
   "cell_type": "code",
   "execution_count": 14,
   "metadata": {
    "collapsed": true
   },
   "outputs": [],
   "source": [
    "duration_loan_yrs = (data.date_final_payment.astype('float64') - data.date_contract_open.astype('float64'))/365"
   ]
  },
  {
   "cell_type": "code",
   "execution_count": 15,
   "metadata": {},
   "outputs": [
    {
     "data": {
      "text/html": [
       "<div>\n",
       "<style>\n",
       "    .dataframe thead tr:only-child th {\n",
       "        text-align: right;\n",
       "    }\n",
       "\n",
       "    .dataframe thead th {\n",
       "        text-align: left;\n",
       "    }\n",
       "\n",
       "    .dataframe tbody tr th {\n",
       "        vertical-align: top;\n",
       "    }\n",
       "</style>\n",
       "<table border=\"1\" class=\"dataframe\">\n",
       "  <thead>\n",
       "    <tr style=\"text-align: right;\">\n",
       "      <th></th>\n",
       "      <th>cnt_delay_30d_59d</th>\n",
       "      <th>cnt_delay_5d_29d</th>\n",
       "      <th>cnt_delay_60d_89d</th>\n",
       "      <th>cnt_delay_upto_30d</th>\n",
       "      <th>cnt_delay_upto_5d</th>\n",
       "      <th>cnt_delay_upto_90d</th>\n",
       "      <th>code_b</th>\n",
       "      <th>code_contract_status</th>\n",
       "      <th>code_contract_type</th>\n",
       "      <th>code_frequency_payments</th>\n",
       "      <th>...</th>\n",
       "      <th>is_missing_date_final_payment</th>\n",
       "      <th>is_missing_date_start_sth</th>\n",
       "      <th>is_missing_duration_debt_days</th>\n",
       "      <th>is_missing_val_balance_curr</th>\n",
       "      <th>is_missing_val_debt_amount_max</th>\n",
       "      <th>is_missing_val_debt_curr</th>\n",
       "      <th>is_missing_val_debt_overdue_curr</th>\n",
       "      <th>is_missing_val_payment_next</th>\n",
       "      <th>duration_account_days</th>\n",
       "      <th>duration_confirmed_minus_contract_open_days</th>\n",
       "    </tr>\n",
       "  </thead>\n",
       "  <tbody>\n",
       "    <tr>\n",
       "      <th>7413</th>\n",
       "      <td>0</td>\n",
       "      <td>0</td>\n",
       "      <td>0</td>\n",
       "      <td>0</td>\n",
       "      <td>0</td>\n",
       "      <td>1</td>\n",
       "      <td>1</td>\n",
       "      <td>13</td>\n",
       "      <td>9</td>\n",
       "      <td>3.0</td>\n",
       "      <td>...</td>\n",
       "      <td>False</td>\n",
       "      <td>False</td>\n",
       "      <td>False</td>\n",
       "      <td>True</td>\n",
       "      <td>False</td>\n",
       "      <td>False</td>\n",
       "      <td>False</td>\n",
       "      <td>True</td>\n",
       "      <td>1912.0</td>\n",
       "      <td>1912.0</td>\n",
       "    </tr>\n",
       "    <tr>\n",
       "      <th>15597</th>\n",
       "      <td>0</td>\n",
       "      <td>0</td>\n",
       "      <td>0</td>\n",
       "      <td>0</td>\n",
       "      <td>0</td>\n",
       "      <td>0</td>\n",
       "      <td>3</td>\n",
       "      <td>0</td>\n",
       "      <td>7</td>\n",
       "      <td>7.0</td>\n",
       "      <td>...</td>\n",
       "      <td>False</td>\n",
       "      <td>False</td>\n",
       "      <td>False</td>\n",
       "      <td>False</td>\n",
       "      <td>False</td>\n",
       "      <td>True</td>\n",
       "      <td>False</td>\n",
       "      <td>False</td>\n",
       "      <td>-1.0</td>\n",
       "      <td>1168.0</td>\n",
       "    </tr>\n",
       "    <tr>\n",
       "      <th>18836</th>\n",
       "      <td>0</td>\n",
       "      <td>0</td>\n",
       "      <td>0</td>\n",
       "      <td>0</td>\n",
       "      <td>0</td>\n",
       "      <td>0</td>\n",
       "      <td>3</td>\n",
       "      <td>0</td>\n",
       "      <td>7</td>\n",
       "      <td>7.0</td>\n",
       "      <td>...</td>\n",
       "      <td>False</td>\n",
       "      <td>False</td>\n",
       "      <td>False</td>\n",
       "      <td>False</td>\n",
       "      <td>False</td>\n",
       "      <td>True</td>\n",
       "      <td>False</td>\n",
       "      <td>False</td>\n",
       "      <td>-1.0</td>\n",
       "      <td>1311.0</td>\n",
       "    </tr>\n",
       "    <tr>\n",
       "      <th>25810</th>\n",
       "      <td>0</td>\n",
       "      <td>0</td>\n",
       "      <td>0</td>\n",
       "      <td>0</td>\n",
       "      <td>0</td>\n",
       "      <td>1</td>\n",
       "      <td>1</td>\n",
       "      <td>13</td>\n",
       "      <td>7</td>\n",
       "      <td>3.0</td>\n",
       "      <td>...</td>\n",
       "      <td>False</td>\n",
       "      <td>False</td>\n",
       "      <td>False</td>\n",
       "      <td>True</td>\n",
       "      <td>False</td>\n",
       "      <td>False</td>\n",
       "      <td>False</td>\n",
       "      <td>True</td>\n",
       "      <td>1543.0</td>\n",
       "      <td>1543.0</td>\n",
       "    </tr>\n",
       "    <tr>\n",
       "      <th>47821</th>\n",
       "      <td>0</td>\n",
       "      <td>0</td>\n",
       "      <td>0</td>\n",
       "      <td>0</td>\n",
       "      <td>0</td>\n",
       "      <td>0</td>\n",
       "      <td>3</td>\n",
       "      <td>0</td>\n",
       "      <td>7</td>\n",
       "      <td>7.0</td>\n",
       "      <td>...</td>\n",
       "      <td>False</td>\n",
       "      <td>False</td>\n",
       "      <td>False</td>\n",
       "      <td>False</td>\n",
       "      <td>False</td>\n",
       "      <td>True</td>\n",
       "      <td>False</td>\n",
       "      <td>False</td>\n",
       "      <td>-1.0</td>\n",
       "      <td>731.0</td>\n",
       "    </tr>\n",
       "    <tr>\n",
       "      <th>48078</th>\n",
       "      <td>0</td>\n",
       "      <td>0</td>\n",
       "      <td>0</td>\n",
       "      <td>0</td>\n",
       "      <td>0</td>\n",
       "      <td>1</td>\n",
       "      <td>1</td>\n",
       "      <td>13</td>\n",
       "      <td>7</td>\n",
       "      <td>3.0</td>\n",
       "      <td>...</td>\n",
       "      <td>False</td>\n",
       "      <td>False</td>\n",
       "      <td>False</td>\n",
       "      <td>True</td>\n",
       "      <td>False</td>\n",
       "      <td>False</td>\n",
       "      <td>False</td>\n",
       "      <td>True</td>\n",
       "      <td>1114.0</td>\n",
       "      <td>1114.0</td>\n",
       "    </tr>\n",
       "    <tr>\n",
       "      <th>69642</th>\n",
       "      <td>0</td>\n",
       "      <td>0</td>\n",
       "      <td>0</td>\n",
       "      <td>0</td>\n",
       "      <td>0</td>\n",
       "      <td>0</td>\n",
       "      <td>3</td>\n",
       "      <td>0</td>\n",
       "      <td>7</td>\n",
       "      <td>7.0</td>\n",
       "      <td>...</td>\n",
       "      <td>False</td>\n",
       "      <td>False</td>\n",
       "      <td>False</td>\n",
       "      <td>False</td>\n",
       "      <td>False</td>\n",
       "      <td>True</td>\n",
       "      <td>False</td>\n",
       "      <td>False</td>\n",
       "      <td>-1.0</td>\n",
       "      <td>483.0</td>\n",
       "    </tr>\n",
       "  </tbody>\n",
       "</table>\n",
       "<p>7 rows × 42 columns</p>\n",
       "</div>"
      ],
      "text/plain": [
       "       cnt_delay_30d_59d  cnt_delay_5d_29d  cnt_delay_60d_89d  \\\n",
       "7413                   0                 0                  0   \n",
       "15597                  0                 0                  0   \n",
       "18836                  0                 0                  0   \n",
       "25810                  0                 0                  0   \n",
       "47821                  0                 0                  0   \n",
       "48078                  0                 0                  0   \n",
       "69642                  0                 0                  0   \n",
       "\n",
       "       cnt_delay_upto_30d  cnt_delay_upto_5d  cnt_delay_upto_90d  code_b  \\\n",
       "7413                    0                  0                   1       1   \n",
       "15597                   0                  0                   0       3   \n",
       "18836                   0                  0                   0       3   \n",
       "25810                   0                  0                   1       1   \n",
       "47821                   0                  0                   0       3   \n",
       "48078                   0                  0                   1       1   \n",
       "69642                   0                  0                   0       3   \n",
       "\n",
       "       code_contract_status  code_contract_type  code_frequency_payments  \\\n",
       "7413                     13                   9                      3.0   \n",
       "15597                     0                   7                      7.0   \n",
       "18836                     0                   7                      7.0   \n",
       "25810                    13                   7                      3.0   \n",
       "47821                     0                   7                      7.0   \n",
       "48078                    13                   7                      3.0   \n",
       "69642                     0                   7                      7.0   \n",
       "\n",
       "                          ...                       \\\n",
       "7413                      ...                        \n",
       "15597                     ...                        \n",
       "18836                     ...                        \n",
       "25810                     ...                        \n",
       "47821                     ...                        \n",
       "48078                     ...                        \n",
       "69642                     ...                        \n",
       "\n",
       "      is_missing_date_final_payment  is_missing_date_start_sth  \\\n",
       "7413                          False                      False   \n",
       "15597                         False                      False   \n",
       "18836                         False                      False   \n",
       "25810                         False                      False   \n",
       "47821                         False                      False   \n",
       "48078                         False                      False   \n",
       "69642                         False                      False   \n",
       "\n",
       "       is_missing_duration_debt_days  is_missing_val_balance_curr  \\\n",
       "7413                           False                         True   \n",
       "15597                          False                        False   \n",
       "18836                          False                        False   \n",
       "25810                          False                         True   \n",
       "47821                          False                        False   \n",
       "48078                          False                         True   \n",
       "69642                          False                        False   \n",
       "\n",
       "       is_missing_val_debt_amount_max  is_missing_val_debt_curr  \\\n",
       "7413                            False                     False   \n",
       "15597                           False                      True   \n",
       "18836                           False                      True   \n",
       "25810                           False                     False   \n",
       "47821                           False                      True   \n",
       "48078                           False                     False   \n",
       "69642                           False                      True   \n",
       "\n",
       "       is_missing_val_debt_overdue_curr  is_missing_val_payment_next  \\\n",
       "7413                              False                         True   \n",
       "15597                             False                        False   \n",
       "18836                             False                        False   \n",
       "25810                             False                         True   \n",
       "47821                             False                        False   \n",
       "48078                             False                         True   \n",
       "69642                             False                        False   \n",
       "\n",
       "       duration_account_days  duration_confirmed_minus_contract_open_days  \n",
       "7413                  1912.0                                       1912.0  \n",
       "15597                   -1.0                                       1168.0  \n",
       "18836                   -1.0                                       1311.0  \n",
       "25810                 1543.0                                       1543.0  \n",
       "47821                   -1.0                                        731.0  \n",
       "48078                 1114.0                                       1114.0  \n",
       "69642                   -1.0                                        483.0  \n",
       "\n",
       "[7 rows x 42 columns]"
      ]
     },
     "execution_count": 15,
     "metadata": {},
     "output_type": "execute_result"
    }
   ],
   "source": [
    "data[duration_loan_yrs < 0]"
   ]
  },
  {
   "cell_type": "code",
   "execution_count": 16,
   "metadata": {
    "collapsed": true
   },
   "outputs": [],
   "source": [
    "duration_loan_yrs[duration_loan_yrs < 0] = np.nan # zamieniam na nan"
   ]
  },
  {
   "cell_type": "code",
   "execution_count": 17,
   "metadata": {
    "collapsed": true
   },
   "outputs": [],
   "source": [
    "data['duration_loan_yrs_is_geq_10'] = duration_loan_yrs.map(lambda x: x>=10)"
   ]
  },
  {
   "cell_type": "code",
   "execution_count": 18,
   "metadata": {
    "collapsed": true
   },
   "outputs": [],
   "source": [
    "duration_loan_yrs[duration_loan_yrs >= 10] = np.nan\n",
    "data['duration_loan_short_yrs'] = duration_loan_yrs"
   ]
  },
  {
   "cell_type": "code",
   "execution_count": 19,
   "metadata": {},
   "outputs": [
    {
     "data": {
      "image/png": "[encoded data removed]",
      "text/plain": [
       "<matplotlib.figure.Figure at 0x7f1c32d40978>"
      ]
     },
     "metadata": {},
     "output_type": "display_data"
    }
   ],
   "source": [
    "data.duration_loan_short_yrs.hist();"
   ]
  },
  {
   "cell_type": "code",
   "execution_count": 20,
   "metadata": {
    "collapsed": true
   },
   "outputs": [],
   "source": [
    "data['date_final_payment_loan_short'] = data.date_final_payment\n",
    "data.loc[data.duration_loan_yrs_is_geq_10, 'date_final_payment_loan_short'] = np.nan"
   ]
  },
  {
   "cell_type": "code",
   "execution_count": 21,
   "metadata": {},
   "outputs": [
    {
     "data": {
      "image/png": "[encoded data removed]",
      "text/plain": [
       "<matplotlib.figure.Figure at 0x7f1c32005390>"
      ]
     },
     "metadata": {},
     "output_type": "display_data"
    }
   ],
   "source": [
    "data.date_final_payment_loan_short.hist();"
   ]
  },
  {
   "cell_type": "code",
   "execution_count": null,
   "metadata": {
    "collapsed": true
   },
   "outputs": [],
   "source": []
  },
  {
   "cell_type": "markdown",
   "metadata": {},
   "source": [
    "# Kwoty"
   ]
  },
  {
   "cell_type": "code",
   "execution_count": 22,
   "metadata": {},
   "outputs": [
    {
     "data": {
      "image/png": "[encoded data removed]",
      "text/plain": [
       "<matplotlib.figure.Figure at 0x7f1c32cb2358>"
      ]
     },
     "metadata": {},
     "output_type": "display_data"
    }
   ],
   "source": [
    "# wszystkie wartości mocno prawoskośne\n",
    "\n",
    "data[data.filter(regex='^val').columns].hist(figsize=(20,20));"
   ]
  },
  {
   "cell_type": "markdown",
   "metadata": {},
   "source": [
    "### _log\n",
    "\n",
    "Logarytmujemy - udało się część rozkładów zrobić bardziej symetrycznymi - sporo wartości w okolicach 0"
   ]
  },
  {
   "cell_type": "code",
   "execution_count": 23,
   "metadata": {
    "collapsed": true
   },
   "outputs": [],
   "source": [
    "data['val_balance_curr_log'] = data.val_balance_curr.map(lambda x: np.log(x+1000))\n",
    "data['val_credit_limit_log'] = data.val_credit_limit.map(lambda x: np.log(x+1000))\n",
    "data['val_debt_amount_max_log'] = data.val_debt_amount_max.map(lambda x: np.log(x+1000))\n",
    "data['val_debt_curr_log'] = data.val_debt_curr.map(lambda x: np.log(x+10000))\n",
    "data['val_debt_overdue_curr_log'] = data.val_debt_overdue_curr.map(lambda x: np.log(x+1000))\n",
    "data['val_payment_next_log'] = data.val_payment_next.map(lambda x: np.log(x+1000))"
   ]
  },
  {
   "cell_type": "code",
   "execution_count": 24,
   "metadata": {},
   "outputs": [
    {
     "data": {
      "image/png": "[encoded data removed]",
      "text/plain": [
       "<matplotlib.figure.Figure at 0x7f1c31867240>"
      ]
     },
     "metadata": {},
     "output_type": "display_data"
    }
   ],
   "source": [
    "data[data.filter(regex='^val.*log').columns].hist(figsize=(20,20));"
   ]
  },
  {
   "cell_type": "code",
   "execution_count": null,
   "metadata": {
    "collapsed": true
   },
   "outputs": [],
   "source": []
  },
  {
   "cell_type": "markdown",
   "metadata": {},
   "source": [
    "### val_payment_next_log_divide_debt_curr_log\n",
    "\n",
    "Trochę przez przypadek, ale przynajmniej zmienna symetryczna"
   ]
  },
  {
   "cell_type": "code",
   "execution_count": 25,
   "metadata": {
    "collapsed": true
   },
   "outputs": [],
   "source": [
    "data['val_payment_next_log_divide_debt_curr_log'] = data.val_payment_next_log/data.val_debt_curr_log"
   ]
  },
  {
   "cell_type": "code",
   "execution_count": 26,
   "metadata": {},
   "outputs": [
    {
     "data": {
      "image/png": "[encoded data removed]",
      "text/plain": [
       "<matplotlib.figure.Figure at 0x7f1c32ad4438>"
      ]
     },
     "metadata": {},
     "output_type": "display_data"
    }
   ],
   "source": [
    "data['val_payment_next_log_divide_debt_curr_log'].hist();"
   ]
  },
  {
   "cell_type": "code",
   "execution_count": null,
   "metadata": {
    "collapsed": true
   },
   "outputs": [],
   "source": []
  },
  {
   "cell_type": "markdown",
   "metadata": {},
   "source": [
    "# Kody"
   ]
  },
  {
   "cell_type": "markdown",
   "metadata": {},
   "source": [
    "### code_b_is_1 + code_b_is_2 + code_b_is_3\n",
    "\n",
    "Do zastanowienia się, czy 2 i 3 nie połączyć ze sobą"
   ]
  },
  {
   "cell_type": "code",
   "execution_count": 27,
   "metadata": {},
   "outputs": [
    {
     "data": {
      "text/plain": [
       "1    67605\n",
       "3    61691\n",
       "2    41010\n",
       "Name: code_b, dtype: int64"
      ]
     },
     "execution_count": 27,
     "metadata": {},
     "output_type": "execute_result"
    }
   ],
   "source": [
    "data.code_b.value_counts()"
   ]
  },
  {
   "cell_type": "code",
   "execution_count": 28,
   "metadata": {
    "collapsed": true
   },
   "outputs": [],
   "source": [
    "data['code_b_is_1'] = data['code_b'].map(lambda x: x == 1)\n",
    "data['code_b_is_2'] = data['code_b'].map(lambda x: x == 2)\n",
    "data['code_b_is_3'] = data['code_b'].map(lambda x: x == 3)"
   ]
  },
  {
   "cell_type": "code",
   "execution_count": 29,
   "metadata": {},
   "outputs": [
    {
     "data": {
      "text/plain": [
       "code_b  is_bad\n",
       "1       0.0       0.351464\n",
       "        1.0       0.042992\n",
       "2       0.0       0.217766\n",
       "        1.0       0.023019\n",
       "3       0.0       0.329932\n",
       "        1.0       0.034825\n",
       "Name: code_b, dtype: float64"
      ]
     },
     "execution_count": 29,
     "metadata": {},
     "output_type": "execute_result"
    }
   ],
   "source": [
    "data.groupby(['code_b', 'is_bad'])['code_b'].count().transform(lambda x: x / x.sum())"
   ]
  },
  {
   "cell_type": "code",
   "execution_count": 30,
   "metadata": {},
   "outputs": [
    {
     "name": "stdout",
     "output_type": "stream",
     "text": [
      "False    0.603038\n",
      "True     0.396962\n",
      "Name: code_b_is_1, dtype: float64\n",
      "False    0.759198\n",
      "True     0.240802\n",
      "Name: code_b_is_2, dtype: float64\n",
      "False    0.637764\n",
      "True     0.362236\n",
      "Name: code_b_is_3, dtype: float64\n"
     ]
    }
   ],
   "source": [
    "for column in data[data.filter(regex='^code_b_is').columns]:\n",
    "    print(data[column].value_counts(normalize = True))"
   ]
  },
  {
   "cell_type": "code",
   "execution_count": null,
   "metadata": {
    "collapsed": true
   },
   "outputs": [],
   "source": []
  },
  {
   "cell_type": "markdown",
   "metadata": {
    "collapsed": true
   },
   "source": [
    "### code_contract_type_is_7 + code_contract_type_is_9 + code_contract_type_is_99\n",
    "\n",
    "    1,4,6,10,11,14 dołączone do 7\n",
    "    13 do 9\n",
    "    12 do 99"
   ]
  },
  {
   "cell_type": "code",
   "execution_count": 31,
   "metadata": {},
   "outputs": [
    {
     "data": {
      "text/plain": [
       "code_contract_type  is_bad\n",
       "1                   0.0       0.017525\n",
       "                    1.0       0.001282\n",
       "4                   0.0       0.000006\n",
       "6                   0.0       0.006105\n",
       "                    1.0       0.000375\n",
       "7                   0.0       0.159196\n",
       "                    1.0       0.016987\n",
       "9                   0.0       0.628061\n",
       "                    1.0       0.070866\n",
       "10                  0.0       0.003162\n",
       "                    1.0       0.000260\n",
       "11                  0.0       0.000411\n",
       "                    1.0       0.000042\n",
       "12                  0.0       0.000260\n",
       "                    1.0       0.000036\n",
       "13                  0.0       0.000212\n",
       "                    1.0       0.000024\n",
       "14                  0.0       0.000012\n",
       "99                  0.0       0.084213\n",
       "                    1.0       0.010966\n",
       "Name: code_contract_type, dtype: float64"
      ]
     },
     "execution_count": 31,
     "metadata": {},
     "output_type": "execute_result"
    }
   ],
   "source": [
    "data.groupby(['code_contract_type', 'is_bad'])['code_contract_type'].count().transform(lambda x: x / x.sum())"
   ]
  },
  {
   "cell_type": "code",
   "execution_count": 32,
   "metadata": {},
   "outputs": [
    {
     "data": {
      "text/html": [
       "<div>\n",
       "<style>\n",
       "    .dataframe thead tr:only-child th {\n",
       "        text-align: right;\n",
       "    }\n",
       "\n",
       "    .dataframe thead th {\n",
       "        text-align: left;\n",
       "    }\n",
       "\n",
       "    .dataframe tbody tr th {\n",
       "        vertical-align: top;\n",
       "    }\n",
       "</style>\n",
       "<table border=\"1\" class=\"dataframe\">\n",
       "  <thead>\n",
       "    <tr style=\"text-align: right;\">\n",
       "      <th></th>\n",
       "      <th></th>\n",
       "      <th>code_contract_type</th>\n",
       "    </tr>\n",
       "    <tr>\n",
       "      <th>code_contract_type</th>\n",
       "      <th>is_bad</th>\n",
       "      <th></th>\n",
       "    </tr>\n",
       "  </thead>\n",
       "  <tbody>\n",
       "    <tr>\n",
       "      <th rowspan=\"2\" valign=\"top\">1</th>\n",
       "      <th>0.0</th>\n",
       "      <td>2899</td>\n",
       "    </tr>\n",
       "    <tr>\n",
       "      <th>1.0</th>\n",
       "      <td>212</td>\n",
       "    </tr>\n",
       "    <tr>\n",
       "      <th>4</th>\n",
       "      <th>0.0</th>\n",
       "      <td>1</td>\n",
       "    </tr>\n",
       "    <tr>\n",
       "      <th rowspan=\"2\" valign=\"top\">6</th>\n",
       "      <th>0.0</th>\n",
       "      <td>1010</td>\n",
       "    </tr>\n",
       "    <tr>\n",
       "      <th>1.0</th>\n",
       "      <td>62</td>\n",
       "    </tr>\n",
       "    <tr>\n",
       "      <th rowspan=\"2\" valign=\"top\">7</th>\n",
       "      <th>0.0</th>\n",
       "      <td>26335</td>\n",
       "    </tr>\n",
       "    <tr>\n",
       "      <th>1.0</th>\n",
       "      <td>2810</td>\n",
       "    </tr>\n",
       "    <tr>\n",
       "      <th rowspan=\"2\" valign=\"top\">9</th>\n",
       "      <th>0.0</th>\n",
       "      <td>103897</td>\n",
       "    </tr>\n",
       "    <tr>\n",
       "      <th>1.0</th>\n",
       "      <td>11723</td>\n",
       "    </tr>\n",
       "    <tr>\n",
       "      <th rowspan=\"2\" valign=\"top\">10</th>\n",
       "      <th>0.0</th>\n",
       "      <td>523</td>\n",
       "    </tr>\n",
       "    <tr>\n",
       "      <th>1.0</th>\n",
       "      <td>43</td>\n",
       "    </tr>\n",
       "    <tr>\n",
       "      <th rowspan=\"2\" valign=\"top\">11</th>\n",
       "      <th>0.0</th>\n",
       "      <td>68</td>\n",
       "    </tr>\n",
       "    <tr>\n",
       "      <th>1.0</th>\n",
       "      <td>7</td>\n",
       "    </tr>\n",
       "    <tr>\n",
       "      <th rowspan=\"2\" valign=\"top\">12</th>\n",
       "      <th>0.0</th>\n",
       "      <td>43</td>\n",
       "    </tr>\n",
       "    <tr>\n",
       "      <th>1.0</th>\n",
       "      <td>6</td>\n",
       "    </tr>\n",
       "    <tr>\n",
       "      <th rowspan=\"2\" valign=\"top\">13</th>\n",
       "      <th>0.0</th>\n",
       "      <td>35</td>\n",
       "    </tr>\n",
       "    <tr>\n",
       "      <th>1.0</th>\n",
       "      <td>4</td>\n",
       "    </tr>\n",
       "    <tr>\n",
       "      <th>14</th>\n",
       "      <th>0.0</th>\n",
       "      <td>2</td>\n",
       "    </tr>\n",
       "    <tr>\n",
       "      <th rowspan=\"2\" valign=\"top\">99</th>\n",
       "      <th>0.0</th>\n",
       "      <td>13931</td>\n",
       "    </tr>\n",
       "    <tr>\n",
       "      <th>1.0</th>\n",
       "      <td>1814</td>\n",
       "    </tr>\n",
       "  </tbody>\n",
       "</table>\n",
       "</div>"
      ],
      "text/plain": [
       "                           code_contract_type\n",
       "code_contract_type is_bad                    \n",
       "1                  0.0                   2899\n",
       "                   1.0                    212\n",
       "4                  0.0                      1\n",
       "6                  0.0                   1010\n",
       "                   1.0                     62\n",
       "7                  0.0                  26335\n",
       "                   1.0                   2810\n",
       "9                  0.0                 103897\n",
       "                   1.0                  11723\n",
       "10                 0.0                    523\n",
       "                   1.0                     43\n",
       "11                 0.0                     68\n",
       "                   1.0                      7\n",
       "12                 0.0                     43\n",
       "                   1.0                      6\n",
       "13                 0.0                     35\n",
       "                   1.0                      4\n",
       "14                 0.0                      2\n",
       "99                 0.0                  13931\n",
       "                   1.0                   1814"
      ]
     },
     "execution_count": 32,
     "metadata": {},
     "output_type": "execute_result"
    }
   ],
   "source": [
    "data.groupby(['code_contract_type', 'is_bad']).agg({'code_contract_type': len})"
   ]
  },
  {
   "cell_type": "code",
   "execution_count": 33,
   "metadata": {
    "collapsed": true
   },
   "outputs": [],
   "source": [
    "data['code_contract_type_is_7'] = data['code_contract_type'].map(lambda x: (x == 7) | (x == 1) | (x == 4) | (x == 6) | (x == 10) | (x == 11) | (x == 14))\n",
    "data['code_contract_type_is_9'] = data['code_contract_type'].map(lambda x: (x == 9) | (x == 13))\n",
    "data['code_contract_type_is_99'] = data['code_contract_type'].map(lambda x: (x == 99) | (x == 12))"
   ]
  },
  {
   "cell_type": "code",
   "execution_count": 34,
   "metadata": {},
   "outputs": [
    {
     "name": "stdout",
     "output_type": "stream",
     "text": [
      "False    0.796096\n",
      "True     0.203904\n",
      "Name: code_contract_type_is_7, dtype: float64\n",
      "True     0.701026\n",
      "False    0.298974\n",
      "Name: code_contract_type_is_9, dtype: float64\n",
      "False    0.90493\n",
      "True     0.09507\n",
      "Name: code_contract_type_is_99, dtype: float64\n"
     ]
    }
   ],
   "source": [
    "for column in data[data.filter(regex='^code_contract_type_is').columns]:\n",
    "    print(data[column].value_counts(normalize = True))"
   ]
  },
  {
   "cell_type": "code",
   "execution_count": null,
   "metadata": {
    "collapsed": true
   },
   "outputs": [],
   "source": []
  },
  {
   "cell_type": "markdown",
   "metadata": {},
   "source": [
    "### code_contract_status_is_0 + code_contract_status_is_13 + code_contract_status_is_52\n",
    "\n",
    "rozkład 14 podobny do 13 reszta z uwagi na małą liczebność dołączona do najliczniejszej grupy czyli tez 13"
   ]
  },
  {
   "cell_type": "code",
   "execution_count": 35,
   "metadata": {},
   "outputs": [
    {
     "data": {
      "text/plain": [
       "code_contract_status  is_bad\n",
       "0                     0.0       0.402291\n",
       "                      1.0       0.047230\n",
       "12                    0.0       0.000006\n",
       "13                    0.0       0.440079\n",
       "                      1.0       0.044618\n",
       "14                    0.0       0.003845\n",
       "                      1.0       0.000550\n",
       "21                    0.0       0.000266\n",
       "52                    0.0       0.052392\n",
       "                      1.0       0.008427\n",
       "61                    0.0       0.000284\n",
       "                      1.0       0.000012\n",
       "Name: code_contract_status, dtype: float64"
      ]
     },
     "execution_count": 35,
     "metadata": {},
     "output_type": "execute_result"
    }
   ],
   "source": [
    "data.groupby(['code_contract_status', 'is_bad'])['code_contract_status'].count().transform(lambda x: x / x.sum())"
   ]
  },
  {
   "cell_type": "code",
   "execution_count": 36,
   "metadata": {},
   "outputs": [
    {
     "data": {
      "text/html": [
       "<div>\n",
       "<style>\n",
       "    .dataframe thead tr:only-child th {\n",
       "        text-align: right;\n",
       "    }\n",
       "\n",
       "    .dataframe thead th {\n",
       "        text-align: left;\n",
       "    }\n",
       "\n",
       "    .dataframe tbody tr th {\n",
       "        vertical-align: top;\n",
       "    }\n",
       "</style>\n",
       "<table border=\"1\" class=\"dataframe\">\n",
       "  <thead>\n",
       "    <tr style=\"text-align: right;\">\n",
       "      <th></th>\n",
       "      <th></th>\n",
       "      <th>code_contract_status</th>\n",
       "    </tr>\n",
       "    <tr>\n",
       "      <th>code_contract_status</th>\n",
       "      <th>is_bad</th>\n",
       "      <th></th>\n",
       "    </tr>\n",
       "  </thead>\n",
       "  <tbody>\n",
       "    <tr>\n",
       "      <th rowspan=\"2\" valign=\"top\">0</th>\n",
       "      <th>0.0</th>\n",
       "      <td>66549</td>\n",
       "    </tr>\n",
       "    <tr>\n",
       "      <th>1.0</th>\n",
       "      <td>7813</td>\n",
       "    </tr>\n",
       "    <tr>\n",
       "      <th>12</th>\n",
       "      <th>0.0</th>\n",
       "      <td>1</td>\n",
       "    </tr>\n",
       "    <tr>\n",
       "      <th rowspan=\"2\" valign=\"top\">13</th>\n",
       "      <th>0.0</th>\n",
       "      <td>72800</td>\n",
       "    </tr>\n",
       "    <tr>\n",
       "      <th>1.0</th>\n",
       "      <td>7381</td>\n",
       "    </tr>\n",
       "    <tr>\n",
       "      <th rowspan=\"2\" valign=\"top\">14</th>\n",
       "      <th>0.0</th>\n",
       "      <td>636</td>\n",
       "    </tr>\n",
       "    <tr>\n",
       "      <th>1.0</th>\n",
       "      <td>91</td>\n",
       "    </tr>\n",
       "    <tr>\n",
       "      <th>21</th>\n",
       "      <th>0.0</th>\n",
       "      <td>44</td>\n",
       "    </tr>\n",
       "    <tr>\n",
       "      <th rowspan=\"2\" valign=\"top\">52</th>\n",
       "      <th>0.0</th>\n",
       "      <td>8667</td>\n",
       "    </tr>\n",
       "    <tr>\n",
       "      <th>1.0</th>\n",
       "      <td>1394</td>\n",
       "    </tr>\n",
       "    <tr>\n",
       "      <th rowspan=\"2\" valign=\"top\">61</th>\n",
       "      <th>0.0</th>\n",
       "      <td>47</td>\n",
       "    </tr>\n",
       "    <tr>\n",
       "      <th>1.0</th>\n",
       "      <td>2</td>\n",
       "    </tr>\n",
       "  </tbody>\n",
       "</table>\n",
       "</div>"
      ],
      "text/plain": [
       "                             code_contract_status\n",
       "code_contract_status is_bad                      \n",
       "0                    0.0                    66549\n",
       "                     1.0                     7813\n",
       "12                   0.0                        1\n",
       "13                   0.0                    72800\n",
       "                     1.0                     7381\n",
       "14                   0.0                      636\n",
       "                     1.0                       91\n",
       "21                   0.0                       44\n",
       "52                   0.0                     8667\n",
       "                     1.0                     1394\n",
       "61                   0.0                       47\n",
       "                     1.0                        2"
      ]
     },
     "execution_count": 36,
     "metadata": {},
     "output_type": "execute_result"
    }
   ],
   "source": [
    "data.groupby(['code_contract_status', 'is_bad']).agg({'code_contract_status': len})"
   ]
  },
  {
   "cell_type": "code",
   "execution_count": 37,
   "metadata": {
    "collapsed": true
   },
   "outputs": [],
   "source": [
    "data['code_contract_status_is_0'] = data['code_contract_status'].map(lambda x: x == 0)\n",
    "data['code_contract_status_is_13'] = data['code_contract_status'].map(lambda x: (x == 12) | (x == 13) | (x == 14) | (x == 21) | (x == 61))\n",
    "data['code_contract_status_is_52'] = data['code_contract_status'].map(lambda x: x == 52)"
   ]
  },
  {
   "cell_type": "code",
   "execution_count": 38,
   "metadata": {},
   "outputs": [
    {
     "name": "stdout",
     "output_type": "stream",
     "text": [
      "False    0.555342\n",
      "True     0.444658\n",
      "Name: code_contract_status_is_0, dtype: float64\n",
      "False    0.50512\n",
      "True     0.49488\n",
      "Name: code_contract_status_is_13, dtype: float64\n",
      "False    0.939538\n",
      "True     0.060462\n",
      "Name: code_contract_status_is_52, dtype: float64\n"
     ]
    }
   ],
   "source": [
    "for column in data[data.filter(regex='^code_contract_status_is').columns]:\n",
    "    print(data[column].value_counts(normalize = True))"
   ]
  },
  {
   "cell_type": "code",
   "execution_count": null,
   "metadata": {
    "collapsed": true
   },
   "outputs": [],
   "source": []
  },
  {
   "cell_type": "markdown",
   "metadata": {},
   "source": [
    "### code_trustability__cnt\n",
    "\n",
    "TODO:"
   ]
  },
  {
   "cell_type": "code",
   "execution_count": 39,
   "metadata": {
    "collapsed": true
   },
   "outputs": [],
   "source": [
    "for val in ['0', '1', '2', '3', '4', '5', '7', '9', 'A', 'X']:\n",
    "    data['code_trustability_cnt_' + val.lower()] = data.code_trustability.map(lambda x: x if isinstance(x, float) else x.count(val))"
   ]
  },
  {
   "cell_type": "code",
   "execution_count": 40,
   "metadata": {},
   "outputs": [
    {
     "data": {
      "image/png": "[encoded data removed]",
      "text/plain": [
       "<matplotlib.figure.Figure at 0x7f1c3295b080>"
      ]
     },
     "metadata": {},
     "output_type": "display_data"
    }
   ],
   "source": [
    "data[data.filter(regex='code_trustability_cnt_').columns].hist(figsize=(20,20));"
   ]
  },
  {
   "cell_type": "code",
   "execution_count": null,
   "metadata": {
    "collapsed": true
   },
   "outputs": [],
   "source": []
  },
  {
   "cell_type": "code",
   "execution_count": 41,
   "metadata": {},
   "outputs": [
    {
     "name": "stdout",
     "output_type": "stream",
     "text": [
      "0.0    0.840252\n",
      "1.0    0.143334\n",
      "2.0    0.011517\n",
      "3.0    0.004897\n",
      "Name: code_trustability_cnt_0, dtype: float64\n",
      "3.0    0.811465\n",
      "2.0    0.066609\n",
      "0.0    0.065444\n",
      "1.0    0.056482\n",
      "Name: code_trustability_cnt_1, dtype: float64\n",
      "0.0    0.871733\n",
      "1.0    0.089462\n",
      "2.0    0.024727\n",
      "3.0    0.014078\n",
      "Name: code_trustability_cnt_2, dtype: float64\n",
      "0.0    0.913330\n",
      "1.0    0.070262\n",
      "2.0    0.012652\n",
      "3.0    0.003756\n",
      "Name: code_trustability_cnt_3, dtype: float64\n",
      "0.0    0.933142\n",
      "1.0    0.057434\n",
      "2.0    0.007670\n",
      "3.0    0.001754\n",
      "Name: code_trustability_cnt_4, dtype: float64\n",
      "0.0    0.933306\n",
      "3.0    0.051706\n",
      "1.0    0.008647\n",
      "2.0    0.006341\n",
      "Name: code_trustability_cnt_5, dtype: float64\n",
      "0.0    0.998853\n",
      "1.0    0.001110\n",
      "2.0    0.000030\n",
      "3.0    0.000006\n",
      "Name: code_trustability_cnt_7, dtype: float64\n",
      "0.0    0.974435\n",
      "3.0    0.021851\n",
      "1.0    0.002494\n",
      "2.0    0.001220\n",
      "Name: code_trustability_cnt_9, dtype: float64\n",
      "0.0    0.782144\n",
      "1.0    0.116543\n",
      "3.0    0.054558\n",
      "2.0    0.046754\n",
      "Name: code_trustability_cnt_a, dtype: float64\n",
      "0.0    0.455136\n",
      "3.0    0.253518\n",
      "1.0    0.211491\n",
      "2.0    0.079856\n",
      "Name: code_trustability_cnt_x, dtype: float64\n"
     ]
    }
   ],
   "source": [
    "for column in data[data.filter(regex='^code_trustability_cnt_').columns]:\n",
    "    print(data[column].map(lambda x: 3 if x > 2 else x).value_counts(normalize = True))"
   ]
  },
  {
   "cell_type": "code",
   "execution_count": 42,
   "metadata": {
    "collapsed": true
   },
   "outputs": [],
   "source": [
    "for column in data[data.filter(regex='^code_trustability_cnt_').columns]:\n",
    "    data[column + '_limit_to_2'] = data[column].map(lambda x: 2 if x > 1 else x)"
   ]
  },
  {
   "cell_type": "code",
   "execution_count": null,
   "metadata": {
    "collapsed": true
   },
   "outputs": [],
   "source": []
  },
  {
   "cell_type": "markdown",
   "metadata": {},
   "source": [
    "### code_frequency_payments_is_0 + code_frequency_payments_is_0_0 + code_frequency_payments_is_3 + code_frequency_payments_is_3_0 + code_frequency_payments_is_7 + code_frequency_payments_is_7_0\n",
    "\n",
    "    wszystko poza 0 i 7 do 3"
   ]
  },
  {
   "cell_type": "code",
   "execution_count": 43,
   "metadata": {},
   "outputs": [
    {
     "data": {
      "text/plain": [
       "code_frequency_payments  is_bad\n",
       "0.0                      0.0       0.100171\n",
       "                         1.0       0.012292\n",
       "1.0                      0.0       0.001658\n",
       "                         1.0       0.000472\n",
       "2.0                      0.0       0.018886\n",
       "                         1.0       0.001742\n",
       "3.0                      0.0       0.697817\n",
       "                         1.0       0.076155\n",
       "4.0                      0.0       0.000054\n",
       "5.0                      0.0       0.000030\n",
       "                         1.0       0.000006\n",
       "6.0                      0.0       0.000236\n",
       "                         1.0       0.000006\n",
       "7.0                      0.0       0.080251\n",
       "                         1.0       0.010187\n",
       "8.0                      0.0       0.000024\n",
       "9.0                      0.0       0.000012\n",
       "Name: code_frequency_payments, dtype: float64"
      ]
     },
     "execution_count": 43,
     "metadata": {},
     "output_type": "execute_result"
    }
   ],
   "source": [
    "data.groupby(['code_frequency_payments', 'is_bad'])['code_frequency_payments'].count().transform(lambda x: x / x.sum())"
   ]
  },
  {
   "cell_type": "code",
   "execution_count": 44,
   "metadata": {},
   "outputs": [
    {
     "data": {
      "text/html": [
       "<div>\n",
       "<style>\n",
       "    .dataframe thead tr:only-child th {\n",
       "        text-align: right;\n",
       "    }\n",
       "\n",
       "    .dataframe thead th {\n",
       "        text-align: left;\n",
       "    }\n",
       "\n",
       "    .dataframe tbody tr th {\n",
       "        vertical-align: top;\n",
       "    }\n",
       "</style>\n",
       "<table border=\"1\" class=\"dataframe\">\n",
       "  <thead>\n",
       "    <tr style=\"text-align: right;\">\n",
       "      <th></th>\n",
       "      <th></th>\n",
       "      <th>code_frequency_payments</th>\n",
       "    </tr>\n",
       "    <tr>\n",
       "      <th>code_frequency_payments</th>\n",
       "      <th>is_bad</th>\n",
       "      <th></th>\n",
       "    </tr>\n",
       "  </thead>\n",
       "  <tbody>\n",
       "    <tr>\n",
       "      <th rowspan=\"2\" valign=\"top\">0.0</th>\n",
       "      <th>0.0</th>\n",
       "      <td>16559.0</td>\n",
       "    </tr>\n",
       "    <tr>\n",
       "      <th>1.0</th>\n",
       "      <td>2032.0</td>\n",
       "    </tr>\n",
       "    <tr>\n",
       "      <th rowspan=\"2\" valign=\"top\">1.0</th>\n",
       "      <th>0.0</th>\n",
       "      <td>274.0</td>\n",
       "    </tr>\n",
       "    <tr>\n",
       "      <th>1.0</th>\n",
       "      <td>78.0</td>\n",
       "    </tr>\n",
       "    <tr>\n",
       "      <th rowspan=\"2\" valign=\"top\">2.0</th>\n",
       "      <th>0.0</th>\n",
       "      <td>3122.0</td>\n",
       "    </tr>\n",
       "    <tr>\n",
       "      <th>1.0</th>\n",
       "      <td>288.0</td>\n",
       "    </tr>\n",
       "    <tr>\n",
       "      <th rowspan=\"2\" valign=\"top\">3.0</th>\n",
       "      <th>0.0</th>\n",
       "      <td>115354.0</td>\n",
       "    </tr>\n",
       "    <tr>\n",
       "      <th>1.0</th>\n",
       "      <td>12589.0</td>\n",
       "    </tr>\n",
       "    <tr>\n",
       "      <th>4.0</th>\n",
       "      <th>0.0</th>\n",
       "      <td>9.0</td>\n",
       "    </tr>\n",
       "    <tr>\n",
       "      <th rowspan=\"2\" valign=\"top\">5.0</th>\n",
       "      <th>0.0</th>\n",
       "      <td>5.0</td>\n",
       "    </tr>\n",
       "    <tr>\n",
       "      <th>1.0</th>\n",
       "      <td>1.0</td>\n",
       "    </tr>\n",
       "    <tr>\n",
       "      <th rowspan=\"2\" valign=\"top\">6.0</th>\n",
       "      <th>0.0</th>\n",
       "      <td>39.0</td>\n",
       "    </tr>\n",
       "    <tr>\n",
       "      <th>1.0</th>\n",
       "      <td>1.0</td>\n",
       "    </tr>\n",
       "    <tr>\n",
       "      <th rowspan=\"2\" valign=\"top\">7.0</th>\n",
       "      <th>0.0</th>\n",
       "      <td>13266.0</td>\n",
       "    </tr>\n",
       "    <tr>\n",
       "      <th>1.0</th>\n",
       "      <td>1684.0</td>\n",
       "    </tr>\n",
       "    <tr>\n",
       "      <th>8.0</th>\n",
       "      <th>0.0</th>\n",
       "      <td>4.0</td>\n",
       "    </tr>\n",
       "    <tr>\n",
       "      <th>9.0</th>\n",
       "      <th>0.0</th>\n",
       "      <td>2.0</td>\n",
       "    </tr>\n",
       "  </tbody>\n",
       "</table>\n",
       "</div>"
      ],
      "text/plain": [
       "                                code_frequency_payments\n",
       "code_frequency_payments is_bad                         \n",
       "0.0                     0.0                     16559.0\n",
       "                        1.0                      2032.0\n",
       "1.0                     0.0                       274.0\n",
       "                        1.0                        78.0\n",
       "2.0                     0.0                      3122.0\n",
       "                        1.0                       288.0\n",
       "3.0                     0.0                    115354.0\n",
       "                        1.0                     12589.0\n",
       "4.0                     0.0                         9.0\n",
       "5.0                     0.0                         5.0\n",
       "                        1.0                         1.0\n",
       "6.0                     0.0                        39.0\n",
       "                        1.0                         1.0\n",
       "7.0                     0.0                     13266.0\n",
       "                        1.0                      1684.0\n",
       "8.0                     0.0                         4.0\n",
       "9.0                     0.0                         2.0"
      ]
     },
     "execution_count": 44,
     "metadata": {},
     "output_type": "execute_result"
    }
   ],
   "source": [
    "data.groupby(['code_frequency_payments', 'is_bad']).agg({'code_frequency_payments': len})"
   ]
  },
  {
   "cell_type": "code",
   "execution_count": null,
   "metadata": {
    "collapsed": true
   },
   "outputs": [],
   "source": []
  },
  {
   "cell_type": "code",
   "execution_count": 45,
   "metadata": {
    "collapsed": true
   },
   "outputs": [],
   "source": [
    "data['code_frequency_payments_is_0'] = data['code_frequency_payments'].map(lambda x: x == 0)\n",
    "data['code_frequency_payments_is_3'] = data['code_frequency_payments'].map(lambda x: (x == 1) | (x == 2) | (x == 3) |(x == 4) | (x == 5) | (x == 6) | (x == 8) | (x == 9))\n",
    "data['code_frequency_payments_is_7'] = data['code_frequency_payments'].map(lambda x: x == 7) "
   ]
  },
  {
   "cell_type": "code",
   "execution_count": 46,
   "metadata": {},
   "outputs": [
    {
     "name": "stdout",
     "output_type": "stream",
     "text": [
      "False    0.888595\n",
      "True     0.111405\n",
      "Name: code_frequency_payments_is_0, dtype: float64\n",
      "True     0.798275\n",
      "False    0.201725\n",
      "Name: code_frequency_payments_is_3, dtype: float64\n",
      "False    0.910414\n",
      "True     0.089586\n",
      "Name: code_frequency_payments_is_7, dtype: float64\n"
     ]
    }
   ],
   "source": [
    "for column in data[data.filter(regex='^code_frequency_payments_is_').columns]:\n",
    "    print(data[column].map(lambda x: 3 if x > 2 else x).value_counts(normalize = True))"
   ]
  },
  {
   "cell_type": "code",
   "execution_count": null,
   "metadata": {
    "collapsed": true
   },
   "outputs": [],
   "source": []
  },
  {
   "cell_type": "markdown",
   "metadata": {},
   "source": [
    "# cnt delay"
   ]
  },
  {
   "cell_type": "code",
   "execution_count": 47,
   "metadata": {},
   "outputs": [
    {
     "name": "stdout",
     "output_type": "stream",
     "text": [
      "0    0.884273\n",
      "1    0.073180\n",
      "2    0.042547\n",
      "Name: cnt_delay_30d_59d, dtype: float64\n",
      "0    0.780319\n",
      "2    0.113525\n",
      "1    0.106156\n",
      "Name: cnt_delay_5d_29d, dtype: float64\n",
      "0    0.936068\n",
      "1    0.047937\n",
      "2    0.015995\n",
      "Name: cnt_delay_60d_89d, dtype: float64\n",
      "0    0.749216\n",
      "2    0.139337\n",
      "1    0.111446\n",
      "Name: cnt_delay_upto_30d, dtype: float64\n",
      "0    0.924647\n",
      "1    0.041666\n",
      "2    0.033686\n",
      "Name: cnt_delay_upto_5d, dtype: float64\n",
      "0    0.918617\n",
      "2    0.053932\n",
      "1    0.027451\n",
      "Name: cnt_delay_upto_90d, dtype: float64\n"
     ]
    }
   ],
   "source": [
    "for column in data[data.filter(regex='^cnt_delay_').columns]:\n",
    "    print(data[column].map(lambda x: 2 if x > 1 else x).value_counts(normalize = True))"
   ]
  },
  {
   "cell_type": "code",
   "execution_count": 48,
   "metadata": {
    "collapsed": true
   },
   "outputs": [],
   "source": [
    "for column in data[data.filter(regex='^cnt_delay_').columns]:\n",
    "    data[column + '_limit_to_2'] = data[column].map(lambda x: 2 if x > 1 else x)"
   ]
  },
  {
   "cell_type": "code",
   "execution_count": null,
   "metadata": {
    "collapsed": true
   },
   "outputs": [],
   "source": []
  },
  {
   "cell_type": "markdown",
   "metadata": {},
   "source": [
    "# Pozostałe"
   ]
  },
  {
   "cell_type": "markdown",
   "metadata": {},
   "source": [
    "### id_customer_sqrt + id_customer_cnt + id_customer_is_unique"
   ]
  },
  {
   "cell_type": "code",
   "execution_count": 49,
   "metadata": {
    "collapsed": true
   },
   "outputs": [],
   "source": [
    "data['id_customer_sqrt'] = data['id_customer'].map(lambda x: np.sqrt(x + 1000)).astype('int16')"
   ]
  },
  {
   "cell_type": "code",
   "execution_count": 50,
   "metadata": {},
   "outputs": [
    {
     "data": {
      "text/plain": [
       "<matplotlib.axes._subplots.AxesSubplot at 0x7f1c32ab3c88>"
      ]
     },
     "execution_count": 50,
     "metadata": {},
     "output_type": "execute_result"
    },
    {
     "data": {
      "image/png": "[encoded data removed]",
      "text/plain": [
       "<matplotlib.figure.Figure at 0x7f1c329be198>"
      ]
     },
     "metadata": {},
     "output_type": "display_data"
    }
   ],
   "source": [
    "data.id_customer.map(lambda x: np.sqrt(x + 1000)).hist()"
   ]
  },
  {
   "cell_type": "code",
   "execution_count": 51,
   "metadata": {
    "collapsed": true
   },
   "outputs": [],
   "source": [
    "customers = data['id_customer'].value_counts().reset_index()\n",
    "customers.columns = ['id_customer', 'id_customer_cnt']\n",
    "customers\n",
    "\n",
    "data = pd.merge(data, customers, on = 'id_customer')"
   ]
  },
  {
   "cell_type": "code",
   "execution_count": 52,
   "metadata": {},
   "outputs": [
    {
     "data": {
      "text/plain": [
       "<matplotlib.axes._subplots.AxesSubplot at 0x7f1c31913a90>"
      ]
     },
     "execution_count": 52,
     "metadata": {},
     "output_type": "execute_result"
    },
    {
     "data": {
      "image/png": "[encoded data removed]",
      "text/plain": [
       "<matplotlib.figure.Figure at 0x7f1c31ab5470>"
      ]
     },
     "metadata": {},
     "output_type": "display_data"
    }
   ],
   "source": [
    "data.id_customer_cnt.hist()"
   ]
  },
  {
   "cell_type": "code",
   "execution_count": 53,
   "metadata": {
    "collapsed": true
   },
   "outputs": [],
   "source": [
    "data['id_customer_cnt_limit_to_2'] = data.id_customer_cnt.map(lambda x: 2 if x > 1 else x)"
   ]
  },
  {
   "cell_type": "code",
   "execution_count": 54,
   "metadata": {},
   "outputs": [
    {
     "data": {
      "text/plain": [
       "2    0.944242\n",
       "1    0.055758\n",
       "Name: id_customer_cnt_limit_to_2, dtype: float64"
      ]
     },
     "execution_count": 54,
     "metadata": {},
     "output_type": "execute_result"
    }
   ],
   "source": [
    "data.id_customer_cnt_limit_to_2.value_counts(normalize = True)"
   ]
  },
  {
   "cell_type": "code",
   "execution_count": 55,
   "metadata": {},
   "outputs": [
    {
     "data": {
      "text/plain": [
       "id_customer_cnt_limit_to_2  is_bad\n",
       "1                           0.0         3779\n",
       "                            1.0          836\n",
       "2                           0.0       144965\n",
       "                            1.0        15845\n",
       "Name: id_customer_cnt_limit_to_2, dtype: int64"
      ]
     },
     "execution_count": 55,
     "metadata": {},
     "output_type": "execute_result"
    }
   ],
   "source": [
    "data.groupby(['id_customer_cnt_limit_to_2', 'is_bad'])['id_customer_cnt_limit_to_2'].count()"
   ]
  },
  {
   "cell_type": "code",
   "execution_count": null,
   "metadata": {
    "collapsed": true
   },
   "outputs": [],
   "source": []
  },
  {
   "cell_type": "markdown",
   "metadata": {},
   "source": [
    "### duration_debt_days_limit"
   ]
  },
  {
   "cell_type": "code",
   "execution_count": 56,
   "metadata": {
    "collapsed": true
   },
   "outputs": [],
   "source": [
    "data['duration_debt_days_limit_1'] = data['duration_debt_days'].map(lambda x: 1 if x > 0 else x)"
   ]
  },
  {
   "cell_type": "code",
   "execution_count": 57,
   "metadata": {},
   "outputs": [
    {
     "data": {
      "text/plain": [
       "0.0    0.92769\n",
       "1.0    0.07231\n",
       "Name: duration_debt_days_limit_1, dtype: float64"
      ]
     },
     "execution_count": 57,
     "metadata": {},
     "output_type": "execute_result"
    }
   ],
   "source": [
    "data.duration_debt_days_limit_1.value_counts(normalize = True)"
   ]
  },
  {
   "cell_type": "code",
   "execution_count": null,
   "metadata": {
    "collapsed": true
   },
   "outputs": [],
   "source": []
  },
  {
   "cell_type": "markdown",
   "metadata": {},
   "source": [
    "### loan_rate_limit"
   ]
  },
  {
   "cell_type": "code",
   "execution_count": 58,
   "metadata": {
    "collapsed": true
   },
   "outputs": [],
   "source": [
    "data['loan_rate_limit_5'] = data['loan_rate'].map(lambda x: 5 if x > 4 else x)"
   ]
  },
  {
   "cell_type": "code",
   "execution_count": 59,
   "metadata": {},
   "outputs": [
    {
     "data": {
      "text/plain": [
       "0    0.915282\n",
       "5    0.084718\n",
       "Name: loan_rate_limit_5, dtype: float64"
      ]
     },
     "execution_count": 59,
     "metadata": {},
     "output_type": "execute_result"
    }
   ],
   "source": [
    "data.loan_rate_limit_5.value_counts(normalize = True)"
   ]
  },
  {
   "cell_type": "code",
   "execution_count": null,
   "metadata": {
    "collapsed": true
   },
   "outputs": [],
   "source": []
  },
  {
   "cell_type": "markdown",
   "metadata": {},
   "source": [
    "### Zapis"
   ]
  },
  {
   "cell_type": "code",
   "execution_count": 60,
   "metadata": {
    "collapsed": true
   },
   "outputs": [],
   "source": [
    "data.to_hdf('../data/data.base_wo_with_primary_fe.h5', 'base_wo_with_primary_fe', format='table')"
   ]
  },
  {
   "cell_type": "code",
   "execution_count": 61,
   "metadata": {},
   "outputs": [
    {
     "name": "stdout",
     "output_type": "stream",
     "text": [
      "Zapisano dane do pliku ../data/data.base_wo_with_primary_fe.h5\n"
     ]
    }
   ],
   "source": [
    "print(\"Zapisano dane do pliku ../data/data.base_wo_with_primary_fe.h5\")"
   ]
  },
  {
   "cell_type": "code",
   "execution_count": null,
   "metadata": {
    "collapsed": true
   },
   "outputs": [],
   "source": []
  }
 ],
 "metadata": {
  "kernelspec": {
   "display_name": "Python 3",
   "language": "python",
   "name": "python3"
  },
  "language_info": {
   "codemirror_mode": {
    "name": "ipython",
    "version": 3
   },
   "file_extension": ".py",
   "mimetype": "text/x-python",
   "name": "python",
   "nbconvert_exporter": "python",
   "pygments_lexer": "ipython3",
   "version": "3.6.2"
  }
 },
 "nbformat": 4,
 "nbformat_minor": 2
}
