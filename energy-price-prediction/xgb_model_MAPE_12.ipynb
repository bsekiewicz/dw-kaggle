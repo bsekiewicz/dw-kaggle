{
 "cells": [
  {
   "cell_type": "code",
   "execution_count": 1,
   "id": "spectacular-equality",
   "metadata": {},
   "outputs": [],
   "source": [
    "from datetime import timedelta\n",
    "\n",
    "import holidays\n",
    "import numpy as np\n",
    "import pandas as pd\n",
    "import matplotlib.pyplot as plt\n",
    "\n",
    "from sklearn.model_selection import GroupKFold\n",
    "\n",
    "from eli5.sklearn import PermutationImportance\n",
    "import eli5\n",
    "\n",
    "from optuna import create_study, Trial, visualization, progress_bar\n",
    "from optuna.samplers import TPESampler\n",
    "import optuna\n",
    "\n",
    "from xgboost import XGBRegressor\n",
    "from lightgbm import LGBMRegressor\n",
    "from catboost import CatBoostRegressor\n",
    "\n",
    "from tqdm.auto import tqdm"
   ]
  },
  {
   "cell_type": "code",
   "execution_count": 2,
   "id": "fewer-month",
   "metadata": {},
   "outputs": [],
   "source": [
    "def mean_absolute_percentage_error(y_true, y_pred): \n",
    "    y_true, y_pred = np.array(y_true), np.array(y_pred)\n",
    "    return np.mean(np.abs((y_true - y_pred) / y_true)) * 100\n",
    "\n",
    "def mean_absolute_percentage_error_log(y_true, y_pred): \n",
    "    \"\"\"\n",
    "    predykcje na log\n",
    "    \"\"\"\n",
    "    y_true, y_pred = np.array(np.expm1(y_true)), np.array(np.expm1(y_pred))\n",
    "    return np.mean(np.abs((y_true - y_pred) / y_true)) * 100"
   ]
  },
  {
   "cell_type": "code",
   "execution_count": 3,
   "id": "qualified-community",
   "metadata": {},
   "outputs": [
    {
     "name": "stdout",
     "output_type": "stream",
     "text": [
      "<class 'pandas.core.frame.DataFrame'>\n",
      "DatetimeIndex: 29328 entries, 2019-06-28 00:00:00 to 2022-10-31 23:00:00\n",
      "Freq: H\n",
      "Data columns (total 2 columns):\n",
      " #   Column   Non-Null Count  Dtype  \n",
      "---  ------   --------------  -----  \n",
      " 0   price    26253 non-null  float64\n",
      " 1   is_test  29328 non-null  bool   \n",
      "dtypes: bool(1), float64(1)\n",
      "memory usage: 486.9 KB\n"
     ]
    }
   ],
   "source": [
    "df = pd.read_csv(\"../input/energy_price.csv\", parse_dates=[\"datetime\"], index_col=\"datetime\")\n",
    "\n",
    "# brakujące daty\n",
    "new_index = pd.date_range(start=df.index.min(), end=df.index.max(), freq='H')\n",
    "df = df.reindex(new_index)\n",
    "df.sort_index(inplace=True) # raczej nie jest to potrzebne\n",
    "df['is_test'] = df['is_test'].fillna(False)\n",
    "\n",
    "df.info()"
   ]
  },
  {
   "cell_type": "markdown",
   "id": "sixth-surge",
   "metadata": {},
   "source": [
    "### Własności daty\n",
    "\n",
    "Zmienne, które można wygenerować w oparciu o datę"
   ]
  },
  {
   "cell_type": "code",
   "execution_count": 4,
   "id": "supposed-knowing",
   "metadata": {},
   "outputs": [],
   "source": [
    "df['date_year'] = df.index.year\n",
    "df['date_quarter'] = df.index.quarter\n",
    "df['date_month'] = df.index.month\n",
    "df['date_week'] = df.index.week\n",
    "df['date_dayofweek'] = df.index.dayofweek\n",
    "df['date_day'] = df.index.day\n",
    "df['date_hour'] = df.index.hour"
   ]
  },
  {
   "cell_type": "code",
   "execution_count": 5,
   "id": "bronze-sensitivity",
   "metadata": {},
   "outputs": [],
   "source": [
    "df['is_weekend'] = df.index.weekday.isin([5, 6]).astype(int)"
   ]
  },
  {
   "cell_type": "code",
   "execution_count": 6,
   "id": "laden-channels",
   "metadata": {},
   "outputs": [],
   "source": [
    "pl_holidays = holidays.Poland(years=[2019, 2020, 2021, 2022])\n",
    "df['is_holiday'] = df.index.isin(pl_holidays).astype(int)"
   ]
  },
  {
   "cell_type": "code",
   "execution_count": 7,
   "id": "macro-giant",
   "metadata": {},
   "outputs": [],
   "source": [
    "def get_season(date):\n",
    "    year = date.year\n",
    "    seasons = {(year, 1, 1): 0, (year, 3, 20): 1, (year, 6, 21): 2, (year, 9, 22): 3, (year, 12, 21): 0}\n",
    "    return seasons[max(filter(lambda x: x <= (year, date.month, date.day), seasons))]\n",
    "\n",
    "df['season'] = df.index.map(get_season)"
   ]
  },
  {
   "cell_type": "code",
   "execution_count": 8,
   "id": "distinguished-optics",
   "metadata": {},
   "outputs": [],
   "source": [
    "def get_time_of_day(hour):\n",
    "    if 6 <= hour < 12:\n",
    "        return 0\n",
    "    elif 12 <= hour < 18:\n",
    "        return 1\n",
    "    elif 18 <= hour < 24:\n",
    "        return 2\n",
    "    else:\n",
    "        return 3\n",
    "df['time_of_day'] = df.index.hour.map(get_time_of_day)"
   ]
  },
  {
   "cell_type": "code",
   "execution_count": 9,
   "id": "cutting-cache",
   "metadata": {},
   "outputs": [],
   "source": [
    "def get_tariff(hour):\n",
    "    if 6 <= hour < 22:\n",
    "        return 1\n",
    "    else:\n",
    "        return 0\n",
    "df['tariff'] = df.index.hour.map(get_tariff)"
   ]
  },
  {
   "cell_type": "code",
   "execution_count": 10,
   "id": "applied-sydney",
   "metadata": {},
   "outputs": [],
   "source": [
    "df['part_of_month'] = df.index.day.map(lambda day: 0 if day < 10 else 1 if day < 20 else 2)"
   ]
  },
  {
   "cell_type": "markdown",
   "id": "ideal-draft",
   "metadata": {},
   "source": [
    "### Lag\n",
    "\n",
    "Wartości sprzed i*6 godzin, począwszy od 24 (1 dzień), a skończywszy na 28 dniach (~miesiąc)"
   ]
  },
  {
   "cell_type": "code",
   "execution_count": 11,
   "id": "sexual-breeding",
   "metadata": {},
   "outputs": [],
   "source": [
    "for i in range(4, 4*8+1):\n",
    "    df[f'lag_{i*6}_hours'] = df['price'].shift(i*6)"
   ]
  },
  {
   "cell_type": "markdown",
   "id": "recognized-provincial",
   "metadata": {},
   "source": [
    "### Okienko danych\n",
    "Cofam się o i dni i liczę statystyki na okienku od 1 do 7 dni wstecz"
   ]
  },
  {
   "cell_type": "code",
   "execution_count": 12,
   "id": "flexible-afternoon",
   "metadata": {},
   "outputs": [],
   "source": [
    "for window_size in [1, 2, 3, 4, 5, 6, 7]:\n",
    "    for i in [1, 8]:\n",
    "        df[f'rolling_{window_size}_days_shift_{i}_days_mean'] = df['price'].shift(i*24).rolling(window_size*24).mean()\n",
    "        df[f'rolling_{window_size}_days_shift_{i}_days_std'] = df['price'].shift(i*24).rolling(window_size*24).std()\n",
    "        df[f'rolling_{window_size}_days_shift_{i}_days_min'] = df['price'].shift(i*24).rolling(window_size*24).min()\n",
    "        df[f'rolling_{window_size}_days_shift_{i}_days_max'] = df['price'].shift(i*24).rolling(window_size*24).max()\n",
    "        df[f'rolling_{window_size}_days_shift_{i}_days_median'] = df['price'].shift(i*24).rolling(window_size*24).median()"
   ]
  },
  {
   "cell_type": "markdown",
   "id": "bizarre-event",
   "metadata": {},
   "source": [
    "### Zliczanie wartości\n",
    "\n",
    "Ile wartości było większych od średnie/mediany w ostatnim tygodniu i w przedostatnim tygodniu"
   ]
  },
  {
   "cell_type": "code",
   "execution_count": 13,
   "id": "perfect-fireplace",
   "metadata": {},
   "outputs": [],
   "source": [
    "def count_higher_than_last_week_mean(series, df, date, i):\n",
    "    last_week = df[(df.index < date - pd.Timedelta(days=i)) & (df.index >= date - pd.Timedelta(days=i+7))]\n",
    "    if len(last_week) > 0:\n",
    "        last_week_mean = last_week['price'].mean()\n",
    "        return len([x for x in series if x > last_week_mean])\n",
    "    else:\n",
    "        return np.nan\n",
    "    \n",
    "def count_higher_than_last_week_median(series, df, date, i):\n",
    "    last_week = df[(df.index < date - pd.Timedelta(days=i)) & (df.index >= date - pd.Timedelta(days=i+7))]\n",
    "    if len(last_week) > 0:\n",
    "        last_week_median = last_week['price'].median()\n",
    "        return len([x for x in series if x > last_week_median])\n",
    "    else:\n",
    "        return np.nan\n",
    "\n",
    "for window_size in [1, 7]:\n",
    "    for i in [1]:\n",
    "        df[f'rolling_{window_size}_days_shift_{i}_days_mean_high_price_count'] = df['price'].shift(i*24).rolling(window_size*24, min_periods=1).apply(lambda x: count_higher_than_last_week_mean(x, df, df.index[i], window_size))\n",
    "        df[f'rolling_{window_size}_days_shift_{i}_days_median_high_price_count'] = df['price'].shift(i*24).rolling(window_size*24, min_periods=1).apply(lambda x: count_higher_than_last_week_median(x, df, df.index[i], window_size))"
   ]
  },
  {
   "cell_type": "markdown",
   "id": "rough-arcade",
   "metadata": {},
   "source": [
    "### Różności"
   ]
  },
  {
   "cell_type": "code",
   "execution_count": 14,
   "id": "dramatic-apparel",
   "metadata": {},
   "outputs": [],
   "source": [
    "# Różnice pomiędzy kolejnymi wartościami\n",
    "df['price_diff'] = df['price'].shift(24).diff()\n",
    "df['price_derivative'] = df['price'].shift(24).diff().diff()"
   ]
  },
  {
   "cell_type": "code",
   "execution_count": 15,
   "id": "supreme-magnitude",
   "metadata": {},
   "outputs": [],
   "source": [
    "# Największa / najmniejsza wartość do wczoraj\n",
    "df['max_so_far'] = df['price'].shift(24).expanding().max()\n",
    "df['min_so_far'] = df['price'].shift(24).expanding().min()"
   ]
  },
  {
   "cell_type": "code",
   "execution_count": 16,
   "id": "literary-vampire",
   "metadata": {},
   "outputs": [],
   "source": [
    "# Średnia krocząca z wykładzaniem wykładniczym\n",
    "df['ema_1_12'] = df['price'].shift(1*24).ewm(span=12).mean()\n",
    "df['ema_1_24'] = df['price'].shift(1*24).ewm(span=24).mean()\n",
    "df['ema_7_6'] = df['price'].shift(7*24).ewm(span=6).mean()\n",
    "df['ema_7_24'] = df['price'].shift(7*24).ewm(span=24).mean()\n",
    "df['ema_8_6'] = df['price'].shift(8*24).ewm(span=6).mean()\n",
    "df['ema_8_24'] = df['price'].shift(8*24).ewm(span=24).mean()"
   ]
  },
  {
   "cell_type": "code",
   "execution_count": 17,
   "id": "czech-florence",
   "metadata": {},
   "outputs": [],
   "source": [
    "# Statystyki per\n",
    "# - rok\n",
    "# - rok i dzień tygodnia\n",
    "# - rok, dzień tygodnia i godzina\n",
    "for s in ['mean', 'median', 'std', 'min', 'max']:\n",
    "    df[f'{s}_price_same_year'] = df.groupby(['date_year'])['price'].transform(s)\n",
    "    df[f'{s}_price_same_year_dayofweek'] = df.groupby(['date_year', 'date_dayofweek'])['price'].transform(s)\n",
    "    df[f'{s}_price_same_year_dayofweek_hour'] = df.groupby(['date_year', 'date_dayofweek', 'date_hour'])['price'].transform(s)"
   ]
  },
  {
   "cell_type": "code",
   "execution_count": 18,
   "id": "surprising-flour",
   "metadata": {},
   "outputs": [],
   "source": [
    "# statystyki w odniesieniu do poprzedniego roku\n",
    "\n",
    "df['date_year_previous'] = df['date_year'] - 1\n",
    "\n",
    "for s in ['mean', 'std']:\n",
    "    yearly_stats = df.groupby(['date_year', 'date_dayofweek', 'date_hour'])['price'].agg(s).reset_index()\n",
    "    yearly_stats.columns = ['date_year', 'date_dayofweek', 'date_hour', f'{s}_price_previous_year_dayofweek_hour']\n",
    "\n",
    "    df = df.reset_index()\n",
    "    df = pd.merge(df, yearly_stats, how='left', left_on=['date_year_previous', 'date_dayofweek', 'date_hour'], right_on=['date_year', 'date_dayofweek', 'date_hour'])\n",
    "    df.drop(columns='date_year_y', inplace=True)\n",
    "    df.rename(columns={'date_year_x': 'date_year'}, inplace=True)\n",
    "    df = df.rename(columns={'index': 'datetime'})\n",
    "    df.index = df['datetime']\n",
    "    df = df.drop(columns=['datetime'])\n",
    "    \n",
    "df['date_year_previous'] = df['date_year'] - 1\n",
    "\n",
    "for s in ['mean', 'std']:\n",
    "    yearly_stats = df.groupby(['date_year', 'date_dayofweek'])['price'].agg(s).reset_index()\n",
    "    yearly_stats.columns = ['date_year', 'date_dayofweek', f'{s}_price_previous_year_dayofweek']\n",
    "\n",
    "    df = df.reset_index()\n",
    "    df = pd.merge(df, yearly_stats, how='left', left_on=['date_year_previous', 'date_dayofweek'], right_on=['date_year', 'date_dayofweek'])\n",
    "    df.drop(columns='date_year_y', inplace=True)\n",
    "    df.rename(columns={'date_year_x': 'date_year'}, inplace=True)\n",
    "    df = df.rename(columns={'index': 'datetime'})\n",
    "    df.index = df['datetime']\n",
    "    df = df.drop(columns=['datetime'])\n",
    "    \n",
    "df['date_year_previous'] = df['date_year'] - 1\n",
    "\n",
    "for s in ['mean', 'std']:\n",
    "    yearly_stats = df.groupby(['date_year', 'date_month', 'date_hour'])['price'].agg(s).reset_index()\n",
    "    yearly_stats.columns = ['date_year', 'date_month', 'date_hour', f'{s}_price_previous_year_month_hour']\n",
    "\n",
    "    df = df.reset_index()\n",
    "    df = pd.merge(df, yearly_stats, how='left', left_on=['date_year_previous', 'date_month', 'date_hour'], right_on=['date_year', 'date_month', 'date_hour'])\n",
    "    df.drop(columns='date_year_y', inplace=True)\n",
    "    df.rename(columns={'date_year_x': 'date_year'}, inplace=True)\n",
    "    df = df.rename(columns={'index': 'datetime'})\n",
    "    df.index = df['datetime']\n",
    "    df = df.drop(columns=['datetime'])\n",
    "    \n",
    "df['date_year_previous'] = df['date_year'] - 1\n",
    "\n",
    "for s in ['mean', 'std']:\n",
    "    yearly_stats = df.groupby(['date_year', 'date_month'])['price'].agg(s).reset_index()\n",
    "    yearly_stats.columns = ['date_year', 'date_month', f'{s}_price_previous_year_month']\n",
    "\n",
    "    df = df.reset_index()\n",
    "    df = pd.merge(df, yearly_stats, how='left', left_on=['date_year_previous', 'date_month'], right_on=['date_year', 'date_month'])\n",
    "    df.drop(columns='date_year_y', inplace=True)\n",
    "    df.rename(columns={'date_year_x': 'date_year'}, inplace=True)\n",
    "    df = df.rename(columns={'index': 'datetime'})\n",
    "    df.index = df['datetime']\n",
    "    df = df.drop(columns=['datetime'])"
   ]
  },
  {
   "cell_type": "code",
   "execution_count": 19,
   "id": "improved-tender",
   "metadata": {},
   "outputs": [],
   "source": [
    "# zabawy z procentami\n",
    "for i in [1]:\n",
    "    for j in range(1, 25):\n",
    "        df[f'change_{i}_{j}'] = df['price'].shift(i*24).pct_change(j)\n",
    "        \n",
    "df['cumulative_change_7'] = df['price'].shift(24).pct_change(24*7)\n",
    "df['cumulative_change_28'] = df['price'].shift(24).pct_change(24*28)\n",
    "df['cumulative_change_91'] = df['price'].shift(24).pct_change(24*91)\n",
    "df['cumulative_change_365'] = df['price'].shift(24).pct_change(24*365)\n",
    "\n",
    "df['price_ratio_1'] = df['price'].shift(24) / df['price'].shift(24*2)\n",
    "df['price_ratio_7'] = df['price'].shift(24) / df['price'].shift(24*7) \n",
    "df['price_ratio_28'] = df['price'].shift(24) / df['price'].shift(24*28) \n",
    "df['price_ratio_91'] = df['price'].shift(24) / df['price'].shift(24*91) \n",
    "df['price_ratio_365'] = df['price'].shift(24) / df['price'].shift(24*365) "
   ]
  },
  {
   "cell_type": "code",
   "execution_count": 20,
   "id": "close-waste",
   "metadata": {},
   "outputs": [],
   "source": [
    "# zmiana względem potencjalnego max (wtorek) i min (sobota)\n",
    "\n",
    "df['weekday'] = df.index.weekday\n",
    "df_daily = df['price'].resample('D').mean().to_frame()\n",
    "df_daily['weekday'] = df['weekday'].resample('D').first()\n",
    "df_daily['avg_change_prev_sat_tue'] = np.nan\n",
    "df_daily['avg_change_tue_next_sat'] = np.nan\n",
    "df_daily['avg_change_from_last_tue'] = np.nan\n",
    "df_daily['avg_change_from_last_sat'] = np.nan\n",
    "\n",
    "# szukamy indeksów wtorków i sobót\n",
    "tuesdays = df_daily[df_daily['weekday'] == 1].index\n",
    "saturdays = df_daily[df_daily['weekday'] == 5].index\n",
    "\n",
    "for i in range(0, len(tuesdays)-2): \n",
    "    # sbliczamy średnią dzienną zmianę ceny od wtorku do soboty i od soboty do wtorku\n",
    "    if tuesdays[i-1] in df_daily.index and saturdays[i-1] in df_daily.index and tuesdays[i] in df_daily.index and saturdays[i] in df_daily.index:\n",
    "        price_diff_prev_sat_tue = df_daily.loc[tuesdays[i], 'price'] - df_daily.loc[saturdays[i], 'price']\n",
    "        price_diff_tue_next_sat = df_daily.loc[saturdays[i+1], 'price'] - df_daily.loc[tuesdays[i], 'price']\n",
    "        \n",
    "        df_daily.loc[(tuesdays[i]+timedelta(days=8)):(tuesdays[i+1]+timedelta(days=8)), 'avg_change_prev_sat_tue'] = price_diff_prev_sat_tue / 3\n",
    "        df_daily.loc[(saturdays[i+1]+timedelta(days=8)):(saturdays[i+2]+timedelta(days=8)), 'avg_change_tue_next_sat'] = price_diff_tue_next_sat / 4\n",
    "\n",
    "\n",
    "for i in range(0, len(tuesdays)-1): \n",
    "    # Obliczamy średnią dzienną zmianę ceny od ostatniego wtorku/soboty do dnia przed danym dniem\n",
    "    if tuesdays[i-1] in df_daily.index and saturdays[i-1] in df_daily.index and tuesdays[i] in df_daily.index and saturdays[i] in df_daily.index:\n",
    "        for j in pd.date_range(start=tuesdays[i] + pd.DateOffset(days=1), end=tuesdays[i+1]):\n",
    "            price_diff_from_last_tue = df_daily.loc[j, 'price'] - df_daily.loc[tuesdays[i], 'price']\n",
    "            df_daily.loc[j+pd.DateOffset(days=1), 'avg_change_from_last_tue'] = price_diff_from_last_tue / (j - tuesdays[i]).days\n",
    "\n",
    "        for j in pd.date_range(start=saturdays[i] + pd.DateOffset(days=1), end=saturdays[i+1]):\n",
    "            price_diff_from_last_sat = df_daily.loc[j, 'price'] - df_daily.loc[saturdays[i], 'price']\n",
    "            df_daily.loc[j+pd.DateOffset(days=1), 'avg_change_from_last_sat'] = price_diff_from_last_sat / (j - saturdays[i]).days\n",
    "            \n",
    "df_daily['date_year'] = df_daily.index.year\n",
    "df_daily['date_month'] = df_daily.index.month\n",
    "df_daily['date_day'] = df_daily.index.day\n",
    "\n",
    "df = df.reset_index().merge(df_daily[['date_year', 'date_month', 'date_day', \n",
    "                   'avg_change_prev_sat_tue', 'avg_change_tue_next_sat', 'avg_change_from_last_tue', 'avg_change_from_last_sat']], \n",
    "         how='left', on=['date_year', 'date_month', 'date_day'])\n",
    "df = df.set_index(df.datetime)\n",
    "df.drop(columns=['datetime'], inplace=True)"
   ]
  },
  {
   "cell_type": "code",
   "execution_count": 21,
   "id": "suspected-assault",
   "metadata": {},
   "outputs": [
    {
     "name": "stdout",
     "output_type": "stream",
     "text": [
      "rolling_1_days_shift_1_days_mean_high_price_count 720\n",
      "rolling_1_days_shift_1_days_median_high_price_count 720\n",
      "rolling_7_days_shift_1_days_mean_high_price_count 720\n",
      "rolling_7_days_shift_1_days_median_high_price_count 720\n",
      "price_ratio_28 120\n",
      "price_ratio_365 72\n"
     ]
    }
   ],
   "source": [
    "# usuwam zmienne, które mają co najmniej 3 dni braków na zbiorze testowym\n",
    "for f in [x for x in df.columns if x not in ['price', 'price_log', 'date_day', 'weekday', 'is_test']]:\n",
    "    if df[df.is_test][f].isna().sum() > 48:\n",
    "        print(f, df[df.is_test][f].isna().sum())\n",
    "        df.drop(columns = f)"
   ]
  },
  {
   "cell_type": "markdown",
   "id": "juvenile-leave",
   "metadata": {},
   "source": [
    "### Logarytmy\n",
    "Sporo rozkładów jest skośnych, ale teoretycznie nie działa to na xgboost, lightgbm ani catboost"
   ]
  },
  {
   "cell_type": "code",
   "execution_count": 22,
   "id": "announced-laundry",
   "metadata": {},
   "outputs": [],
   "source": [
    "for c in [x for x in df.columns if (x[:4] == 'lag_') | (x[:8] == 'rolling_')]:\n",
    "    df[f'{c}_log'] = np.log1p(df[c])"
   ]
  },
  {
   "cell_type": "markdown",
   "id": "classical-genetics",
   "metadata": {},
   "source": [
    "### Zmienna celu jako logarytm\n",
    "Tutaj akurat to pomaga"
   ]
  },
  {
   "cell_type": "code",
   "execution_count": 23,
   "id": "bizarre-disclaimer",
   "metadata": {},
   "outputs": [],
   "source": [
    "df['price_log'] = np.log1p(df['price'])"
   ]
  },
  {
   "cell_type": "markdown",
   "id": "congressional-format",
   "metadata": {},
   "source": [
    "## Model Selection"
   ]
  },
  {
   "cell_type": "code",
   "execution_count": 24,
   "id": "postal-harrison",
   "metadata": {},
   "outputs": [],
   "source": [
    "# 2020 jest bardzo stabilny\n",
    "# pierwszy dostępny rok tylko na potrzeby policzenia statystyk\n",
    "df = df[(df.date_year >= 2020)]"
   ]
  },
  {
   "cell_type": "code",
   "execution_count": 25,
   "id": "korean-ceramic",
   "metadata": {},
   "outputs": [],
   "source": [
    "df_train = df[~df['is_test'] & ~df['price'].isna()].drop(columns='is_test')\n",
    "df_test  = df[df['is_test']].drop(columns='is_test')\n",
    "\n",
    "# Pewnie możnaby to fajniej zrobić\n",
    "df_train.fillna(-1, inplace=True)\n",
    "df_test.fillna(-1, inplace=True)"
   ]
  },
  {
   "cell_type": "markdown",
   "id": "greenhouse-rally",
   "metadata": {},
   "source": [
    "Test kilku modeli"
   ]
  },
  {
   "cell_type": "code",
   "execution_count": 26,
   "id": "abandoned-supervisor",
   "metadata": {},
   "outputs": [
    {
     "name": "stdout",
     "output_type": "stream",
     "text": [
      "14.345944953863013\n",
      "13.499050710080137\n",
      "14.275667296769297\n",
      "12.784011178674081\n",
      "14.099281520773285\n",
      "XGBoost Average MAPE: 13.800791132031964\n",
      "13.717950224452267\n",
      "12.973119164606844\n",
      "14.11684107802795\n",
      "12.518834125305006\n",
      "13.607984285714553\n",
      "LightGBM Average MAPE: 13.386945775621323\n",
      "13.514207872686473\n",
      "12.96280644885095\n",
      "13.368547414054706\n",
      "12.077861677819214\n",
      "13.114047447154755\n",
      "CatBoost Average MAPE: 13.007494172113221\n"
     ]
    }
   ],
   "source": [
    "target = 'price_log'\n",
    "feats = [x for x in df_train.columns if x not in ['price', 'price_log', 'date_day', 'weekday', 'is_test']]\n",
    "\n",
    "X = df_train[feats]\n",
    "y = df_train[target]\n",
    "\n",
    "# Define groups based on day\n",
    "groups = df_train['date_day']\n",
    "\n",
    "# Initialize GroupKFold\n",
    "gkf = GroupKFold(n_splits=5)\n",
    "\n",
    "models = [\n",
    "    ('XGBoost', XGBRegressor(random_state=42)),\n",
    "    ('LightGBM', LGBMRegressor(random_state=42)),\n",
    "    ('CatBoost', CatBoostRegressor(random_state=42, verbose=0)),\n",
    "]\n",
    "\n",
    "for name, model in models:\n",
    "    mape_scores = []\n",
    "    for train_idx, test_idx in gkf.split(X, y, groups):\n",
    "        X_train, X_test = X.iloc[train_idx], X.iloc[test_idx]\n",
    "        y_train, y_test = y.iloc[train_idx], y.iloc[test_idx]\n",
    "        model.fit(X_train, y_train)\n",
    "        predictions = model.predict(X_test)\n",
    "        mape = mean_absolute_percentage_error_log(y_test, predictions)\n",
    "        print(mape)\n",
    "        mape_scores.append(mape)\n",
    "    print(f'{name} Average MAPE: {np.mean(mape_scores)}')"
   ]
  },
  {
   "cell_type": "markdown",
   "id": "present-cologne",
   "metadata": {},
   "source": [
    "## Features Selection"
   ]
  },
  {
   "cell_type": "code",
   "execution_count": 27,
   "id": "coordinate-syndicate",
   "metadata": {},
   "outputs": [],
   "source": [
    "target = 'price_log'\n",
    "feats = [x for x in df_train.columns if x not in ['price', 'price_log', 'date_day', 'weekday', 'is_test']]\n",
    "\n",
    "X = df_train[feats]\n",
    "y = df_train[target]\n",
    "\n",
    "# Define groups based on day\n",
    "groups = df_train['date_day']\n",
    "\n",
    "# Initialize GroupKFold\n",
    "gkf = GroupKFold(n_splits=5)\n",
    "\n",
    "# Define your model\n",
    "model = XGBRegressor(random_state=42)\n",
    "\n",
    "# Permutation importance results will be stored in this dataframe\n",
    "importances = pd.DataFrame()\n",
    "\n",
    "# Apply group k-fold cross-validation\n",
    "for train_idx, test_idx in gkf.split(X, y, groups):\n",
    "    X_train, X_test = X.iloc[train_idx], X.iloc[test_idx]\n",
    "    y_train, y_test = y.iloc[train_idx], y.iloc[test_idx]\n",
    "    \n",
    "    # Fit the model on the training data\n",
    "    model.fit(X_train, y_train)\n",
    "    \n",
    "    # Calculate permutation importances\n",
    "    perm = PermutationImportance(model, random_state=1).fit(X_test, y_test)\n",
    "    \n",
    "    # Get importances\n",
    "    imp_df = eli5.explain_weights_df(perm, feature_names = X_test.columns.tolist())\n",
    "    importances = pd.concat([importances, imp_df])\n",
    "    \n",
    "    print(imp_df.head(20))\n",
    "\n",
    "# Average feature importances over all splits\n",
    "average_importances = importances.groupby('feature').mean().sort_values(by='weight', ascending=False)\n",
    "\n",
    "print(average_importances)"
   ]
  },
  {
   "cell_type": "code",
   "execution_count": 28,
   "id": "least-continuity",
   "metadata": {},
   "outputs": [],
   "source": [
    "average_importances.head(30).index.tolist()"
   ]
  },
  {
   "cell_type": "markdown",
   "id": "employed-restriction",
   "metadata": {},
   "source": [
    "## Parameters optimization"
   ]
  },
  {
   "cell_type": "code",
   "execution_count": 29,
   "id": "broken-fellowship",
   "metadata": {},
   "outputs": [],
   "source": [
    "target = 'price_log'\n",
    "feats = [\n",
    "    'max_so_far',\n",
    "    'lag_24_hours',\n",
    "    'ema_7_6',\n",
    "    'ema_1_12',\n",
    "    'mean_price_same_year_dayofweek_hour',\n",
    "    'std_price_same_year_dayofweek_hour',\n",
    "    'mean_price_previous_year_month_hour',\n",
    "    'median_price_same_year_dayofweek_hour',\n",
    "    'avg_change_from_last_tue',\n",
    "    'date_week',\n",
    "    'lag_168_hours',\n",
    "    'lag_72_hours',\n",
    "    'lag_144_hours',\n",
    "    'min_price_same_year_dayofweek_hour',\n",
    "    'rolling_7_days_shift_1_days_std',\n",
    "    'lag_96_hours',\n",
    "    'rolling_5_days_shift_8_days_median',\n",
    "    'date_dayofweek',\n",
    "    'rolling_7_days_shift_1_days_mean',\n",
    "    'std_price_previous_year_month',\n",
    "    'rolling_3_days_shift_8_days_min',\n",
    "    'rolling_1_days_shift_1_days_std',\n",
    "    'rolling_3_days_shift_1_days_max',\n",
    "    'min_price_same_year_dayofweek',\n",
    "    'rolling_6_days_shift_8_days_min',\n",
    "    'max_price_same_year_dayofweek_hour',\n",
    "    'avg_change_from_last_sat',\n",
    "    'rolling_1_days_shift_8_days_median',\n",
    "    'rolling_3_days_shift_8_days_median',\n",
    "    'season'\n",
    "]"
   ]
  },
  {
   "cell_type": "code",
   "execution_count": 30,
   "id": "wooden-worry",
   "metadata": {},
   "outputs": [],
   "source": [
    "X = df_train[feats]\n",
    "y = df_train[target]\n",
    "\n",
    "# Define groups based on day\n",
    "groups = df_train['date_day']\n",
    "\n",
    "# Initialize GroupKFold\n",
    "gkf = GroupKFold(n_splits=5)\n",
    "\n",
    "def objective(trial: Trial):\n",
    "    params = {\n",
    "        'n_estimators': trial.suggest_int('n_estimators', 50, 1000),\n",
    "        'max_depth': trial.suggest_int('max_depth', 2, 15),\n",
    "        'learning_rate': trial.suggest_loguniform('learning_rate', 0.03, 0.15),\n",
    "        'subsample': trial.suggest_uniform('subsample', 0.5, 1.0),\n",
    "        'colsample_bytree': trial.suggest_uniform('colsample_bytree', 0.5, 1.0),\n",
    "    }\n",
    "    \n",
    "    model = XGBRegressor(**params, random_state=42)\n",
    "\n",
    "    mape_scores = []\n",
    "\n",
    "    for train_idx, test_idx in gkf.split(X, y, groups):\n",
    "        X_train, X_test = X.iloc[train_idx], X.iloc[test_idx]\n",
    "        y_train, y_test = y.iloc[train_idx], y.iloc[test_idx]\n",
    "        model.fit(X_train, y_train)\n",
    "        predictions = model.predict(X_test)\n",
    "        mape = mean_absolute_percentage_error_log(y_test, predictions)\n",
    "        mape_scores.append(mape)\n",
    "    \n",
    "    return np.mean(mape_scores)\n",
    "\n",
    "study = create_study(direction='minimize')\n",
    "study.optimize(objective, n_trials=50)\n",
    "\n",
    "print('Best trial: score {}, params {}'.format(study.best_trial.value, study.best_trial.params))"
   ]
  },
  {
   "cell_type": "code",
   "execution_count": 31,
   "id": "demanding-costs",
   "metadata": {},
   "outputs": [
    {
     "name": "stdout",
     "output_type": "stream",
     "text": [
      "12.941957072313324\n",
      "12.820780705585896\n",
      "13.327624197272744\n",
      "12.861287376135158\n",
      "12.793940310958247\n",
      "XGBoost Average MAPE: 12.949117932453072\n"
     ]
    }
   ],
   "source": [
    "params = {'n_estimators': 400, 'max_depth': 8, 'learning_rate': 0.05, 'subsample': 0.8, 'colsample_bytree': 0.815}\n",
    "\n",
    "X = df_train[feats]\n",
    "y = df_train[target]\n",
    "\n",
    "# Define groups based on day\n",
    "groups = df_train['date_day']\n",
    "\n",
    "# Initialize GroupKFold\n",
    "gkf = GroupKFold(n_splits=5)\n",
    "\n",
    "models = [\n",
    "    ('XGBoost', XGBRegressor(**params, random_state=42)),\n",
    "#     ('LightGBM', LGBMRegressor(random_state=42)),\n",
    "#     ('CatBoost', CatBoostRegressor(random_state=42, verbose=0)),\n",
    "]\n",
    "\n",
    "for name, model in models:\n",
    "    mape_scores = []\n",
    "    for train_idx, test_idx in gkf.split(X, y, groups):\n",
    "        X_train, X_test = X.iloc[train_idx], X.iloc[test_idx]\n",
    "        y_train, y_test = y.iloc[train_idx], y.iloc[test_idx]\n",
    "        model.fit(X_train, y_train)\n",
    "        predictions = model.predict(X_test)\n",
    "        mape = mean_absolute_percentage_error_log(y_test, predictions)\n",
    "        print(mape)\n",
    "        mape_scores.append(mape)\n",
    "    print(f'{name} Average MAPE: {np.mean(mape_scores)}')"
   ]
  },
  {
   "cell_type": "markdown",
   "id": "psychological-threshold",
   "metadata": {},
   "source": [
    "## Submission"
   ]
  },
  {
   "cell_type": "code",
   "execution_count": 33,
   "id": "centered-sister",
   "metadata": {},
   "outputs": [
    {
     "name": "stdout",
     "output_type": "stream",
     "text": [
      "12.941957072313324\n",
      "12.820780705585896\n",
      "13.327624197272744\n",
      "12.861287376135158\n",
      "12.793940310958247\n"
     ]
    }
   ],
   "source": [
    "X = df_train[feats]\n",
    "y = df_train[target]\n",
    "\n",
    "# Define groups based on day\n",
    "groups = df_train['date_day']\n",
    "\n",
    "# Initialize GroupKFold\n",
    "gkf = GroupKFold(n_splits=5)\n",
    "\n",
    "# This will store your final predictions\n",
    "valid_predictions = np.zeros(len(df_train))\n",
    "final_predictions = np.zeros(len(df_test))\n",
    "\n",
    "# Apply K-fold cross validation\n",
    "for train_idx, test_idx in gkf.split(X, y, groups):\n",
    "    X_train, X_test = X.iloc[train_idx], X.iloc[test_idx]\n",
    "    y_train, y_test = y.iloc[train_idx], y.iloc[test_idx]\n",
    "    \n",
    "    # Train the model\n",
    "    model = XGBRegressor(**params, random_state=42)\n",
    "    model.fit(X_train, y_train)\n",
    "    \n",
    "    # TEST \n",
    "    print(mean_absolute_percentage_error_log(y_test, model.predict(X_test[feats])))\n",
    "    \n",
    "    # TEST na wykres \n",
    "    pred = model.predict(df_train[feats])  \n",
    "    valid_predictions += np.expm1(pred) / gkf.get_n_splits()\n",
    "    \n",
    "    # Make predictions on the validation set\n",
    "    predictions = model.predict(df_test[feats])\n",
    "    \n",
    "    # Average the predictions\n",
    "    final_predictions += np.expm1(predictions) / gkf.get_n_splits()\n",
    "\n",
    "# Print or do something with the final predictions\n",
    "df_train['pred_price'] = valid_predictions\n",
    "df_test['pred_price'] = final_predictions"
   ]
  },
  {
   "cell_type": "markdown",
   "id": "answering-preservation",
   "metadata": {},
   "source": [
    "TEST"
   ]
  },
  {
   "cell_type": "code",
   "execution_count": 34,
   "id": "fitting-nation",
   "metadata": {},
   "outputs": [],
   "source": [
    "def plot_compare_stats(df1, df2, f, t, p='D'):\n",
    "    df1_daily_mean = df1[(df1.index >= f) & (df1.index <= t)].resample(p).mean()\n",
    "    df2_daily_mean = df2[(df2.index >= f) & (df2.index <= t)].resample(p).mean()\n",
    "\n",
    "    # not nan\n",
    "    A = df1_daily_mean[df1_daily_mean['price'] > 0]['price']\n",
    "    B = df1_daily_mean[df1_daily_mean['pred_price'] > 0]['pred_price']\n",
    "    C = df2_daily_mean[df2_daily_mean['pred_price'] > 0]['pred_price']\n",
    "\n",
    "    plt.figure(figsize=(14, 8))\n",
    "    plt.plot(A.index, A, color='black', label='price')\n",
    "    plt.plot(B.index, B, color='green', label='pred price')\n",
    "    plt.scatter(C.index, C, color='red', label='submit price')\n",
    "\n",
    "    plt.xlabel('Day')\n",
    "    plt.ylabel('Price')\n",
    "    plt.title(f'Mean Energy Prices in Poland')\n",
    "    plt.legend()\n",
    "    plt.show()"
   ]
  },
  {
   "cell_type": "code",
   "execution_count": 35,
   "id": "supported-visit",
   "metadata": {},
   "outputs": [
    {
     "data": {
      "image/png": "[encoded data removed]",
      "text/plain": [
       "<Figure size 1008x576 with 1 Axes>"
      ]
     },
     "metadata": {
      "needs_background": "light"
     },
     "output_type": "display_data"
    }
   ],
   "source": [
    "plot_compare_stats(df_train, df_test, f='2020-01-01 00:00:00', t='2022-12-31 23:00:00')"
   ]
  },
  {
   "cell_type": "code",
   "execution_count": 38,
   "id": "boring-effort",
   "metadata": {},
   "outputs": [],
   "source": [
    "submit = df_test[['pred_price']].reset_index().rename(columns={'pred_price': 'price', 'index': 'datetime'})\n",
    "submit.to_csv(\"xgb_model_MAPE_12_submit.csv\", index=False)"
   ]
  },
  {
   "cell_type": "code",
   "execution_count": 37,
   "id": "smooth-clinton",
   "metadata": {},
   "outputs": [
    {
     "data": {
      "text/html": [
       "<div>\n",
       "<style scoped>\n",
       "    .dataframe tbody tr th:only-of-type {\n",
       "        vertical-align: middle;\n",
       "    }\n",
       "\n",
       "    .dataframe tbody tr th {\n",
       "        vertical-align: top;\n",
       "    }\n",
       "\n",
       "    .dataframe thead th {\n",
       "        text-align: right;\n",
       "    }\n",
       "</style>\n",
       "<table border=\"1\" class=\"dataframe\">\n",
       "  <thead>\n",
       "    <tr style=\"text-align: right;\">\n",
       "      <th></th>\n",
       "      <th>datetime</th>\n",
       "      <th>price</th>\n",
       "    </tr>\n",
       "  </thead>\n",
       "  <tbody>\n",
       "    <tr>\n",
       "      <th>0</th>\n",
       "      <td>2020-08-27 00:00:00</td>\n",
       "      <td>218.509827</td>\n",
       "    </tr>\n",
       "    <tr>\n",
       "      <th>1</th>\n",
       "      <td>2020-08-27 01:00:00</td>\n",
       "      <td>212.580551</td>\n",
       "    </tr>\n",
       "    <tr>\n",
       "      <th>2</th>\n",
       "      <td>2020-08-27 02:00:00</td>\n",
       "      <td>208.460850</td>\n",
       "    </tr>\n",
       "    <tr>\n",
       "      <th>3</th>\n",
       "      <td>2020-08-27 03:00:00</td>\n",
       "      <td>205.896275</td>\n",
       "    </tr>\n",
       "    <tr>\n",
       "      <th>4</th>\n",
       "      <td>2020-08-27 04:00:00</td>\n",
       "      <td>203.094666</td>\n",
       "    </tr>\n",
       "    <tr>\n",
       "      <th>...</th>\n",
       "      <td>...</td>\n",
       "      <td>...</td>\n",
       "    </tr>\n",
       "    <tr>\n",
       "      <th>715</th>\n",
       "      <td>2022-10-23 19:00:00</td>\n",
       "      <td>850.699631</td>\n",
       "    </tr>\n",
       "    <tr>\n",
       "      <th>716</th>\n",
       "      <td>2022-10-23 20:00:00</td>\n",
       "      <td>784.659637</td>\n",
       "    </tr>\n",
       "    <tr>\n",
       "      <th>717</th>\n",
       "      <td>2022-10-23 21:00:00</td>\n",
       "      <td>687.739487</td>\n",
       "    </tr>\n",
       "    <tr>\n",
       "      <th>718</th>\n",
       "      <td>2022-10-23 22:00:00</td>\n",
       "      <td>684.090134</td>\n",
       "    </tr>\n",
       "    <tr>\n",
       "      <th>719</th>\n",
       "      <td>2022-10-23 23:00:00</td>\n",
       "      <td>588.050804</td>\n",
       "    </tr>\n",
       "  </tbody>\n",
       "</table>\n",
       "<p>720 rows × 2 columns</p>\n",
       "</div>"
      ],
      "text/plain": [
       "               datetime       price\n",
       "0   2020-08-27 00:00:00  218.509827\n",
       "1   2020-08-27 01:00:00  212.580551\n",
       "2   2020-08-27 02:00:00  208.460850\n",
       "3   2020-08-27 03:00:00  205.896275\n",
       "4   2020-08-27 04:00:00  203.094666\n",
       "..                  ...         ...\n",
       "715 2022-10-23 19:00:00  850.699631\n",
       "716 2022-10-23 20:00:00  784.659637\n",
       "717 2022-10-23 21:00:00  687.739487\n",
       "718 2022-10-23 22:00:00  684.090134\n",
       "719 2022-10-23 23:00:00  588.050804\n",
       "\n",
       "[720 rows x 2 columns]"
      ]
     },
     "execution_count": 37,
     "metadata": {},
     "output_type": "execute_result"
    }
   ],
   "source": [
    "submit"
   ]
  },
  {
   "cell_type": "markdown",
   "id": "environmental-relay",
   "metadata": {},
   "source": [
    "Wynik na Kaggle"
   ]
  },
  {
   "attachments": {
    "obraz.png": {
     "image/png": "[encoded data removed]"
    }
   },
   "cell_type": "markdown",
   "id": "becoming-overhead",
   "metadata": {},
   "source": [
    "![obraz.png](attachment:obraz.png)"
   ]
  },
  {
   "cell_type": "code",
   "execution_count": null,
   "id": "based-prague",
   "metadata": {},
   "outputs": [],
   "source": []
  }
 ],
 "metadata": {
  "kernelspec": {
   "display_name": "Python 3",
   "language": "python",
   "name": "python3"
  },
  "language_info": {
   "codemirror_mode": {
    "name": "ipython",
    "version": 3
   },
   "file_extension": ".py",
   "mimetype": "text/x-python",
   "name": "python",
   "nbconvert_exporter": "python",
   "pygments_lexer": "ipython3",
   "version": "3.8.6"
  }
 },
 "nbformat": 4,
 "nbformat_minor": 5
}
